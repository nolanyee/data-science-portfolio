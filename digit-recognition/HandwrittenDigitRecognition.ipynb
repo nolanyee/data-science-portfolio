{
 "cells": [
  {
   "cell_type": "markdown",
   "metadata": {},
   "source": [
    "# Handwritten Digit Recognition\n",
    "\n",
    "The goal of this project is to create a model classify grayscale 28 x 28 pixel images of handwritten digits. The data for each image is already in flattened format."
   ]
  },
  {
   "cell_type": "code",
   "execution_count": 7,
   "metadata": {},
   "outputs": [],
   "source": [
    "import sys\n",
    "!{sys.executable} -m pip install tensorflow\n",
    "import tensorflow as tf\n",
    "from tensorflow import keras\n",
    "import numpy as np\n",
    "import pandas as pd\n",
    "import matplotlib.pyplot as plt"
   ]
  },
  {
   "cell_type": "markdown",
   "metadata": {},
   "source": [
    "### Importing, Previewing, and Preprocessing Datasets\n",
    "\n",
    "Import the datasets."
   ]
  },
  {
   "cell_type": "code",
   "execution_count": 8,
   "metadata": {},
   "outputs": [],
   "source": [
    "train = pd.read_csv(r'C:\\Datasets\\traindigits.csv')\n",
    "test = pd.read_csv(r'C:\\Datasets\\testdigits.csv')"
   ]
  },
  {
   "cell_type": "markdown",
   "metadata": {},
   "source": [
    "Preview the dataset."
   ]
  },
  {
   "cell_type": "code",
   "execution_count": 31,
   "metadata": {
    "scrolled": true
   },
   "outputs": [
    {
     "data": {
      "text/html": [
       "<div>\n",
       "<style scoped>\n",
       "    .dataframe tbody tr th:only-of-type {\n",
       "        vertical-align: middle;\n",
       "    }\n",
       "\n",
       "    .dataframe tbody tr th {\n",
       "        vertical-align: top;\n",
       "    }\n",
       "\n",
       "    .dataframe thead th {\n",
       "        text-align: right;\n",
       "    }\n",
       "</style>\n",
       "<table border=\"1\" class=\"dataframe\">\n",
       "  <thead>\n",
       "    <tr style=\"text-align: right;\">\n",
       "      <th></th>\n",
       "      <th>label</th>\n",
       "      <th>pixel0</th>\n",
       "      <th>pixel1</th>\n",
       "      <th>pixel2</th>\n",
       "      <th>pixel3</th>\n",
       "      <th>pixel4</th>\n",
       "      <th>pixel5</th>\n",
       "      <th>pixel6</th>\n",
       "      <th>pixel7</th>\n",
       "      <th>pixel8</th>\n",
       "      <th>...</th>\n",
       "      <th>pixel774</th>\n",
       "      <th>pixel775</th>\n",
       "      <th>pixel776</th>\n",
       "      <th>pixel777</th>\n",
       "      <th>pixel778</th>\n",
       "      <th>pixel779</th>\n",
       "      <th>pixel780</th>\n",
       "      <th>pixel781</th>\n",
       "      <th>pixel782</th>\n",
       "      <th>pixel783</th>\n",
       "    </tr>\n",
       "  </thead>\n",
       "  <tbody>\n",
       "    <tr>\n",
       "      <th>0</th>\n",
       "      <td>1</td>\n",
       "      <td>0</td>\n",
       "      <td>0</td>\n",
       "      <td>0</td>\n",
       "      <td>0</td>\n",
       "      <td>0</td>\n",
       "      <td>0</td>\n",
       "      <td>0</td>\n",
       "      <td>0</td>\n",
       "      <td>0</td>\n",
       "      <td>...</td>\n",
       "      <td>0</td>\n",
       "      <td>0</td>\n",
       "      <td>0</td>\n",
       "      <td>0</td>\n",
       "      <td>0</td>\n",
       "      <td>0</td>\n",
       "      <td>0</td>\n",
       "      <td>0</td>\n",
       "      <td>0</td>\n",
       "      <td>0</td>\n",
       "    </tr>\n",
       "    <tr>\n",
       "      <th>1</th>\n",
       "      <td>0</td>\n",
       "      <td>0</td>\n",
       "      <td>0</td>\n",
       "      <td>0</td>\n",
       "      <td>0</td>\n",
       "      <td>0</td>\n",
       "      <td>0</td>\n",
       "      <td>0</td>\n",
       "      <td>0</td>\n",
       "      <td>0</td>\n",
       "      <td>...</td>\n",
       "      <td>0</td>\n",
       "      <td>0</td>\n",
       "      <td>0</td>\n",
       "      <td>0</td>\n",
       "      <td>0</td>\n",
       "      <td>0</td>\n",
       "      <td>0</td>\n",
       "      <td>0</td>\n",
       "      <td>0</td>\n",
       "      <td>0</td>\n",
       "    </tr>\n",
       "    <tr>\n",
       "      <th>2</th>\n",
       "      <td>1</td>\n",
       "      <td>0</td>\n",
       "      <td>0</td>\n",
       "      <td>0</td>\n",
       "      <td>0</td>\n",
       "      <td>0</td>\n",
       "      <td>0</td>\n",
       "      <td>0</td>\n",
       "      <td>0</td>\n",
       "      <td>0</td>\n",
       "      <td>...</td>\n",
       "      <td>0</td>\n",
       "      <td>0</td>\n",
       "      <td>0</td>\n",
       "      <td>0</td>\n",
       "      <td>0</td>\n",
       "      <td>0</td>\n",
       "      <td>0</td>\n",
       "      <td>0</td>\n",
       "      <td>0</td>\n",
       "      <td>0</td>\n",
       "    </tr>\n",
       "    <tr>\n",
       "      <th>3</th>\n",
       "      <td>4</td>\n",
       "      <td>0</td>\n",
       "      <td>0</td>\n",
       "      <td>0</td>\n",
       "      <td>0</td>\n",
       "      <td>0</td>\n",
       "      <td>0</td>\n",
       "      <td>0</td>\n",
       "      <td>0</td>\n",
       "      <td>0</td>\n",
       "      <td>...</td>\n",
       "      <td>0</td>\n",
       "      <td>0</td>\n",
       "      <td>0</td>\n",
       "      <td>0</td>\n",
       "      <td>0</td>\n",
       "      <td>0</td>\n",
       "      <td>0</td>\n",
       "      <td>0</td>\n",
       "      <td>0</td>\n",
       "      <td>0</td>\n",
       "    </tr>\n",
       "    <tr>\n",
       "      <th>4</th>\n",
       "      <td>0</td>\n",
       "      <td>0</td>\n",
       "      <td>0</td>\n",
       "      <td>0</td>\n",
       "      <td>0</td>\n",
       "      <td>0</td>\n",
       "      <td>0</td>\n",
       "      <td>0</td>\n",
       "      <td>0</td>\n",
       "      <td>0</td>\n",
       "      <td>...</td>\n",
       "      <td>0</td>\n",
       "      <td>0</td>\n",
       "      <td>0</td>\n",
       "      <td>0</td>\n",
       "      <td>0</td>\n",
       "      <td>0</td>\n",
       "      <td>0</td>\n",
       "      <td>0</td>\n",
       "      <td>0</td>\n",
       "      <td>0</td>\n",
       "    </tr>\n",
       "    <tr>\n",
       "      <th>5</th>\n",
       "      <td>0</td>\n",
       "      <td>0</td>\n",
       "      <td>0</td>\n",
       "      <td>0</td>\n",
       "      <td>0</td>\n",
       "      <td>0</td>\n",
       "      <td>0</td>\n",
       "      <td>0</td>\n",
       "      <td>0</td>\n",
       "      <td>0</td>\n",
       "      <td>...</td>\n",
       "      <td>0</td>\n",
       "      <td>0</td>\n",
       "      <td>0</td>\n",
       "      <td>0</td>\n",
       "      <td>0</td>\n",
       "      <td>0</td>\n",
       "      <td>0</td>\n",
       "      <td>0</td>\n",
       "      <td>0</td>\n",
       "      <td>0</td>\n",
       "    </tr>\n",
       "    <tr>\n",
       "      <th>6</th>\n",
       "      <td>7</td>\n",
       "      <td>0</td>\n",
       "      <td>0</td>\n",
       "      <td>0</td>\n",
       "      <td>0</td>\n",
       "      <td>0</td>\n",
       "      <td>0</td>\n",
       "      <td>0</td>\n",
       "      <td>0</td>\n",
       "      <td>0</td>\n",
       "      <td>...</td>\n",
       "      <td>0</td>\n",
       "      <td>0</td>\n",
       "      <td>0</td>\n",
       "      <td>0</td>\n",
       "      <td>0</td>\n",
       "      <td>0</td>\n",
       "      <td>0</td>\n",
       "      <td>0</td>\n",
       "      <td>0</td>\n",
       "      <td>0</td>\n",
       "    </tr>\n",
       "    <tr>\n",
       "      <th>7</th>\n",
       "      <td>3</td>\n",
       "      <td>0</td>\n",
       "      <td>0</td>\n",
       "      <td>0</td>\n",
       "      <td>0</td>\n",
       "      <td>0</td>\n",
       "      <td>0</td>\n",
       "      <td>0</td>\n",
       "      <td>0</td>\n",
       "      <td>0</td>\n",
       "      <td>...</td>\n",
       "      <td>0</td>\n",
       "      <td>0</td>\n",
       "      <td>0</td>\n",
       "      <td>0</td>\n",
       "      <td>0</td>\n",
       "      <td>0</td>\n",
       "      <td>0</td>\n",
       "      <td>0</td>\n",
       "      <td>0</td>\n",
       "      <td>0</td>\n",
       "    </tr>\n",
       "    <tr>\n",
       "      <th>8</th>\n",
       "      <td>5</td>\n",
       "      <td>0</td>\n",
       "      <td>0</td>\n",
       "      <td>0</td>\n",
       "      <td>0</td>\n",
       "      <td>0</td>\n",
       "      <td>0</td>\n",
       "      <td>0</td>\n",
       "      <td>0</td>\n",
       "      <td>0</td>\n",
       "      <td>...</td>\n",
       "      <td>0</td>\n",
       "      <td>0</td>\n",
       "      <td>0</td>\n",
       "      <td>0</td>\n",
       "      <td>0</td>\n",
       "      <td>0</td>\n",
       "      <td>0</td>\n",
       "      <td>0</td>\n",
       "      <td>0</td>\n",
       "      <td>0</td>\n",
       "    </tr>\n",
       "    <tr>\n",
       "      <th>9</th>\n",
       "      <td>3</td>\n",
       "      <td>0</td>\n",
       "      <td>0</td>\n",
       "      <td>0</td>\n",
       "      <td>0</td>\n",
       "      <td>0</td>\n",
       "      <td>0</td>\n",
       "      <td>0</td>\n",
       "      <td>0</td>\n",
       "      <td>0</td>\n",
       "      <td>...</td>\n",
       "      <td>0</td>\n",
       "      <td>0</td>\n",
       "      <td>0</td>\n",
       "      <td>0</td>\n",
       "      <td>0</td>\n",
       "      <td>0</td>\n",
       "      <td>0</td>\n",
       "      <td>0</td>\n",
       "      <td>0</td>\n",
       "      <td>0</td>\n",
       "    </tr>\n",
       "  </tbody>\n",
       "</table>\n",
       "<p>10 rows × 785 columns</p>\n",
       "</div>"
      ],
      "text/plain": [
       "   label  pixel0  pixel1  pixel2  pixel3  pixel4  pixel5  pixel6  pixel7  \\\n",
       "0      1       0       0       0       0       0       0       0       0   \n",
       "1      0       0       0       0       0       0       0       0       0   \n",
       "2      1       0       0       0       0       0       0       0       0   \n",
       "3      4       0       0       0       0       0       0       0       0   \n",
       "4      0       0       0       0       0       0       0       0       0   \n",
       "5      0       0       0       0       0       0       0       0       0   \n",
       "6      7       0       0       0       0       0       0       0       0   \n",
       "7      3       0       0       0       0       0       0       0       0   \n",
       "8      5       0       0       0       0       0       0       0       0   \n",
       "9      3       0       0       0       0       0       0       0       0   \n",
       "\n",
       "   pixel8  ...  pixel774  pixel775  pixel776  pixel777  pixel778  pixel779  \\\n",
       "0       0  ...         0         0         0         0         0         0   \n",
       "1       0  ...         0         0         0         0         0         0   \n",
       "2       0  ...         0         0         0         0         0         0   \n",
       "3       0  ...         0         0         0         0         0         0   \n",
       "4       0  ...         0         0         0         0         0         0   \n",
       "5       0  ...         0         0         0         0         0         0   \n",
       "6       0  ...         0         0         0         0         0         0   \n",
       "7       0  ...         0         0         0         0         0         0   \n",
       "8       0  ...         0         0         0         0         0         0   \n",
       "9       0  ...         0         0         0         0         0         0   \n",
       "\n",
       "   pixel780  pixel781  pixel782  pixel783  \n",
       "0         0         0         0         0  \n",
       "1         0         0         0         0  \n",
       "2         0         0         0         0  \n",
       "3         0         0         0         0  \n",
       "4         0         0         0         0  \n",
       "5         0         0         0         0  \n",
       "6         0         0         0         0  \n",
       "7         0         0         0         0  \n",
       "8         0         0         0         0  \n",
       "9         0         0         0         0  \n",
       "\n",
       "[10 rows x 785 columns]"
      ]
     },
     "execution_count": 31,
     "metadata": {},
     "output_type": "execute_result"
    }
   ],
   "source": [
    "train.head(10)"
   ]
  },
  {
   "cell_type": "code",
   "execution_count": 37,
   "metadata": {},
   "outputs": [
    {
     "data": {
      "text/plain": [
       "0    0\n",
       "1    0\n",
       "2    0\n",
       "3    0\n",
       "4    0\n",
       "5    0\n",
       "6    0\n",
       "7    0\n",
       "8    0\n",
       "9    0\n",
       "dtype: int64"
      ]
     },
     "execution_count": 37,
     "metadata": {},
     "output_type": "execute_result"
    }
   ],
   "source": [
    "train.head(10).min(axis=1)"
   ]
  },
  {
   "cell_type": "code",
   "execution_count": 36,
   "metadata": {},
   "outputs": [
    {
     "data": {
      "text/plain": [
       "0    255\n",
       "1    255\n",
       "2    255\n",
       "3    255\n",
       "4    254\n",
       "5    255\n",
       "6    255\n",
       "7    255\n",
       "8    255\n",
       "9    255\n",
       "dtype: int64"
      ]
     },
     "execution_count": 36,
     "metadata": {},
     "output_type": "execute_result"
    }
   ],
   "source": [
    "train.head(10).max(axis=1)"
   ]
  },
  {
   "cell_type": "markdown",
   "metadata": {},
   "source": [
    "As shown above, the image values range from 0 to 255 (black to white).\n",
    "\n",
    "Next we can preview the images as 28x28 arrays."
   ]
  },
  {
   "cell_type": "code",
   "execution_count": 30,
   "metadata": {},
   "outputs": [
    {
     "data": {
      "image/png": "[encoded data removed]",
      "text/plain": [
       "<Figure size 576x576 with 100 Axes>"
      ]
     },
     "metadata": {},
     "output_type": "display_data"
    }
   ],
   "source": [
    "fig, ax = plt.subplots(10,10)\n",
    "for i in range(10):\n",
    "    for j in range(10):\n",
    "        ax[i,j].imshow(np.reshape(np.array(train.iloc[10*i+j,1:]),(28,28)))\n",
    "        ax[i,j].set_xticks([])\n",
    "        ax[i,j].set_yticks([])\n",
    "        ax[i,j].set_xlabel(train.iloc[10*i+j,0])\n",
    "fig.set_size_inches((8,8))\n",
    "fig.tight_layout()"
   ]
  },
  {
   "cell_type": "markdown",
   "metadata": {},
   "source": [
    "The numbers in the images all are fairly centered and scaled to about the same size, and they are mostly black and white (not much grey), so a simple neural network should work for this data set.\n",
    "\n",
    "Before modeling, let's normalize all the images."
   ]
  },
  {
   "cell_type": "code",
   "execution_count": 39,
   "metadata": {},
   "outputs": [],
   "source": [
    "train.iloc[:,1:]=train.iloc[:,1:]/255\n",
    "test = test/255"
   ]
  },
  {
   "cell_type": "markdown",
   "metadata": {},
   "source": [
    "### Modeling\n",
    "\n",
    "To avoid overfitting, we should perform cross validation to select model hyperparameters. We will do a 5-fold CV."
   ]
  },
  {
   "cell_type": "code",
   "execution_count": 56,
   "metadata": {},
   "outputs": [],
   "source": [
    "def CVsplit(i):\n",
    "    if i==1:\n",
    "        return (train.iloc[:8400,:],train.iloc[8400:,:])\n",
    "    elif i==5:\n",
    "        return (train.iloc[33600:,:],train.iloc[:33600,:])\n",
    "    else:\n",
    "        return (train.iloc[8400*(i-1):8400*i,:], train.iloc[:8400*(i-1),:].append(train.iloc[8400*i:,:]))"
   ]
  },
  {
   "cell_type": "markdown",
   "metadata": {},
   "source": [
    "This function will perform the CV given specified hyperparameters."
   ]
  },
  {
   "cell_type": "code",
   "execution_count": 78,
   "metadata": {},
   "outputs": [],
   "source": [
    "def evalmodel(hidden, activation1, activation2, optimizer1, epochs1):\n",
    "    meanacc = 0\n",
    "    for i in range(1,6):\n",
    "        CVsets = CVsplit(i)\n",
    "        model = keras.Sequential([keras.layers.Dense(hidden, activation=activation1),\n",
    "            keras.layers.Dense(10, activation = activation2)])\n",
    "        model.compile(optimizer=optimizer1, loss='sparse_categorical_crossentropy', metrics=['accuracy'])\n",
    "        model.fit(np.array(CVsets[1].iloc[:,1:]), np.array(CVsets[1].label), epochs=epochs1, verbose = 0)\n",
    "        resultloss, resultacc = model.evaluate(np.array(CVsets[0].iloc[:,1:]), np.array(CVsets[0].label))\n",
    "        meanacc += resultacc\n",
    "    meanacc /=5\n",
    "    print('Hidden size',hidden, ', Activation 1:', str(activation1).split(' ')[1],', Activation 2:', str(activation2).split(' ')[1],', Optimizer:', optimizer1,',', epochs1, 'epochs. ','Accuracy: ',meanacc)"
   ]
  },
  {
   "cell_type": "markdown",
   "metadata": {},
   "source": [
    "Hyperparameter optimization is performed below. First the activation functions are optimized."
   ]
  },
  {
   "cell_type": "code",
   "execution_count": 85,
   "metadata": {},
   "outputs": [
    {
     "name": "stdout",
     "output_type": "stream",
     "text": [
      "8400/8400 [==============================] - 2s 226us/sample - loss: 2.2927 - acc: 0.1032\n",
      "8400/8400 [==============================] - 2s 224us/sample - loss: 2.3012 - acc: 0.0921\n",
      "8400/8400 [==============================] - 2s 246us/sample - loss: 2.3020 - acc: 0.1021\n",
      "8400/8400 [==============================] - 2s 247us/sample - loss: 2.2850 - acc: 0.1055\n",
      "8400/8400 [==============================] - 2s 257us/sample - loss: 2.3026 - acc: 0.1014\n",
      "Hidden size 125 , Activation 1: relu , Activation 2: relu , Optimizer: adam , 5 epochs.  Accuracy:  0.10088095217943191\n",
      "8400/8400 [==============================] - 2s 229us/sample - loss: 0.1034 - acc: 0.9696\n",
      "8400/8400 [==============================] - 2s 244us/sample - loss: 0.1055 - acc: 0.9695\n",
      "8400/8400 [==============================] - 2s 244us/sample - loss: 0.1092 - acc: 0.9654\n",
      "8400/8400 [==============================] - 2s 245us/sample - loss: 0.1017 - acc: 0.9698\n",
      "8400/8400 [==============================] - 2s 229us/sample - loss: 0.1103 - acc: 0.9656\n",
      "Hidden size 125 , Activation 1: relu , Activation 2: softmax , Optimizer: adam , 5 epochs.  Accuracy:  0.967976188659668\n",
      "8400/8400 [==============================] - 2s 234us/sample - loss: 2.3026 - acc: 0.0992\n",
      "8400/8400 [==============================] - 2s 241us/sample - loss: 2.3026 - acc: 0.0915\n",
      "8400/8400 [==============================] - 2s 235us/sample - loss: 2.3033 - acc: 0.1019\n",
      "8400/8400 [==============================] - 2s 250us/sample - loss: 2.3026 - acc: 0.0979\n",
      "8400/8400 [==============================] - 2s 246us/sample - loss: 2.3026 - acc: 0.1014\n",
      "Hidden size 125 , Activation 1: softmax , Activation 2: relu , Optimizer: adam , 5 epochs.  Accuracy:  0.09838095158338547\n",
      "8400/8400 [==============================] - 2s 257us/sample - loss: 0.4337 - acc: 0.8682\n",
      "8400/8400 [==============================] - 2s 250us/sample - loss: 0.4140 - acc: 0.8846\n",
      "8400/8400 [==============================] - 2s 260us/sample - loss: 0.5472 - acc: 0.8146\n",
      "8400/8400 [==============================] - 2s 251us/sample - loss: 0.5481 - acc: 0.8570\n",
      "8400/8400 [==============================] - 2s 252us/sample - loss: 0.5995 - acc: 0.7971\n",
      "Hidden size 125 , Activation 1: softmax , Activation 2: softmax , Optimizer: adam , 5 epochs.  Accuracy:  0.8443333387374878\n"
     ]
    }
   ],
   "source": [
    "for j in [tf.nn.relu,tf.nn.softmax]:\n",
    "    for k in [tf.nn.relu,tf.nn.softmax]:\n",
    "        evalmodel(125,j,k,'adam',5)"
   ]
  },
  {
   "cell_type": "markdown",
   "metadata": {},
   "source": [
    "Next, the number of epochs and the gradient descent method is optimized."
   ]
  },
  {
   "cell_type": "code",
   "execution_count": 87,
   "metadata": {
    "scrolled": false
   },
   "outputs": [
    {
     "name": "stdout",
     "output_type": "stream",
     "text": [
      "8400/8400 [==============================] - 2s 292us/sample - loss: 0.1324 - acc: 0.9645\n",
      "8400/8400 [==============================] - 2s 280us/sample - loss: 0.1167 - acc: 0.9663\n",
      "8400/8400 [==============================] - 2s 289us/sample - loss: 0.1363 - acc: 0.9607\n",
      "8400/8400 [==============================] - 2s 293us/sample - loss: 0.1377 - acc: 0.9587\n",
      "8400/8400 [==============================] - 3s 306us/sample - loss: 0.1122 - acc: 0.9685\n",
      "Hidden size 125 , Activation 1: relu , Activation 2: softmax , Optimizer: RMSprop , 3 epochs.  Accuracy:  0.9637380957603454\n",
      "8400/8400 [==============================] - 3s 301us/sample - loss: 0.1294 - acc: 0.9664\n",
      "8400/8400 [==============================] - 3s 324us/sample - loss: 0.1108 - acc: 0.9670\n",
      "8400/8400 [==============================] - 3s 314us/sample - loss: 0.1249 - acc: 0.9667\n",
      "8400/8400 [==============================] - 2s 293us/sample - loss: 0.1061 - acc: 0.9708\n",
      "8400/8400 [==============================] - 3s 312us/sample - loss: 0.1035 - acc: 0.9707\n",
      "Hidden size 125 , Activation 1: relu , Activation 2: softmax , Optimizer: RMSprop , 5 epochs.  Accuracy:  0.9683333277702332\n",
      "8400/8400 [==============================] - 3s 313us/sample - loss: 0.1285 - acc: 0.9707\n",
      "8400/8400 [==============================] - 2s 295us/sample - loss: 0.1060 - acc: 0.9725\n",
      "8400/8400 [==============================] - 3s 317us/sample - loss: 0.1215 - acc: 0.9688\n",
      "8400/8400 [==============================] - 3s 314us/sample - loss: 0.1188 - acc: 0.9702\n",
      "8400/8400 [==============================] - 3s 317us/sample - loss: 0.1115 - acc: 0.9724\n",
      "Hidden size 125 , Activation 1: relu , Activation 2: softmax , Optimizer: RMSprop , 10 epochs.  Accuracy:  0.9709285736083985\n",
      "8400/8400 [==============================] - 3s 308us/sample - loss: 0.1288 - acc: 0.9629\n",
      "8400/8400 [==============================] - 3s 323us/sample - loss: 0.1069 - acc: 0.9682\n",
      "8400/8400 [==============================] - 3s 311us/sample - loss: 0.1240 - acc: 0.9642\n",
      "8400/8400 [==============================] - 3s 323us/sample - loss: 0.1203 - acc: 0.9640\n",
      "8400/8400 [==============================] - 3s 322us/sample - loss: 0.1105 - acc: 0.9670\n",
      "Hidden size 125 , Activation 1: relu , Activation 2: softmax , Optimizer: adam , 3 epochs.  Accuracy:  0.9652618885040283\n",
      "8400/8400 [==============================] - 3s 321us/sample - loss: 0.1033 - acc: 0.9701\n",
      "8400/8400 [==============================] - 3s 321us/sample - loss: 0.0991 - acc: 0.9700\n",
      "8400/8400 [==============================] - 3s 325us/sample - loss: 0.1202 - acc: 0.9657\n",
      "8400/8400 [==============================] - 3s 324us/sample - loss: 0.0986 - acc: 0.9705\n",
      "8400/8400 [==============================] - 3s 326us/sample - loss: 0.0935 - acc: 0.9715\n",
      "Hidden size 125 , Activation 1: relu , Activation 2: softmax , Optimizer: adam , 5 epochs.  Accuracy:  0.9695714354515076\n",
      "8400/8400 [==============================] - 3s 320us/sample - loss: 0.1099 - acc: 0.9700\n",
      "8400/8400 [==============================] - 3s 341us/sample - loss: 0.1178 - acc: 0.9698\n",
      "8400/8400 [==============================] - 3s 342us/sample - loss: 0.1233 - acc: 0.9682\n",
      "8400/8400 [==============================] - 3s 333us/sample - loss: 0.0969 - acc: 0.9724\n",
      "8400/8400 [==============================] - 3s 336us/sample - loss: 0.1007 - acc: 0.9730\n",
      "Hidden size 125 , Activation 1: relu , Activation 2: softmax , Optimizer: adam , 10 epochs.  Accuracy:  0.9706666707992554\n",
      "8400/8400 [==============================] - 4s 454us/sample - loss: 0.1203 - acc: 0.9655\n",
      "8400/8400 [==============================] - 3s 338us/sample - loss: 0.1204 - acc: 0.9635\n",
      "8400/8400 [==============================] - 3s 356us/sample - loss: 0.1315 - acc: 0.9592\n",
      "8400/8400 [==============================] - 3s 348us/sample - loss: 0.1260 - acc: 0.9614\n",
      "8400/8400 [==============================] - 3s 359us/sample - loss: 0.1231 - acc: 0.9610\n",
      "Hidden size 125 , Activation 1: relu , Activation 2: softmax , Optimizer: Nadam , 3 epochs.  Accuracy:  0.9620952486991883\n",
      "8400/8400 [==============================] - 3s 358us/sample - loss: 0.0941 - acc: 0.9727\n",
      "8400/8400 [==============================] - 3s 359us/sample - loss: 0.1035 - acc: 0.9700\n",
      "8400/8400 [==============================] - 3s 359us/sample - loss: 0.1112 - acc: 0.9679\n",
      "8400/8400 [==============================] - 3s 349us/sample - loss: 0.1098 - acc: 0.9660\n",
      "8400/8400 [==============================] - 3s 403us/sample - loss: 0.1094 - acc: 0.9671\n",
      "Hidden size 125 , Activation 1: relu , Activation 2: softmax , Optimizer: Nadam , 5 epochs.  Accuracy:  0.9687381029129029\n",
      "8400/8400 [==============================] - 3s 375us/sample - loss: 0.1055 - acc: 0.9725\n",
      "8400/8400 [==============================] - 3s 407us/sample - loss: 0.1067 - acc: 0.9724\n",
      "8400/8400 [==============================] - 3s 372us/sample - loss: 0.1164 - acc: 0.9713\n",
      "8400/8400 [==============================] - 3s 392us/sample - loss: 0.1080 - acc: 0.9701\n",
      "8400/8400 [==============================] - 3s 372us/sample - loss: 0.1070 - acc: 0.9707\n",
      "Hidden size 125 , Activation 1: relu , Activation 2: softmax , Optimizer: Nadam , 10 epochs.  Accuracy:  0.971404767036438\n"
     ]
    }
   ],
   "source": [
    "for l in ['RMSprop','adam','Nadam']:\n",
    "    for m in [3,5,10]:\n",
    "        evalmodel(125,tf.nn.relu,tf.nn.softmax,l,m)"
   ]
  },
  {
   "cell_type": "markdown",
   "metadata": {},
   "source": [
    "Finally, the size of the hidden layer is optimized."
   ]
  },
  {
   "cell_type": "code",
   "execution_count": 90,
   "metadata": {},
   "outputs": [
    {
     "name": "stdout",
     "output_type": "stream",
     "text": [
      "8400/8400 [==============================] - 4s 420us/sample - loss: 0.1130 - acc: 0.9721\n",
      "8400/8400 [==============================] - 3s 397us/sample - loss: 0.1005 - acc: 0.9735\n",
      "8400/8400 [==============================] - 3s 405us/sample - loss: 0.1179 - acc: 0.9710\n",
      "8400/8400 [==============================] - 3s 390us/sample - loss: 0.1179 - acc: 0.9686\n",
      "8400/8400 [==============================] - 3s 388us/sample - loss: 0.0960 - acc: 0.9732\n",
      "Hidden size 125 , Activation 1: relu , Activation 2: softmax , Optimizer: Nadam , 10 epochs.  Accuracy:  0.971666669845581\n",
      "8400/8400 [==============================] - 3s 407us/sample - loss: 0.1057 - acc: 0.9719\n",
      "8400/8400 [==============================] - 3s 406us/sample - loss: 0.0970 - acc: 0.9760\n",
      "8400/8400 [==============================] - 4s 421us/sample - loss: 0.1108 - acc: 0.9752\n",
      "8400/8400 [==============================] - 4s 429us/sample - loss: 0.1229 - acc: 0.9661\n",
      "8400/8400 [==============================] - 4s 443us/sample - loss: 0.1128 - acc: 0.9729\n",
      "Hidden size 250 , Activation 1: relu , Activation 2: softmax , Optimizer: Nadam , 10 epochs.  Accuracy:  0.9724047541618347\n",
      "8400/8400 [==============================] - 4s 454us/sample - loss: 0.1277 - acc: 0.9726\n",
      "8400/8400 [==============================] - 4s 453us/sample - loss: 0.0951 - acc: 0.9765\n",
      "8400/8400 [==============================] - 4s 452us/sample - loss: 0.1243 - acc: 0.9713\n",
      "8400/8400 [==============================] - 4s 455us/sample - loss: 0.1072 - acc: 0.9735\n",
      "8400/8400 [==============================] - 4s 459us/sample - loss: 0.1237 - acc: 0.9707\n",
      "Hidden size 400 , Activation 1: relu , Activation 2: softmax , Optimizer: Nadam , 10 epochs.  Accuracy:  0.9729285717010498\n"
     ]
    }
   ],
   "source": [
    "for i in [125, 250, 400]:\n",
    "    evalmodel(i,tf.nn.relu,tf.nn.softmax,'Nadam',10)"
   ]
  },
  {
   "cell_type": "markdown",
   "metadata": {},
   "source": [
    "A similar model with a similar number of total weights but using 2 hidden layers instead of 1 is evaluated below."
   ]
  },
  {
   "cell_type": "code",
   "execution_count": 94,
   "metadata": {},
   "outputs": [
    {
     "name": "stdout",
     "output_type": "stream",
     "text": [
      "8400/8400 [==============================] - 4s 488us/sample - loss: 0.1281 - acc: 0.9723\n",
      "8400/8400 [==============================] - 4s 489us/sample - loss: 0.1091 - acc: 0.9782\n",
      "8400/8400 [==============================] - 4s 500us/sample - loss: 0.1417 - acc: 0.9726\n",
      "8400/8400 [==============================] - 4s 497us/sample - loss: 0.1147 - acc: 0.9745\n",
      "8400/8400 [==============================] - 4s 488us/sample - loss: 0.1124 - acc: 0.9762\n",
      "Accuracy:  0.9747618913650513\n"
     ]
    }
   ],
   "source": [
    "meanacc = 0\n",
    "for i in range(1,6):\n",
    "    CVsets = CVsplit(i)\n",
    "    model = keras.Sequential([keras.layers.Dense(300, activation=tf.nn.relu),keras.layers.Dense(300, activation=tf.nn.relu),\n",
    "        keras.layers.Dense(10, activation = tf.nn.softmax)])\n",
    "    model.compile(optimizer='Nadam', loss='sparse_categorical_crossentropy', metrics=['accuracy'])\n",
    "    model.fit(np.array(CVsets[1].iloc[:,1:]), np.array(CVsets[1].label), epochs=10, verbose = 0)\n",
    "    resultloss, resultacc = model.evaluate(np.array(CVsets[0].iloc[:,1:]), np.array(CVsets[0].label))\n",
    "    meanacc += resultacc\n",
    "meanacc /=5\n",
    "print('Accuracy: ',meanacc)"
   ]
  },
  {
   "cell_type": "markdown",
   "metadata": {},
   "source": [
    "The above model was the best performing model thus far, in terms of cross validation. The model will be fit and predictions made on the test set."
   ]
  },
  {
   "cell_type": "code",
   "execution_count": 95,
   "metadata": {},
   "outputs": [
    {
     "name": "stdout",
     "output_type": "stream",
     "text": [
      "42000/42000 [==============================] - 12s 288us/sample - loss: 0.0100 - acc: 0.9971\n",
      "Accuracy:  0.99707144\n"
     ]
    }
   ],
   "source": [
    "model.fit(np.array(train.iloc[:,1:]), np.array(train.label), epochs=10, verbose = 0)\n",
    "resultloss, resultacc = model.evaluate(np.array(train.iloc[:,1:]), np.array(train.label))\n",
    "print('Accuracy: ',resultacc)"
   ]
  },
  {
   "cell_type": "code",
   "execution_count": 96,
   "metadata": {},
   "outputs": [],
   "source": [
    "predictions = model.predict(np.array(test))"
   ]
  },
  {
   "cell_type": "code",
   "execution_count": 102,
   "metadata": {},
   "outputs": [],
   "source": [
    "pd.DataFrame(np.argmax(predictions,axis=1)).to_csv(r'C:\\Datasets\\digitspredict.csv')"
   ]
  }
 ],
 "metadata": {
  "kernelspec": {
   "display_name": "Python 3",
   "language": "python",
   "name": "python3"
  },
  "language_info": {
   "codemirror_mode": {
    "name": "ipython",
    "version": 3
   },
   "file_extension": ".py",
   "mimetype": "text/x-python",
   "name": "python",
   "nbconvert_exporter": "python",
   "pygments_lexer": "ipython3",
   "version": "3.7.3"
  }
 },
 "nbformat": 4,
 "nbformat_minor": 2
}
