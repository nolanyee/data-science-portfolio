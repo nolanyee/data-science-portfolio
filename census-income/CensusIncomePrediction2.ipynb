{
 "cells": [
  {
   "cell_type": "markdown",
   "metadata": {},
   "source": [
    "# Income Class Prediction from Census Data\n",
    "## Imputation\n",
    "\n",
    "Due to the large size of the data set, preProcess() will not be used to impute the missing values, to avoid running out of memory. Each feature's missing value will be imputed one at a time using an appropriate subset of the data set where necessary."
   ]
  },
  {
   "cell_type": "code",
   "execution_count": 1,
   "metadata": {
    "collapsed": true
   },
   "outputs": [
    {
     "name": "stderr",
     "output_type": "stream",
     "text": [
      "\n",
      "Attaching package: 'dplyr'\n",
      "\n",
      "The following objects are masked from 'package:stats':\n",
      "\n",
      "    filter, lag\n",
      "\n",
      "The following objects are masked from 'package:base':\n",
      "\n",
      "    intersect, setdiff, setequal, union\n",
      "\n",
      "Warning message:\n",
      "\"package 'gridExtra' was built under R version 3.5.3\"\n",
      "Attaching package: 'gridExtra'\n",
      "\n",
      "The following object is masked from 'package:dplyr':\n",
      "\n",
      "    combine\n",
      "\n"
     ]
    }
   ],
   "source": [
    "library(dplyr)\n",
    "library(ggplot2)\n",
    "library(lattice)\n",
    "library(stringr)\n",
    "library(gridExtra)\n",
    "library(caret)"
   ]
  },
  {
   "cell_type": "markdown",
   "metadata": {},
   "source": [
    "### Imputing Features Missing in 1995 Data"
   ]
  },
  {
   "cell_type": "code",
   "execution_count": 2,
   "metadata": {},
   "outputs": [],
   "source": [
    "X94 <- read.csv('C:/Datasets/censusincomeX94.csv')\n",
    "X95 <- read.csv('C:/Datasets/censusincomeX95.csv')\n",
    "y94 <- read.csv('C:/Datasets/censusincomey94.csv')"
   ]
  },
  {
   "cell_type": "markdown",
   "metadata": {},
   "source": [
    "Training decision tree models using 5-fold cross validation:"
   ]
  },
  {
   "cell_type": "code",
   "execution_count": 9,
   "metadata": {},
   "outputs": [
    {
     "data": {
      "text/plain": [
       "CART \n",
       "\n",
       "98279 samples\n",
       "  390 predictor\n",
       "    6 classes: ' Abroad', ' Midwest', ' Northeast', ' Not in universe', ' South', ' West' \n",
       "\n",
       "No pre-processing\n",
       "Resampling: Cross-Validated (5 fold) \n",
       "Summary of sample sizes: 78624, 78622, 78624, 78622, 78624 \n",
       "Resampling results across tuning parameters:\n",
       "\n",
       "  cp          Accuracy   Kappa    \n",
       "  0.05809814  0.8930086  0.6267978\n",
       "  0.09019832  0.8776441  0.5868241\n",
       "  0.21967963  0.8677239  0.4639262\n",
       "\n",
       "Accuracy was used to select the optimal model using the largest value.\n",
       "The final value used for the model was cp = 0.05809814."
      ]
     },
     "metadata": {},
     "output_type": "display_data"
    }
   ],
   "source": [
    "regionmodel <- train(X94[,-1],y94[,2],method='rpart',trControl = trainControl(method='cv',number=5))\n",
    "regionmodel"
   ]
  },
  {
   "cell_type": "code",
   "execution_count": 11,
   "metadata": {},
   "outputs": [
    {
     "name": "stderr",
     "output_type": "stream",
     "text": [
      "Warning message in nominalTrainWorkflow(x = x, y = y, wts = weights, info = trainInfo, :\n",
      "\"There were missing values in resampled performance measures.\""
     ]
    },
    {
     "data": {
      "text/plain": [
       "CART \n",
       "\n",
       "98279 samples\n",
       "  390 predictor\n",
       "   50 classes: ' Abroad', ' Alabama', ' Alaska', ' Arizona', ' Arkansas', ' California', ' Colorado', ' Connecticut', ' Delaware', ' District of Columbia', ' Florida', ' Georgia', ' Idaho', ' Illinois', ' Indiana', ' Iowa', ' Kansas', ' Kentucky', ' Louisiana', ' Maine', ' Maryland', ' Massachusetts', ' Michigan', ' Minnesota', ' Mississippi', ' Missouri', ' Montana', ' Nebraska', ' Nevada', ' New Hampshire', ' New Jersey', ' New Mexico', ' New York', ' North Carolina', ' North Dakota', ' Not in universe', ' Ohio', ' Oklahoma', ' Oregon', ' Pennsylvania', ' South Carolina', ' South Dakota', ' Tennessee', ' Texas', ' Utah', ' Vermont', ' Virginia', ' West Virginia', ' Wisconsin', ' Wyoming' \n",
       "\n",
       "No pre-processing\n",
       "Resampling: Cross-Validated (5 fold) \n",
       "Summary of sample sizes: 97572, 78762, 78768, 78766, 78760, 78767, ... \n",
       "Resampling results across tuning parameters:\n",
       "\n",
       "  cp           Accuracy   Kappa    \n",
       "  0.008519135  0.8692248  0.5366913\n",
       "  0.009916805  0.8656168  0.5231865\n",
       "  0.056905158  0.8530201  0.2060923\n",
       "\n",
       "Accuracy was used to select the optimal model using the largest value.\n",
       "The final value used for the model was cp = 0.008519135."
      ]
     },
     "metadata": {},
     "output_type": "display_data"
    }
   ],
   "source": [
    "statemodel <- train(X94[,-1],y94[,3],method='rpart',trControl = trainControl(method='cv',number=5))\n",
    "statemodel"
   ]
  },
  {
   "cell_type": "code",
   "execution_count": 12,
   "metadata": {},
   "outputs": [
    {
     "data": {
      "text/plain": [
       "CART \n",
       "\n",
       "98279 samples\n",
       "  390 predictor\n",
       "    9 classes: ' Abroad to MSA', ' Abroad to nonMSA', ' MSA to MSA', ' MSA to nonMSA', ' Nonmover', ' NonMSA to MSA', ' NonMSA to nonMSA', ' Not identifiable', ' Not in universe' \n",
       "\n",
       "No pre-processing\n",
       "Resampling: Cross-Validated (5 fold) \n",
       "Summary of sample sizes: 78622, 78624, 78624, 78624, 78622 \n",
       "Resampling results across tuning parameters:\n",
       "\n",
       "  cp           Accuracy   Kappa    \n",
       "  0.002856976  0.9475982  0.8261007\n",
       "  0.082735701  0.9359376  0.7864721\n",
       "  0.616407207  0.8685066  0.3106448\n",
       "\n",
       "Accuracy was used to select the optimal model using the largest value.\n",
       "The final value used for the model was cp = 0.002856976."
      ]
     },
     "metadata": {},
     "output_type": "display_data"
    }
   ],
   "source": [
    "migmsamodel <- train(X94[,-1],y94[,4],method='rpart',trControl = trainControl(method='cv',number=5))\n",
    "migmsamodel"
   ]
  },
  {
   "cell_type": "code",
   "execution_count": 13,
   "metadata": {},
   "outputs": [
    {
     "data": {
      "text/plain": [
       "CART \n",
       "\n",
       "98279 samples\n",
       "  390 predictor\n",
       "    8 classes: ' Abroad', ' Different county same state', ' Different division same region', ' Different region', ' Different state same division', ' Nonmover', ' Not in universe', ' Same county' \n",
       "\n",
       "No pre-processing\n",
       "Resampling: Cross-Validated (5 fold) \n",
       "Summary of sample sizes: 78621, 78623, 78625, 78622, 78625 \n",
       "Resampling results across tuning parameters:\n",
       "\n",
       "  cp           Accuracy   Kappa    \n",
       "  0.000247799  0.9392342  0.7991918\n",
       "  0.082735701  0.9278689  0.7606918\n",
       "  0.570170836  0.8851824  0.4505382\n",
       "\n",
       "Accuracy was used to select the optimal model using the largest value.\n",
       "The final value used for the model was cp = 0.000247799."
      ]
     },
     "metadata": {},
     "output_type": "display_data"
    }
   ],
   "source": [
    "migregmodel <- train(X94[,-1],y94[,5],method='rpart',trControl = trainControl(method='cv',number=5))\n",
    "migregmodel"
   ]
  },
  {
   "cell_type": "code",
   "execution_count": 14,
   "metadata": {},
   "outputs": [
    {
     "data": {
      "text/plain": [
       "CART \n",
       "\n",
       "98279 samples\n",
       "  390 predictor\n",
       "    9 classes: ' Abroad', ' Different county same state', ' Different state in Midwest', ' Different state in Northeast', ' Different state in South', ' Different state in West', ' Nonmover', ' Not in universe', ' Same county' \n",
       "\n",
       "No pre-processing\n",
       "Resampling: Cross-Validated (5 fold) \n",
       "Summary of sample sizes: 78624, 78623, 78624, 78623, 78622 \n",
       "Resampling results across tuning parameters:\n",
       "\n",
       "  cp           Accuracy   Kappa    \n",
       "  0.000247799  0.9393258  0.7994223\n",
       "  0.082735701  0.9278686  0.7606894\n",
       "  0.570170836  0.8851834  0.4505378\n",
       "\n",
       "Accuracy was used to select the optimal model using the largest value.\n",
       "The final value used for the model was cp = 0.000247799."
      ]
     },
     "metadata": {},
     "output_type": "display_data"
    }
   ],
   "source": [
    "movregmodel <- train(X94[,-1],y94[,6],method='rpart',trControl = trainControl(method='cv',number=5))\n",
    "movregmodel"
   ]
  },
  {
   "cell_type": "code",
   "execution_count": 15,
   "metadata": {},
   "outputs": [
    {
     "data": {
      "text/plain": [
       "CART \n",
       "\n",
       "98279 samples\n",
       "  390 predictor\n",
       "    3 classes: ' No', ' Not in universe', ' Yes' \n",
       "\n",
       "No pre-processing\n",
       "Resampling: Cross-Validated (5 fold) \n",
       "Summary of sample sizes: 78624, 78622, 78623, 78624, 78623 \n",
       "Resampling results across tuning parameters:\n",
       "\n",
       "  cp          Accuracy   Kappa    \n",
       "  0.01125095  0.9441081  0.7993937\n",
       "  0.09019832  0.9322030  0.7625213\n",
       "  0.54284261  0.8916668  0.4469628\n",
       "\n",
       "Accuracy was used to select the optimal model using the largest value.\n",
       "The final value used for the model was cp = 0.01125095."
      ]
     },
     "metadata": {},
     "output_type": "display_data"
    }
   ],
   "source": [
    "sunbeltmodel <- train(X94[,-1],y94[,7],method='rpart',trControl = trainControl(method='cv',number=5))\n",
    "sunbeltmodel"
   ]
  },
  {
   "cell_type": "markdown",
   "metadata": {},
   "source": [
    "Using decision tree models to impute missing values from 1995 data:"
   ]
  },
  {
   "cell_type": "code",
   "execution_count": 16,
   "metadata": {},
   "outputs": [],
   "source": [
    "y95 <- as.data.frame(predict(regionmodel,X95))\n",
    "names(y95) <- c('region')\n",
    "y95$state <-predict(statemodel,X95)\n",
    "y95$migration.msa <-predict(migmsamodel,X95)\n",
    "y95$migration.reg <-predict(migregmodel,X95)\n",
    "y95$move.reg <-predict(movregmodel,X95)\n",
    "y95$sunbelt <-predict(sunbeltmodel,X95)"
   ]
  },
  {
   "cell_type": "markdown",
   "metadata": {},
   "source": [
    "Export the data as a backup."
   ]
  },
  {
   "cell_type": "code",
   "execution_count": 22,
   "metadata": {},
   "outputs": [],
   "source": [
    "write.csv(y95,'C:/Datasets/censusincomey95.csv')"
   ]
  },
  {
   "cell_type": "markdown",
   "metadata": {},
   "source": [
    "Summary of imputed data"
   ]
  },
  {
   "cell_type": "code",
   "execution_count": 9,
   "metadata": {},
   "outputs": [
    {
     "data": {
      "text/plain": [
       "              region                   state                migration.msa  \n",
       "  Not in universe: 1224    Not in universe:98015    Not in universe:98015  \n",
       "  South          :96791                                                    \n",
       "          migration.reg               move.reg                 sunbelt     \n",
       "  Not in universe: 1224    Not in universe: 1224    No             :96791  \n",
       "  Same county    :96791    Same county    :96791    Not in universe: 1224  "
      ]
     },
     "metadata": {},
     "output_type": "display_data"
    }
   ],
   "source": [
    "summary(y95)"
   ]
  },
  {
   "cell_type": "markdown",
   "metadata": {},
   "source": [
    "Data set after 1995 imputation:"
   ]
  },
  {
   "cell_type": "code",
   "execution_count": 14,
   "metadata": {},
   "outputs": [
    {
     "data": {
      "text/html": [
       "<table>\n",
       "<thead><tr><th scope=col>X</th><th scope=col>age</th><th scope=col>class.worker</th><th scope=col>industry</th><th scope=col>occupation</th><th scope=col>edu</th><th scope=col>wage.hr</th><th scope=col>recent.enroll</th><th scope=col>marital</th><th scope=col>major.industry</th><th scope=col>...</th><th scope=col>father.nat</th><th scope=col>mother.nat</th><th scope=col>self.nat</th><th scope=col>citizen</th><th scope=col>self.employed</th><th scope=col>va.quest</th><th scope=col>vet.benefit</th><th scope=col>wk.worked</th><th scope=col>year</th><th scope=col>income</th></tr></thead>\n",
       "<tbody>\n",
       "\t<tr><td>1                                   </td><td>73                                  </td><td> Not in universe                    </td><td>0                                   </td><td> 0                                  </td><td> High school graduate               </td><td>0                                   </td><td> Not in universe                    </td><td> Widowed                            </td><td> Not in universe or children        </td><td>...                                 </td><td> United-States                      </td><td> United-States                      </td><td> United-States                      </td><td> Native- Born in the United States  </td><td>0                                   </td><td> Not in universe                    </td><td>2                                   </td><td> 0                                  </td><td>95                                  </td><td> - 50000.                           </td></tr>\n",
       "\t<tr><td>2                                   </td><td>58                                  </td><td> Self-employed-not incorporated     </td><td>4                                   </td><td>34                                  </td><td> Some college but no degree         </td><td>0                                   </td><td> Not in universe                    </td><td> Divorced                           </td><td> Construction                       </td><td>...                                 </td><td> United-States                      </td><td> United-States                      </td><td> United-States                      </td><td> Native- Born in the United States  </td><td>0                                   </td><td> Not in universe                    </td><td>2                                   </td><td>52                                  </td><td>94                                  </td><td> - 50000.                           </td></tr>\n",
       "\t<tr><td>3                                   </td><td>18                                  </td><td> Not in universe                    </td><td>0                                   </td><td> 0                                  </td><td> 10th grade                         </td><td>0                                   </td><td> High school                        </td><td> Never married                      </td><td> Not in universe or children        </td><td>...                                 </td><td> Vietnam                            </td><td> Vietnam                            </td><td> Vietnam                            </td><td> Foreign born- Not a citizen of U S </td><td>0                                   </td><td> Not in universe                    </td><td>2                                   </td><td> 0                                  </td><td>95                                  </td><td> - 50000.                           </td></tr>\n",
       "\t<tr><td>4                                   </td><td> 9                                  </td><td> Not in universe                    </td><td>0                                   </td><td> 0                                  </td><td> Children                           </td><td>0                                   </td><td> Not in universe                    </td><td> Never married                      </td><td> Not in universe or children        </td><td>...                                 </td><td> United-States                      </td><td> United-States                      </td><td> United-States                      </td><td> Native- Born in the United States  </td><td>0                                   </td><td> Not in universe                    </td><td>0                                   </td><td> 0                                  </td><td>94                                  </td><td> - 50000.                           </td></tr>\n",
       "\t<tr><td>5                                   </td><td>10                                  </td><td> Not in universe                    </td><td>0                                   </td><td> 0                                  </td><td> Children                           </td><td>0                                   </td><td> Not in universe                    </td><td> Never married                      </td><td> Not in universe or children        </td><td>...                                 </td><td> United-States                      </td><td> United-States                      </td><td> United-States                      </td><td> Native- Born in the United States  </td><td>0                                   </td><td> Not in universe                    </td><td>0                                   </td><td> 0                                  </td><td>94                                  </td><td> - 50000.                           </td></tr>\n",
       "</tbody>\n",
       "</table>\n"
      ],
      "text/latex": [
       "\\begin{tabular}{r|lllllllllllllllllllllllllllllllllllllllllll}\n",
       " X & age & class.worker & industry & occupation & edu & wage.hr & recent.enroll & marital & major.industry & ... & father.nat & mother.nat & self.nat & citizen & self.employed & va.quest & vet.benefit & wk.worked & year & income\\\\\n",
       "\\hline\n",
       "\t 1                                    & 73                                   &  Not in universe                     & 0                                    &  0                                   &  High school graduate                & 0                                    &  Not in universe                     &  Widowed                             &  Not in universe or children         & ...                                  &  United-States                       &  United-States                       &  United-States                       &  Native- Born in the United States   & 0                                    &  Not in universe                     & 2                                    &  0                                   & 95                                   &  - 50000.                           \\\\\n",
       "\t 2                                    & 58                                   &  Self-employed-not incorporated      & 4                                    & 34                                   &  Some college but no degree          & 0                                    &  Not in universe                     &  Divorced                            &  Construction                        & ...                                  &  United-States                       &  United-States                       &  United-States                       &  Native- Born in the United States   & 0                                    &  Not in universe                     & 2                                    & 52                                   & 94                                   &  - 50000.                           \\\\\n",
       "\t 3                                    & 18                                   &  Not in universe                     & 0                                    &  0                                   &  10th grade                          & 0                                    &  High school                         &  Never married                       &  Not in universe or children         & ...                                  &  Vietnam                             &  Vietnam                             &  Vietnam                             &  Foreign born- Not a citizen of U S  & 0                                    &  Not in universe                     & 2                                    &  0                                   & 95                                   &  - 50000.                           \\\\\n",
       "\t 4                                    &  9                                   &  Not in universe                     & 0                                    &  0                                   &  Children                            & 0                                    &  Not in universe                     &  Never married                       &  Not in universe or children         & ...                                  &  United-States                       &  United-States                       &  United-States                       &  Native- Born in the United States   & 0                                    &  Not in universe                     & 0                                    &  0                                   & 94                                   &  - 50000.                           \\\\\n",
       "\t 5                                    & 10                                   &  Not in universe                     & 0                                    &  0                                   &  Children                            & 0                                    &  Not in universe                     &  Never married                       &  Not in universe or children         & ...                                  &  United-States                       &  United-States                       &  United-States                       &  Native- Born in the United States   & 0                                    &  Not in universe                     & 0                                    &  0                                   & 94                                   &  - 50000.                           \\\\\n",
       "\\end{tabular}\n"
      ],
      "text/markdown": [
       "\n",
       "X | age | class.worker | industry | occupation | edu | wage.hr | recent.enroll | marital | major.industry | ... | father.nat | mother.nat | self.nat | citizen | self.employed | va.quest | vet.benefit | wk.worked | year | income | \n",
       "|---|---|---|---|---|\n",
       "| 1                                    | 73                                   |  Not in universe                     | 0                                    |  0                                   |  High school graduate                | 0                                    |  Not in universe                     |  Widowed                             |  Not in universe or children         | ...                                  |  United-States                       |  United-States                       |  United-States                       |  Native- Born in the United States   | 0                                    |  Not in universe                     | 2                                    |  0                                   | 95                                   |  - 50000.                            | \n",
       "| 2                                    | 58                                   |  Self-employed-not incorporated      | 4                                    | 34                                   |  Some college but no degree          | 0                                    |  Not in universe                     |  Divorced                            |  Construction                        | ...                                  |  United-States                       |  United-States                       |  United-States                       |  Native- Born in the United States   | 0                                    |  Not in universe                     | 2                                    | 52                                   | 94                                   |  - 50000.                            | \n",
       "| 3                                    | 18                                   |  Not in universe                     | 0                                    |  0                                   |  10th grade                          | 0                                    |  High school                         |  Never married                       |  Not in universe or children         | ...                                  |  Vietnam                             |  Vietnam                             |  Vietnam                             |  Foreign born- Not a citizen of U S  | 0                                    |  Not in universe                     | 2                                    |  0                                   | 95                                   |  - 50000.                            | \n",
       "| 4                                    |  9                                   |  Not in universe                     | 0                                    |  0                                   |  Children                            | 0                                    |  Not in universe                     |  Never married                       |  Not in universe or children         | ...                                  |  United-States                       |  United-States                       |  United-States                       |  Native- Born in the United States   | 0                                    |  Not in universe                     | 0                                    |  0                                   | 94                                   |  - 50000.                            | \n",
       "| 5                                    | 10                                   |  Not in universe                     | 0                                    |  0                                   |  Children                            | 0                                    |  Not in universe                     |  Never married                       |  Not in universe or children         | ...                                  |  United-States                       |  United-States                       |  United-States                       |  Native- Born in the United States   | 0                                    |  Not in universe                     | 0                                    |  0                                   | 94                                   |  - 50000.                            | \n",
       "\n",
       "\n"
      ],
      "text/plain": [
       "  X age class.worker                    industry occupation\n",
       "1 1 73   Not in universe                0         0        \n",
       "2 2 58   Self-employed-not incorporated 4        34        \n",
       "3 3 18   Not in universe                0         0        \n",
       "4 4  9   Not in universe                0         0        \n",
       "5 5 10   Not in universe                0         0        \n",
       "  edu                         wage.hr recent.enroll    marital       \n",
       "1  High school graduate       0        Not in universe  Widowed      \n",
       "2  Some college but no degree 0        Not in universe  Divorced     \n",
       "3  10th grade                 0        High school      Never married\n",
       "4  Children                   0        Not in universe  Never married\n",
       "5  Children                   0        Not in universe  Never married\n",
       "  major.industry               ... father.nat     mother.nat     self.nat      \n",
       "1  Not in universe or children ...  United-States  United-States  United-States\n",
       "2  Construction                ...  United-States  United-States  United-States\n",
       "3  Not in universe or children ...  Vietnam        Vietnam        Vietnam      \n",
       "4  Not in universe or children ...  United-States  United-States  United-States\n",
       "5  Not in universe or children ...  United-States  United-States  United-States\n",
       "  citizen                              self.employed va.quest        \n",
       "1  Native- Born in the United States   0              Not in universe\n",
       "2  Native- Born in the United States   0              Not in universe\n",
       "3  Foreign born- Not a citizen of U S  0              Not in universe\n",
       "4  Native- Born in the United States   0              Not in universe\n",
       "5  Native- Born in the United States   0              Not in universe\n",
       "  vet.benefit wk.worked year income   \n",
       "1 2            0        95    - 50000.\n",
       "2 2           52        94    - 50000.\n",
       "3 2            0        95    - 50000.\n",
       "4 0            0        94    - 50000.\n",
       "5 0            0        94    - 50000."
      ]
     },
     "metadata": {},
     "output_type": "display_data"
    }
   ],
   "source": [
    "df <- read.csv('C:/Datasets/censusincomedf.csv')\n",
    "df[df$year=='95',c(22:23,27:29,31)] <- y95\n",
    "head(df,5)"
   ]
  },
  {
   "cell_type": "markdown",
   "metadata": {},
   "source": [
    "### Imputing Remaining Missing Values\n",
    "\n",
    "The dataframe above was exported and is loaded below (avoids having to re-run all the code above)."
   ]
  },
  {
   "cell_type": "code",
   "execution_count": 2,
   "metadata": {},
   "outputs": [],
   "source": [
    "df <- read.csv('C:/Datasets/censusincomedfimpute.csv')"
   ]
  },
  {
   "cell_type": "markdown",
   "metadata": {},
   "source": [
    "Convert appropriate features to factors."
   ]
  },
  {
   "cell_type": "code",
   "execution_count": 3,
   "metadata": {},
   "outputs": [
    {
     "data": {
      "text/plain": [
       "      age                                 class.worker      industry    \n",
       " Min.   : 0.00    Not in universe               :97029   0      :97467  \n",
       " 1st Qu.:16.00    Private                       :72021   33     :17069  \n",
       " Median :34.00    Self-employed-not incorporated: 8442   43     : 8283  \n",
       " Mean   :34.93    Local government              : 7783   4      : 5984  \n",
       " 3rd Qu.:50.00    State government              : 4227   42     : 4683  \n",
       " Max.   :90.00    Self-employed-incorporated    : 3264   45     : 4482  \n",
       "                 (Other)                        : 3528   (Other):58326  \n",
       "   occupation                             edu           wage.hr       \n",
       " 0      :97467    High school graduate      :48374   Min.   :   0.00  \n",
       " 2      : 8756    Children                  :44347   1st Qu.:   0.00  \n",
       " 26     : 7886    Some college but no degree:27809   Median :   0.00  \n",
       " 19     : 5412    Bachelors degree(BA AB BS):19859   Mean   :  56.34  \n",
       " 29     : 5105    7th and 8th grade         : 7976   3rd Qu.:   0.00  \n",
       " 36     : 4144    10th grade                : 7539   Max.   :9999.00  \n",
       " (Other):67524   (Other)                    :40390                    \n",
       "                recent.enroll                                marital     \n",
       "  College or university:  5679    Divorced                       :12707  \n",
       "  High school          :  6853    Married-A F spouse present     :  665  \n",
       "  Not in universe      :183762    Married-civilian spouse present:84194  \n",
       "                                  Married-spouse absent          : 1517  \n",
       "                                  Never married                  :83296  \n",
       "                                  Separated                      : 3459  \n",
       "                                  Widowed                        :10456  \n",
       "                            major.industry \n",
       "  Not in universe or children      :97467  \n",
       "  Retail trade                     :17069  \n",
       "  Manufacturing-durable goods      : 9014  \n",
       "  Education                        : 8283  \n",
       "  Manufacturing-nondurable goods   : 6895  \n",
       "  Finance insurance and real estate: 6145  \n",
       " (Other)                           :51421  \n",
       "                       major.occuapation                           race       \n",
       "  Not in universe               :97467    Amer Indian Aleut or Eskimo:  2242  \n",
       "  Adm support including clerical:14836    Asian or Pacific Islander  :  5821  \n",
       "  Professional specialty        :13940    Black                      : 20206  \n",
       "  Executive admin and managerial:12495    Other                      :  3645  \n",
       "  Other service                 :12097    White                      :164380  \n",
       "  Sales                         :11781                                        \n",
       " (Other)                        :33678                                        \n",
       "                       hispanic           sex                      union       \n",
       "  All other                :168803    Female:102400    No             : 16032  \n",
       "  Mexican-American         :  8008    Male  : 93894    Not in universe:177232  \n",
       "  Mexican (Mexicano)       :  7210                     Yes            :  3030  \n",
       "  Central or South American:  3891                                             \n",
       "  Puerto Rican             :  3306                                             \n",
       "  Other Spanish            :  2476                                             \n",
       " (Other)                   :  2600                                             \n",
       "              reason.unemployed                              employ.status   \n",
       "  Job leaver           :   598    Children or Armed Forces          :120632  \n",
       "  Job loser - on layoff:   976    Full-time schedules               : 40728  \n",
       "  New entrant          :   438    Not in labor force                : 26726  \n",
       "  Not in universe      :190226    PT for non-econ reasons usually FT:  3322  \n",
       "  Other job loser      :  2038    Unemployed full-time              :  2310  \n",
       "  Re-entrant           :  2018    PT for econ reasons usually PT    :  1209  \n",
       "                                 (Other)                            :  1367  \n",
       "   cap.gains          cap.loss          dividend      \n",
       " Min.   :    0.0   Min.   :   0.00   Min.   :    0.0  \n",
       " 1st Qu.:    0.0   1st Qu.:   0.00   1st Qu.:    0.0  \n",
       " Median :    0.0   Median :   0.00   Median :    0.0  \n",
       " Mean   :  441.9   Mean   :  37.93   Mean   :  200.7  \n",
       " 3rd Qu.:    0.0   3rd Qu.:   0.00   3rd Qu.:    0.0  \n",
       " Max.   :99999.0   Max.   :4608.00   Max.   :99999.0  \n",
       "                                                      \n",
       "                         tax.status                 region      \n",
       "  Head of household           : 7425    Abroad         :   530  \n",
       "  Joint both 65+              : 8326    Midwest        :  3559  \n",
       "  Joint both under 65         :67367    Northeast      :  2700  \n",
       "  Joint one under 65 & one 65+: 3864    Not in universe: 83771  \n",
       "  Nonfiler                    :71903    South          :101666  \n",
       "  Single                      :37409    West           :  4068  \n",
       "                                                                \n",
       "              state                                          family.stat   \n",
       "  Not in universe:180562    Householder                            :53242  \n",
       "  California     :  1710    Child <18 never marr not in subfamily  :47219  \n",
       "  Utah           :  1061    Spouse of householder                  :41670  \n",
       "  Florida        :   847    Nonfamily householder                  :22205  \n",
       "  North Carolina :   810    Child 18+ never marr Not in a subfamily:12016  \n",
       " (Other)         : 10597    Secondary individual                   : 6109  \n",
       " NA's            :   707   (Other)                                 :13833  \n",
       "                      household.summary     weight        \n",
       "  Householder                  :75461   Min.   :   37.87  \n",
       "  Child under 18 never married :47318   1st Qu.: 1061.53  \n",
       "  Spouse of householder        :41684   Median : 1620.17  \n",
       "  Child 18 or older            :14416   Mean   : 1743.27  \n",
       "  Other relative of householder: 9651   3rd Qu.: 2194.06  \n",
       "  Nonrelative of householder   : 7585   Max.   :18656.30  \n",
       " (Other)                       :  179                     \n",
       "           migration.msa                          migration.reg   \n",
       "  Not in universe :99434    Same county                  :106570  \n",
       "  Nonmover        :81128    Nonmover                     : 81128  \n",
       "  MSA to MSA      :10572    Different county same state  :  2792  \n",
       "  NonMSA to nonMSA: 2802    Not in universe              :  2643  \n",
       "  MSA to nonMSA   :  787    Different region             :  1178  \n",
       "  NonMSA to MSA   :  615    Different state same division:   990  \n",
       " (Other)          :  956   (Other)                       :   993  \n",
       "                         move.reg     \n",
       "  Same county                :106570  \n",
       "  Nonmover                   : 81128  \n",
       "  Different county same state:  2792  \n",
       "  Not in universe            :  2643  \n",
       "  Different state in South   :   972  \n",
       "  Different state in West    :   678  \n",
       " (Other)                     :  1511  \n",
       "                              yr.house                 sunbelt      \n",
       "  No                              :15732    No             :106750  \n",
       "  Not in universe under 1 year old:99434    Not in universe: 83771  \n",
       "  Yes                             :81128    Yes            :  5773  \n",
       "                                                                    \n",
       "                                                                    \n",
       "                                                                    \n",
       "                                                                    \n",
       "  num.employer                      children               father.nat    \n",
       " Min.   :0.000    Both parents present  : 36107    United-States:156037  \n",
       " 1st Qu.:0.000    Father only present   :  1871    Mexico       :  9948  \n",
       " Median :1.000    Mother only present   : 12517    Puerto-Rico  :  2676  \n",
       " Mean   :1.988    Neither parent present:  1638    Italy        :  2212  \n",
       " 3rd Qu.:4.000    Not in universe       :144161    Canada       :  1380  \n",
       " Max.   :6.000                                    (Other)       : 17338  \n",
       "                                                  NA's          :  6703  \n",
       "          mother.nat               self.nat     \n",
       "  United-States:157355    United-States:173783  \n",
       "  Mexico       :  9721    Mexico       :  5759  \n",
       "  Puerto-Rico  :  2468    Puerto-Rico  :  1400  \n",
       "  Italy        :  1844    Germany      :   850  \n",
       "  Canada       :  1451    Philippines  :   844  \n",
       " (Other)       : 17348   (Other)       : 10269  \n",
       " NA's          :  6107   NA's          :  3389  \n",
       "                                         citizen       self.employed\n",
       "  Foreign born- Not a citizen of U S         : 13385   0:177445     \n",
       "  Foreign born- U S citizen by naturalization:  5851   1:  2698     \n",
       "  Native- Born abroad of American Parent(s)  :  1753   2: 16151     \n",
       "  Native- Born in Puerto Rico or U S Outlying:  1519                \n",
       "  Native- Born in the United States          :173786                \n",
       "                                                                    \n",
       "                                                                    \n",
       "             va.quest      vet.benefit   wk.worked     year      \n",
       "  No             :  1593   0: 44334    Min.   : 0.00   94:98279  \n",
       "  Not in universe:194310   1:  1984    1st Qu.: 0.00   95:98015  \n",
       "  Yes            :   391   2:149976    Median :12.00             \n",
       "                                       Mean   :23.55             \n",
       "                                       3rd Qu.:52.00             \n",
       "                                       Max.   :52.00             \n",
       "                                                                 \n",
       "       income      \n",
       "  - 50000.:183912  \n",
       "  50000+. : 12382  \n",
       "                   \n",
       "                   \n",
       "                   \n",
       "                   \n",
       "                   "
      ]
     },
     "metadata": {},
     "output_type": "display_data"
    }
   ],
   "source": [
    "df$industry <-factor(df$industry)\n",
    "df$occupation <-factor(df$occupation)\n",
    "df$self.employed <-factor(df$self.employed)\n",
    "df$vet.benefit <-factor(df$vet.benefit)\n",
    "df$year <-factor(df$year)\n",
    "df <- df[,-c(1,2)]\n",
    "summary(df)"
   ]
  },
  {
   "cell_type": "markdown",
   "metadata": {},
   "source": [
    "Check which features have missing values."
   ]
  },
  {
   "cell_type": "code",
   "execution_count": 4,
   "metadata": {},
   "outputs": [
    {
     "name": "stdout",
     "output_type": "stream",
     "text": [
      "[1] \"state\"\n",
      "[1] 707\n",
      "[1] \"father.nat\"\n",
      "[1] 6703\n",
      "[1] \"mother.nat\"\n",
      "[1] 6107\n",
      "[1] \"self.nat\"\n",
      "[1] 3389\n"
     ]
    }
   ],
   "source": [
    "for(i in 1:42){\n",
    "    if(sum(is.na(df[,i]))!=0){\n",
    "        print(names(df)[i])\n",
    "        print(sum(is.na(df[,i])))\n",
    "    }   \n",
    "}"
   ]
  },
  {
   "cell_type": "markdown",
   "metadata": {},
   "source": [
    "The state model predicted 'Not in universe' for all the missing values for the state factor in 1995, so the NA's in the state column from 1994 will be replaced with 'Not in universe'."
   ]
  },
  {
   "cell_type": "code",
   "execution_count": 5,
   "metadata": {},
   "outputs": [],
   "source": [
    "df[is.na(df$state),'state'] <- ' Not in universe'"
   ]
  },
  {
   "cell_type": "markdown",
   "metadata": {},
   "source": [
    "First if nationality will be imputed based on nationality of parents/children. If either parents are US nationality, then the child is assumed to be US nationality."
   ]
  },
  {
   "cell_type": "code",
   "execution_count": 6,
   "metadata": {},
   "outputs": [],
   "source": [
    "df[!is.na(df$father.nat) & (df$father.nat == ' United-States') & is.na(df$self.nat),'self.nat']<-df[!is.na(df$father.nat) & (df$father.nat == ' United-States') & is.na(df$self.nat),'father.nat']"
   ]
  },
  {
   "cell_type": "code",
   "execution_count": 7,
   "metadata": {},
   "outputs": [],
   "source": [
    "df[!is.na(df$mother.nat) & (df$mother.nat == ' United-States') & is.na(df$self.nat),'self.nat']<-df[!is.na(df$mother.nat) & (df$mother.nat == ' United-States') & is.na(df$self.nat),'mother.nat']"
   ]
  },
  {
   "cell_type": "markdown",
   "metadata": {},
   "source": [
    "Otherwise the child will be assumed to have the nationality of the father, or mother if the father's nationality is unknown."
   ]
  },
  {
   "cell_type": "code",
   "execution_count": 8,
   "metadata": {},
   "outputs": [],
   "source": [
    "df[!is.na(df$father.nat) & is.na(df$self.nat),'self.nat']<-df[!is.na(df$father.nat) & is.na(df$self.nat),'father.nat']"
   ]
  },
  {
   "cell_type": "code",
   "execution_count": 9,
   "metadata": {},
   "outputs": [],
   "source": [
    "df[!is.na(df$mother.nat) & is.na(df$self.nat),'self.nat']<-df[!is.na(df$mother.nat) & is.na(df$self.nat),'mother.nat']"
   ]
  },
  {
   "cell_type": "markdown",
   "metadata": {},
   "source": [
    "The mother and father are assumed to have the same nationality if one of their nationalities is unknown."
   ]
  },
  {
   "cell_type": "code",
   "execution_count": 10,
   "metadata": {},
   "outputs": [],
   "source": [
    "df[!is.na(df$mother.nat) & is.na(df$father.nat),'father.nat']<-df[!is.na(df$mother.nat) & is.na(df$father.nat),'mother.nat']"
   ]
  },
  {
   "cell_type": "code",
   "execution_count": 11,
   "metadata": {},
   "outputs": [],
   "source": [
    "df[is.na(df$mother.nat) & !is.na(df$father.nat),'mother.nat']<-df[is.na(df$mother.nat) & !is.na(df$father.nat),'father.nat']"
   ]
  },
  {
   "cell_type": "markdown",
   "metadata": {},
   "source": [
    "Otherwise they are assumed to have the same nationality as the child if known."
   ]
  },
  {
   "cell_type": "code",
   "execution_count": 12,
   "metadata": {},
   "outputs": [],
   "source": [
    "df[!is.na(df$self.nat) & is.na(df$father.nat),'father.nat']<-df[!is.na(df$self.nat) & is.na(df$father.nat),'self.nat']"
   ]
  },
  {
   "cell_type": "code",
   "execution_count": 13,
   "metadata": {},
   "outputs": [],
   "source": [
    "df[!is.na(df$self.nat) & is.na(df$mother.nat),'mother.nat']<-df[!is.na(df$self.nat) & is.na(df$mother.nat),'self.nat']"
   ]
  },
  {
   "cell_type": "markdown",
   "metadata": {},
   "source": [
    "This leaves the cases where all three nationalities are missing. Theses will be imputed using other relevant factors, which are first dummy coded."
   ]
  },
  {
   "cell_type": "code",
   "execution_count": 28,
   "metadata": {},
   "outputs": [
    {
     "name": "stderr",
     "output_type": "stream",
     "text": [
      "Warning message in model.frame.default(Terms, newdata, na.action = na.action, xlev = object$lvls):\n",
      "\"variable 'income' is not a factor\""
     ]
    },
    {
     "data": {
      "text/html": [
       "<table>\n",
       "<thead><tr><th></th><th scope=col>race. Asian or Pacific Islander</th><th scope=col>race. Black</th><th scope=col>race. Other</th><th scope=col>race. White</th><th scope=col>hispanic. Central or South American</th><th scope=col>hispanic. Chicano</th><th scope=col>hispanic. Cuban</th><th scope=col>hispanic. Do not know</th><th scope=col>hispanic. Mexican-American</th><th scope=col>hispanic. Mexican (Mexicano)</th><th scope=col>...</th><th scope=col>state. Utah</th><th scope=col>state. Vermont</th><th scope=col>state. Virginia</th><th scope=col>state. West Virginia</th><th scope=col>state. Wisconsin</th><th scope=col>state. Wyoming</th><th scope=col>citizen. Foreign born- U S citizen by naturalization</th><th scope=col>citizen. Native- Born abroad of American Parent(s)</th><th scope=col>citizen. Native- Born in Puerto Rico or U S Outlying</th><th scope=col>citizen. Native- Born in the United States</th></tr></thead>\n",
       "<tbody>\n",
       "\t<tr><th scope=row>1</th><td>0  </td><td>0  </td><td>0  </td><td>1  </td><td>0  </td><td>0  </td><td>0  </td><td>0  </td><td>0  </td><td>0  </td><td>...</td><td>0  </td><td>0  </td><td>0  </td><td>0  </td><td>0  </td><td>0  </td><td>0  </td><td>0  </td><td>0  </td><td>1  </td></tr>\n",
       "\t<tr><th scope=row>2</th><td>0  </td><td>0  </td><td>0  </td><td>1  </td><td>0  </td><td>0  </td><td>0  </td><td>0  </td><td>0  </td><td>0  </td><td>...</td><td>0  </td><td>0  </td><td>0  </td><td>0  </td><td>0  </td><td>0  </td><td>0  </td><td>0  </td><td>0  </td><td>1  </td></tr>\n",
       "\t<tr><th scope=row>3</th><td>1  </td><td>0  </td><td>0  </td><td>0  </td><td>0  </td><td>0  </td><td>0  </td><td>0  </td><td>0  </td><td>0  </td><td>...</td><td>0  </td><td>0  </td><td>0  </td><td>0  </td><td>0  </td><td>0  </td><td>0  </td><td>0  </td><td>0  </td><td>0  </td></tr>\n",
       "\t<tr><th scope=row>4</th><td>0  </td><td>0  </td><td>0  </td><td>1  </td><td>0  </td><td>0  </td><td>0  </td><td>0  </td><td>0  </td><td>0  </td><td>...</td><td>0  </td><td>0  </td><td>0  </td><td>0  </td><td>0  </td><td>0  </td><td>0  </td><td>0  </td><td>0  </td><td>1  </td></tr>\n",
       "\t<tr><th scope=row>5</th><td>0  </td><td>0  </td><td>0  </td><td>1  </td><td>0  </td><td>0  </td><td>0  </td><td>0  </td><td>0  </td><td>0  </td><td>...</td><td>0  </td><td>0  </td><td>0  </td><td>0  </td><td>0  </td><td>0  </td><td>0  </td><td>0  </td><td>0  </td><td>1  </td></tr>\n",
       "</tbody>\n",
       "</table>\n"
      ],
      "text/latex": [
       "\\begin{tabular}{r|lllllllllllllllllllllllllllllllllllllllllllllllllllllllllllllllllllllll}\n",
       "  & race. Asian or Pacific Islander & race. Black & race. Other & race. White & hispanic. Central or South American & hispanic. Chicano & hispanic. Cuban & hispanic. Do not know & hispanic. Mexican-American & hispanic. Mexican (Mexicano) & ... & state. Utah & state. Vermont & state. Virginia & state. West Virginia & state. Wisconsin & state. Wyoming & citizen. Foreign born- U S citizen by naturalization & citizen. Native- Born abroad of American Parent(s) & citizen. Native- Born in Puerto Rico or U S Outlying & citizen. Native- Born in the United States\\\\\n",
       "\\hline\n",
       "\t1 & 0   & 0   & 0   & 1   & 0   & 0   & 0   & 0   & 0   & 0   & ... & 0   & 0   & 0   & 0   & 0   & 0   & 0   & 0   & 0   & 1  \\\\\n",
       "\t2 & 0   & 0   & 0   & 1   & 0   & 0   & 0   & 0   & 0   & 0   & ... & 0   & 0   & 0   & 0   & 0   & 0   & 0   & 0   & 0   & 1  \\\\\n",
       "\t3 & 1   & 0   & 0   & 0   & 0   & 0   & 0   & 0   & 0   & 0   & ... & 0   & 0   & 0   & 0   & 0   & 0   & 0   & 0   & 0   & 0  \\\\\n",
       "\t4 & 0   & 0   & 0   & 1   & 0   & 0   & 0   & 0   & 0   & 0   & ... & 0   & 0   & 0   & 0   & 0   & 0   & 0   & 0   & 0   & 1  \\\\\n",
       "\t5 & 0   & 0   & 0   & 1   & 0   & 0   & 0   & 0   & 0   & 0   & ... & 0   & 0   & 0   & 0   & 0   & 0   & 0   & 0   & 0   & 1  \\\\\n",
       "\\end{tabular}\n"
      ],
      "text/markdown": [
       "\n",
       "| <!--/--> | race. Asian or Pacific Islander | race. Black | race. Other | race. White | hispanic. Central or South American | hispanic. Chicano | hispanic. Cuban | hispanic. Do not know | hispanic. Mexican-American | hispanic. Mexican (Mexicano) | ... | state. Utah | state. Vermont | state. Virginia | state. West Virginia | state. Wisconsin | state. Wyoming | citizen. Foreign born- U S citizen by naturalization | citizen. Native- Born abroad of American Parent(s) | citizen. Native- Born in Puerto Rico or U S Outlying | citizen. Native- Born in the United States | \n",
       "|---|---|---|---|---|\n",
       "| 1 | 0   | 0   | 0   | 1   | 0   | 0   | 0   | 0   | 0   | 0   | ... | 0   | 0   | 0   | 0   | 0   | 0   | 0   | 0   | 0   | 1   | \n",
       "| 2 | 0   | 0   | 0   | 1   | 0   | 0   | 0   | 0   | 0   | 0   | ... | 0   | 0   | 0   | 0   | 0   | 0   | 0   | 0   | 0   | 1   | \n",
       "| 3 | 1   | 0   | 0   | 0   | 0   | 0   | 0   | 0   | 0   | 0   | ... | 0   | 0   | 0   | 0   | 0   | 0   | 0   | 0   | 0   | 0   | \n",
       "| 4 | 0   | 0   | 0   | 1   | 0   | 0   | 0   | 0   | 0   | 0   | ... | 0   | 0   | 0   | 0   | 0   | 0   | 0   | 0   | 0   | 1   | \n",
       "| 5 | 0   | 0   | 0   | 1   | 0   | 0   | 0   | 0   | 0   | 0   | ... | 0   | 0   | 0   | 0   | 0   | 0   | 0   | 0   | 0   | 1   | \n",
       "\n",
       "\n"
      ],
      "text/plain": [
       "  race. Asian or Pacific Islander race. Black race. Other race. White\n",
       "1 0                               0           0           1          \n",
       "2 0                               0           0           1          \n",
       "3 1                               0           0           0          \n",
       "4 0                               0           0           1          \n",
       "5 0                               0           0           1          \n",
       "  hispanic. Central or South American hispanic. Chicano hispanic. Cuban\n",
       "1 0                                   0                 0              \n",
       "2 0                                   0                 0              \n",
       "3 0                                   0                 0              \n",
       "4 0                                   0                 0              \n",
       "5 0                                   0                 0              \n",
       "  hispanic. Do not know hispanic. Mexican-American hispanic. Mexican (Mexicano)\n",
       "1 0                     0                          0                           \n",
       "2 0                     0                          0                           \n",
       "3 0                     0                          0                           \n",
       "4 0                     0                          0                           \n",
       "5 0                     0                          0                           \n",
       "  ... state. Utah state. Vermont state. Virginia state. West Virginia\n",
       "1 ... 0           0              0               0                   \n",
       "2 ... 0           0              0               0                   \n",
       "3 ... 0           0              0               0                   \n",
       "4 ... 0           0              0               0                   \n",
       "5 ... 0           0              0               0                   \n",
       "  state. Wisconsin state. Wyoming\n",
       "1 0                0             \n",
       "2 0                0             \n",
       "3 0                0             \n",
       "4 0                0             \n",
       "5 0                0             \n",
       "  citizen. Foreign born- U S citizen by naturalization\n",
       "1 0                                                   \n",
       "2 0                                                   \n",
       "3 0                                                   \n",
       "4 0                                                   \n",
       "5 0                                                   \n",
       "  citizen. Native- Born abroad of American Parent(s)\n",
       "1 0                                                 \n",
       "2 0                                                 \n",
       "3 0                                                 \n",
       "4 0                                                 \n",
       "5 0                                                 \n",
       "  citizen. Native- Born in Puerto Rico or U S Outlying\n",
       "1 0                                                   \n",
       "2 0                                                   \n",
       "3 0                                                   \n",
       "4 0                                                   \n",
       "5 0                                                   \n",
       "  citizen. Native- Born in the United States\n",
       "1 1                                         \n",
       "2 1                                         \n",
       "3 0                                         \n",
       "4 1                                         \n",
       "5 1                                         "
      ]
     },
     "metadata": {},
     "output_type": "display_data"
    }
   ],
   "source": [
    "dfnat <- df[!is.na(df$self.nat),c('race','hispanic','region','state','citizen','income')]\n",
    "dummynat <- dummyVars(income~.,dfnat,fullRank=TRUE)\n",
    "Xnat <- predict(dummynat,dfnat)\n",
    "head(Xnat,5)"
   ]
  },
  {
   "cell_type": "code",
   "execution_count": 29,
   "metadata": {},
   "outputs": [],
   "source": [
    "yselfnat <- df[!is.na(df$self.nat),'self.nat']\n",
    "yfathernat <- df[!is.na(df$self.nat),'father.nat']\n",
    "ymothernat <- df[!is.na(df$self.nat),'mother.nat']"
   ]
  },
  {
   "cell_type": "markdown",
   "metadata": {},
   "source": [
    "Decision tree models are trained using 5-fold cross validation."
   ]
  },
  {
   "cell_type": "code",
   "execution_count": 31,
   "metadata": {},
   "outputs": [
    {
     "data": {
      "text/plain": [
       "CART \n",
       "\n",
       "193484 samples\n",
       "    71 predictor\n",
       "    42 classes: ' Cambodia', ' Canada', ' China', ' Columbia', ' Cuba', ' Dominican-Republic', ' Ecuador', ' El-Salvador', ' England', ' France', ' Germany', ' Greece', ' Guatemala', ' Haiti', ' Holand-Netherlands', ' Honduras', ' Hong Kong', ' Hungary', ' India', ' Iran', ' Ireland', ' Italy', ' Jamaica', ' Japan', ' Laos', ' Mexico', ' Nicaragua', ' Outlying-U S (Guam USVI etc)', ' Panama', ' Peru', ' Philippines', ' Poland', ' Portugal', ' Puerto-Rico', ' Scotland', ' South Korea', ' Taiwan', ' Thailand', ' Trinadad&Tobago', ' United-States', ' Vietnam', ' Yugoslavia' \n",
       "\n",
       "No pre-processing\n",
       "Resampling: Cross-Validated (5 fold) \n",
       "Summary of sample sizes: 154784, 154789, 154791, 154785, 154787 \n",
       "Resampling results across tuning parameters:\n",
       "\n",
       "  cp          Accuracy   Kappa    \n",
       "  0.03502645  0.9423930  0.6984328\n",
       "  0.03792820  0.9325629  0.6447530\n",
       "  0.28437163  0.9107422  0.2474609\n",
       "\n",
       "Accuracy was used to select the optimal model using the largest value.\n",
       "The final value used for the model was cp = 0.03502645."
      ]
     },
     "metadata": {},
     "output_type": "display_data"
    }
   ],
   "source": [
    "selfnatmodel <- train(Xnat,yselfnat,method='rpart',trControl=trainControl(method='cv',number=5))\n",
    "selfnatmodel"
   ]
  },
  {
   "cell_type": "code",
   "execution_count": 32,
   "metadata": {},
   "outputs": [
    {
     "data": {
      "text/plain": [
       "CART \n",
       "\n",
       "193484 samples\n",
       "    71 predictor\n",
       "    42 classes: ' Cambodia', ' Canada', ' China', ' Columbia', ' Cuba', ' Dominican-Republic', ' Ecuador', ' El-Salvador', ' England', ' France', ' Germany', ' Greece', ' Guatemala', ' Haiti', ' Holand-Netherlands', ' Honduras', ' Hong Kong', ' Hungary', ' India', ' Iran', ' Ireland', ' Italy', ' Jamaica', ' Japan', ' Laos', ' Mexico', ' Nicaragua', ' Outlying-U S (Guam USVI etc)', ' Panama', ' Peru', ' Philippines', ' Poland', ' Portugal', ' Puerto-Rico', ' Scotland', ' South Korea', ' Taiwan', ' Thailand', ' Trinadad&Tobago', ' United-States', ' Vietnam', ' Yugoslavia' \n",
       "\n",
       "No pre-processing\n",
       "Resampling: Cross-Validated (5 fold) \n",
       "Summary of sample sizes: 154784, 154790, 154787, 154788, 154787 \n",
       "Resampling results across tuning parameters:\n",
       "\n",
       "  cp          Accuracy   Kappa    \n",
       "  0.02379494  0.8559571  0.3743215\n",
       "  0.02627358  0.8476979  0.3455345\n",
       "  0.12087015  0.8312828  0.1556817\n",
       "\n",
       "Accuracy was used to select the optimal model using the largest value.\n",
       "The final value used for the model was cp = 0.02379494."
      ]
     },
     "metadata": {},
     "output_type": "display_data"
    }
   ],
   "source": [
    "fathernatmodel <- train(Xnat,yfathernat,method='rpart',trControl=trainControl(method='cv',number=5))\n",
    "fathernatmodel"
   ]
  },
  {
   "cell_type": "code",
   "execution_count": 33,
   "metadata": {},
   "outputs": [
    {
     "data": {
      "text/plain": [
       "CART \n",
       "\n",
       "193484 samples\n",
       "    71 predictor\n",
       "    42 classes: ' Cambodia', ' Canada', ' China', ' Columbia', ' Cuba', ' Dominican-Republic', ' Ecuador', ' El-Salvador', ' England', ' France', ' Germany', ' Greece', ' Guatemala', ' Haiti', ' Holand-Netherlands', ' Honduras', ' Hong Kong', ' Hungary', ' India', ' Iran', ' Ireland', ' Italy', ' Jamaica', ' Japan', ' Laos', ' Mexico', ' Nicaragua', ' Outlying-U S (Guam USVI etc)', ' Panama', ' Peru', ' Philippines', ' Poland', ' Portugal', ' Puerto-Rico', ' Scotland', ' South Korea', ' Taiwan', ' Thailand', ' Trinadad&Tobago', ' United-States', ' Vietnam', ' Yugoslavia' \n",
       "\n",
       "No pre-processing\n",
       "Resampling: Cross-Validated (5 fold) \n",
       "Summary of sample sizes: 154788, 154784, 154791, 154788, 154785 \n",
       "Resampling results across tuning parameters:\n",
       "\n",
       "  cp          Accuracy   Kappa    \n",
       "  0.02312502  0.8607120  0.3307438\n",
       "  0.02381309  0.8548459  0.3345540\n",
       "  0.13285667  0.8361929  0.1609285\n",
       "\n",
       "Accuracy was used to select the optimal model using the largest value.\n",
       "The final value used for the model was cp = 0.02312502."
      ]
     },
     "metadata": {},
     "output_type": "display_data"
    }
   ],
   "source": [
    "mothernatmodel <- train(Xnat,ymothernat,method='rpart',trControl=trainControl(method='cv',number=5))\n",
    "mothernatmodel"
   ]
  },
  {
   "cell_type": "markdown",
   "metadata": {},
   "source": [
    "The predictors are dummy coded for the missing values."
   ]
  },
  {
   "cell_type": "code",
   "execution_count": 35,
   "metadata": {},
   "outputs": [
    {
     "name": "stderr",
     "output_type": "stream",
     "text": [
      "Warning message in model.frame.default(Terms, newdata, na.action = na.action, xlev = object$lvls):\n",
      "\"variable 'income' is not a factor\""
     ]
    },
    {
     "data": {
      "text/html": [
       "<table>\n",
       "<thead><tr><th></th><th scope=col>race. Asian or Pacific Islander</th><th scope=col>race. Black</th><th scope=col>race. Other</th><th scope=col>race. White</th><th scope=col>hispanic. Central or South American</th><th scope=col>hispanic. Chicano</th><th scope=col>hispanic. Cuban</th><th scope=col>hispanic. Do not know</th><th scope=col>hispanic. Mexican-American</th><th scope=col>hispanic. Mexican (Mexicano)</th><th scope=col>...</th><th scope=col>state. Utah</th><th scope=col>state. Vermont</th><th scope=col>state. Virginia</th><th scope=col>state. West Virginia</th><th scope=col>state. Wisconsin</th><th scope=col>state. Wyoming</th><th scope=col>citizen. Foreign born- U S citizen by naturalization</th><th scope=col>citizen. Native- Born abroad of American Parent(s)</th><th scope=col>citizen. Native- Born in Puerto Rico or U S Outlying</th><th scope=col>citizen. Native- Born in the United States</th></tr></thead>\n",
       "<tbody>\n",
       "\t<tr><th scope=row>12</th><td>0  </td><td>1  </td><td>0  </td><td>0  </td><td>0  </td><td>0  </td><td>0  </td><td>0  </td><td>0  </td><td>0  </td><td>...</td><td>0  </td><td>0  </td><td>0  </td><td>0  </td><td>0  </td><td>0  </td><td>0  </td><td>0  </td><td>0  </td><td>0  </td></tr>\n",
       "\t<tr><th scope=row>88</th><td>0  </td><td>0  </td><td>1  </td><td>0  </td><td>0  </td><td>0  </td><td>0  </td><td>0  </td><td>0  </td><td>0  </td><td>...</td><td>0  </td><td>0  </td><td>0  </td><td>0  </td><td>0  </td><td>0  </td><td>0  </td><td>0  </td><td>0  </td><td>0  </td></tr>\n",
       "\t<tr><th scope=row>93</th><td>0  </td><td>0  </td><td>0  </td><td>1  </td><td>0  </td><td>0  </td><td>0  </td><td>0  </td><td>0  </td><td>0  </td><td>...</td><td>0  </td><td>0  </td><td>0  </td><td>0  </td><td>0  </td><td>0  </td><td>1  </td><td>0  </td><td>0  </td><td>0  </td></tr>\n",
       "\t<tr><th scope=row>130</th><td>1  </td><td>0  </td><td>0  </td><td>0  </td><td>0  </td><td>0  </td><td>0  </td><td>0  </td><td>0  </td><td>0  </td><td>...</td><td>0  </td><td>0  </td><td>0  </td><td>0  </td><td>0  </td><td>0  </td><td>0  </td><td>0  </td><td>0  </td><td>0  </td></tr>\n",
       "\t<tr><th scope=row>194</th><td>0  </td><td>0  </td><td>0  </td><td>1  </td><td>0  </td><td>0  </td><td>0  </td><td>0  </td><td>0  </td><td>0  </td><td>...</td><td>0  </td><td>0  </td><td>0  </td><td>0  </td><td>0  </td><td>0  </td><td>0  </td><td>0  </td><td>0  </td><td>0  </td></tr>\n",
       "</tbody>\n",
       "</table>\n"
      ],
      "text/latex": [
       "\\begin{tabular}{r|lllllllllllllllllllllllllllllllllllllllllllllllllllllllllllllllllllllll}\n",
       "  & race. Asian or Pacific Islander & race. Black & race. Other & race. White & hispanic. Central or South American & hispanic. Chicano & hispanic. Cuban & hispanic. Do not know & hispanic. Mexican-American & hispanic. Mexican (Mexicano) & ... & state. Utah & state. Vermont & state. Virginia & state. West Virginia & state. Wisconsin & state. Wyoming & citizen. Foreign born- U S citizen by naturalization & citizen. Native- Born abroad of American Parent(s) & citizen. Native- Born in Puerto Rico or U S Outlying & citizen. Native- Born in the United States\\\\\n",
       "\\hline\n",
       "\t12 & 0   & 1   & 0   & 0   & 0   & 0   & 0   & 0   & 0   & 0   & ... & 0   & 0   & 0   & 0   & 0   & 0   & 0   & 0   & 0   & 0  \\\\\n",
       "\t88 & 0   & 0   & 1   & 0   & 0   & 0   & 0   & 0   & 0   & 0   & ... & 0   & 0   & 0   & 0   & 0   & 0   & 0   & 0   & 0   & 0  \\\\\n",
       "\t93 & 0   & 0   & 0   & 1   & 0   & 0   & 0   & 0   & 0   & 0   & ... & 0   & 0   & 0   & 0   & 0   & 0   & 1   & 0   & 0   & 0  \\\\\n",
       "\t130 & 1   & 0   & 0   & 0   & 0   & 0   & 0   & 0   & 0   & 0   & ... & 0   & 0   & 0   & 0   & 0   & 0   & 0   & 0   & 0   & 0  \\\\\n",
       "\t194 & 0   & 0   & 0   & 1   & 0   & 0   & 0   & 0   & 0   & 0   & ... & 0   & 0   & 0   & 0   & 0   & 0   & 0   & 0   & 0   & 0  \\\\\n",
       "\\end{tabular}\n"
      ],
      "text/markdown": [
       "\n",
       "| <!--/--> | race. Asian or Pacific Islander | race. Black | race. Other | race. White | hispanic. Central or South American | hispanic. Chicano | hispanic. Cuban | hispanic. Do not know | hispanic. Mexican-American | hispanic. Mexican (Mexicano) | ... | state. Utah | state. Vermont | state. Virginia | state. West Virginia | state. Wisconsin | state. Wyoming | citizen. Foreign born- U S citizen by naturalization | citizen. Native- Born abroad of American Parent(s) | citizen. Native- Born in Puerto Rico or U S Outlying | citizen. Native- Born in the United States | \n",
       "|---|---|---|---|---|\n",
       "| 12 | 0   | 1   | 0   | 0   | 0   | 0   | 0   | 0   | 0   | 0   | ... | 0   | 0   | 0   | 0   | 0   | 0   | 0   | 0   | 0   | 0   | \n",
       "| 88 | 0   | 0   | 1   | 0   | 0   | 0   | 0   | 0   | 0   | 0   | ... | 0   | 0   | 0   | 0   | 0   | 0   | 0   | 0   | 0   | 0   | \n",
       "| 93 | 0   | 0   | 0   | 1   | 0   | 0   | 0   | 0   | 0   | 0   | ... | 0   | 0   | 0   | 0   | 0   | 0   | 1   | 0   | 0   | 0   | \n",
       "| 130 | 1   | 0   | 0   | 0   | 0   | 0   | 0   | 0   | 0   | 0   | ... | 0   | 0   | 0   | 0   | 0   | 0   | 0   | 0   | 0   | 0   | \n",
       "| 194 | 0   | 0   | 0   | 1   | 0   | 0   | 0   | 0   | 0   | 0   | ... | 0   | 0   | 0   | 0   | 0   | 0   | 0   | 0   | 0   | 0   | \n",
       "\n",
       "\n"
      ],
      "text/plain": [
       "    race. Asian or Pacific Islander race. Black race. Other race. White\n",
       "12  0                               1           0           0          \n",
       "88  0                               0           1           0          \n",
       "93  0                               0           0           1          \n",
       "130 1                               0           0           0          \n",
       "194 0                               0           0           1          \n",
       "    hispanic. Central or South American hispanic. Chicano hispanic. Cuban\n",
       "12  0                                   0                 0              \n",
       "88  0                                   0                 0              \n",
       "93  0                                   0                 0              \n",
       "130 0                                   0                 0              \n",
       "194 0                                   0                 0              \n",
       "    hispanic. Do not know hispanic. Mexican-American\n",
       "12  0                     0                         \n",
       "88  0                     0                         \n",
       "93  0                     0                         \n",
       "130 0                     0                         \n",
       "194 0                     0                         \n",
       "    hispanic. Mexican (Mexicano) ... state. Utah state. Vermont state. Virginia\n",
       "12  0                            ... 0           0              0              \n",
       "88  0                            ... 0           0              0              \n",
       "93  0                            ... 0           0              0              \n",
       "130 0                            ... 0           0              0              \n",
       "194 0                            ... 0           0              0              \n",
       "    state. West Virginia state. Wisconsin state. Wyoming\n",
       "12  0                    0                0             \n",
       "88  0                    0                0             \n",
       "93  0                    0                0             \n",
       "130 0                    0                0             \n",
       "194 0                    0                0             \n",
       "    citizen. Foreign born- U S citizen by naturalization\n",
       "12  0                                                   \n",
       "88  0                                                   \n",
       "93  1                                                   \n",
       "130 0                                                   \n",
       "194 0                                                   \n",
       "    citizen. Native- Born abroad of American Parent(s)\n",
       "12  0                                                 \n",
       "88  0                                                 \n",
       "93  0                                                 \n",
       "130 0                                                 \n",
       "194 0                                                 \n",
       "    citizen. Native- Born in Puerto Rico or U S Outlying\n",
       "12  0                                                   \n",
       "88  0                                                   \n",
       "93  0                                                   \n",
       "130 0                                                   \n",
       "194 0                                                   \n",
       "    citizen. Native- Born in the United States\n",
       "12  0                                         \n",
       "88  0                                         \n",
       "93  0                                         \n",
       "130 0                                         \n",
       "194 0                                         "
      ]
     },
     "metadata": {},
     "output_type": "display_data"
    }
   ],
   "source": [
    "dfnanat <- df[is.na(df$self.nat),c('race','hispanic','region','state','citizen','income')]\n",
    "Xnanat <- predict(dummynat,dfnanat)\n",
    "head(Xnanat,5)"
   ]
  },
  {
   "cell_type": "markdown",
   "metadata": {},
   "source": [
    "THe missing values are imputed using the decision tree models."
   ]
  },
  {
   "cell_type": "code",
   "execution_count": 37,
   "metadata": {},
   "outputs": [
    {
     "data": {
      "text/plain": [
       "      self.nat             father.nat            mother.nat  \n",
       "  Germany :2793    United-States:2802    United-States:2802  \n",
       "  Cuba    :   9    Mexico       :   8    Mexico       :   8  \n",
       "  Mexico  :   8    Cambodia     :   0    Cambodia     :   0  \n",
       "  Cambodia:   0    Canada       :   0    Canada       :   0  \n",
       "  Canada  :   0    China        :   0    China        :   0  \n",
       "  China   :   0    Columbia     :   0    Columbia     :   0  \n",
       " (Other)  :   0   (Other)       :   0   (Other)       :   0  "
      ]
     },
     "metadata": {},
     "output_type": "display_data"
    }
   ],
   "source": [
    "nat <- as.data.frame(predict(selfnatmodel,Xnanat))\n",
    "names(nat)<-c('self.nat')\n",
    "nat$father.nat <- predict(fathernatmodel,Xnanat)\n",
    "nat$mother.nat <- predict(mothernatmodel,Xnanat)\n",
    "summary(nat)"
   ]
  },
  {
   "cell_type": "code",
   "execution_count": 38,
   "metadata": {},
   "outputs": [],
   "source": [
    "df[is.na(df$self.nat),'self.nat']<-nat$self.nat\n",
    "df[is.na(df$father.nat),'father.nat']<-nat$father.nat\n",
    "df[is.na(df$mother.nat),'mother.nat']<-nat$mother.nat"
   ]
  },
  {
   "cell_type": "markdown",
   "metadata": {},
   "source": [
    "The complete data set with no missing values is exported for later use."
   ]
  },
  {
   "cell_type": "code",
   "execution_count": 42,
   "metadata": {},
   "outputs": [],
   "source": [
    "write.csv(df,'C:/Datasets/censusincomedfFull.csv')"
   ]
  },
  {
   "cell_type": "markdown",
   "metadata": {},
   "source": [
    "The data is dummy coded and exported for later use."
   ]
  },
  {
   "cell_type": "code",
   "execution_count": 43,
   "metadata": {},
   "outputs": [
    {
     "name": "stderr",
     "output_type": "stream",
     "text": [
      "Warning message in model.frame.default(Terms, newdata, na.action = na.action, xlev = object$lvls):\n",
      "\"variable 'income' is not a factor\""
     ]
    },
    {
     "data": {
      "text/html": [
       "<table>\n",
       "<thead><tr><th></th><th scope=col>age</th><th scope=col>class.worker.Localgovernment</th><th scope=col>class.worker.Neverworked</th><th scope=col>class.worker.Notinuniverse</th><th scope=col>class.worker.Private</th><th scope=col>class.worker.Self-employed-incorporated</th><th scope=col>class.worker.Self-employed-notincorporated</th><th scope=col>class.worker.Stategovernment</th><th scope=col>class.worker.Withoutpay</th><th scope=col>industry.1</th><th scope=col>...</th><th scope=col>citizen.Native-BorninPuertoRicoorUSOutlying</th><th scope=col>citizen.Native-BornintheUnitedStates</th><th scope=col>self.employed.1</th><th scope=col>self.employed.2</th><th scope=col>va.quest.Notinuniverse</th><th scope=col>va.quest.Yes</th><th scope=col>vet.benefit.1</th><th scope=col>vet.benefit.2</th><th scope=col>wk.worked</th><th scope=col>year.95</th></tr></thead>\n",
       "<tbody>\n",
       "\t<tr><th scope=row>1</th><td>73 </td><td>0  </td><td>0  </td><td>1  </td><td>0  </td><td>0  </td><td>0  </td><td>0  </td><td>0  </td><td>0  </td><td>...</td><td>0  </td><td>1  </td><td>0  </td><td>0  </td><td>1  </td><td>0  </td><td>0  </td><td>1  </td><td> 0 </td><td>1  </td></tr>\n",
       "\t<tr><th scope=row>2</th><td>58 </td><td>0  </td><td>0  </td><td>0  </td><td>0  </td><td>0  </td><td>1  </td><td>0  </td><td>0  </td><td>0  </td><td>...</td><td>0  </td><td>1  </td><td>0  </td><td>0  </td><td>1  </td><td>0  </td><td>0  </td><td>1  </td><td>52 </td><td>0  </td></tr>\n",
       "\t<tr><th scope=row>3</th><td>18 </td><td>0  </td><td>0  </td><td>1  </td><td>0  </td><td>0  </td><td>0  </td><td>0  </td><td>0  </td><td>0  </td><td>...</td><td>0  </td><td>0  </td><td>0  </td><td>0  </td><td>1  </td><td>0  </td><td>0  </td><td>1  </td><td> 0 </td><td>1  </td></tr>\n",
       "\t<tr><th scope=row>4</th><td> 9 </td><td>0  </td><td>0  </td><td>1  </td><td>0  </td><td>0  </td><td>0  </td><td>0  </td><td>0  </td><td>0  </td><td>...</td><td>0  </td><td>1  </td><td>0  </td><td>0  </td><td>1  </td><td>0  </td><td>0  </td><td>0  </td><td> 0 </td><td>0  </td></tr>\n",
       "\t<tr><th scope=row>5</th><td>10 </td><td>0  </td><td>0  </td><td>1  </td><td>0  </td><td>0  </td><td>0  </td><td>0  </td><td>0  </td><td>0  </td><td>...</td><td>0  </td><td>1  </td><td>0  </td><td>0  </td><td>1  </td><td>0  </td><td>0  </td><td>0  </td><td> 0 </td><td>0  </td></tr>\n",
       "</tbody>\n",
       "</table>\n"
      ],
      "text/latex": [
       "\\begin{tabular}{r|llllllllllllllllllllllllllllllllllllllllllllllllllllllllllllllllllllllllllllllllllllllllllllllllllllllllllllllllllllllllllllllllllllllllllllllllllllllllllllllllllllllllllllllllllllllllllllllllllllllllllllllllllllllllllllllllllllllllllllllllllllllllllllllllllllllllllllllllllllllllllllllllllllllllllllllllllllllllllllllllllllllllllllllllllllllllllllllllllllllllllllllllllllllllllllllllllllllllllllllllllllllllllllllllllllllllllllllllllllllllllllllllllllllllllllllllllllll}\n",
       "  & age & class.worker.Localgovernment & class.worker.Neverworked & class.worker.Notinuniverse & class.worker.Private & class.worker.Self-employed-incorporated & class.worker.Self-employed-notincorporated & class.worker.Stategovernment & class.worker.Withoutpay & industry.1 & ... & citizen.Native-BorninPuertoRicoorUSOutlying & citizen.Native-BornintheUnitedStates & self.employed.1 & self.employed.2 & va.quest.Notinuniverse & va.quest.Yes & vet.benefit.1 & vet.benefit.2 & wk.worked & year.95\\\\\n",
       "\\hline\n",
       "\t1 & 73  & 0   & 0   & 1   & 0   & 0   & 0   & 0   & 0   & 0   & ... & 0   & 1   & 0   & 0   & 1   & 0   & 0   & 1   &  0  & 1  \\\\\n",
       "\t2 & 58  & 0   & 0   & 0   & 0   & 0   & 1   & 0   & 0   & 0   & ... & 0   & 1   & 0   & 0   & 1   & 0   & 0   & 1   & 52  & 0  \\\\\n",
       "\t3 & 18  & 0   & 0   & 1   & 0   & 0   & 0   & 0   & 0   & 0   & ... & 0   & 0   & 0   & 0   & 1   & 0   & 0   & 1   &  0  & 1  \\\\\n",
       "\t4 &  9  & 0   & 0   & 1   & 0   & 0   & 0   & 0   & 0   & 0   & ... & 0   & 1   & 0   & 0   & 1   & 0   & 0   & 0   &  0  & 0  \\\\\n",
       "\t5 & 10  & 0   & 0   & 1   & 0   & 0   & 0   & 0   & 0   & 0   & ... & 0   & 1   & 0   & 0   & 1   & 0   & 0   & 0   &  0  & 0  \\\\\n",
       "\\end{tabular}\n"
      ],
      "text/markdown": [
       "\n",
       "| <!--/--> | age | class.worker.Localgovernment | class.worker.Neverworked | class.worker.Notinuniverse | class.worker.Private | class.worker.Self-employed-incorporated | class.worker.Self-employed-notincorporated | class.worker.Stategovernment | class.worker.Withoutpay | industry.1 | ... | citizen.Native-BorninPuertoRicoorUSOutlying | citizen.Native-BornintheUnitedStates | self.employed.1 | self.employed.2 | va.quest.Notinuniverse | va.quest.Yes | vet.benefit.1 | vet.benefit.2 | wk.worked | year.95 | \n",
       "|---|---|---|---|---|\n",
       "| 1 | 73  | 0   | 0   | 1   | 0   | 0   | 0   | 0   | 0   | 0   | ... | 0   | 1   | 0   | 0   | 1   | 0   | 0   | 1   |  0  | 1   | \n",
       "| 2 | 58  | 0   | 0   | 0   | 0   | 0   | 1   | 0   | 0   | 0   | ... | 0   | 1   | 0   | 0   | 1   | 0   | 0   | 1   | 52  | 0   | \n",
       "| 3 | 18  | 0   | 0   | 1   | 0   | 0   | 0   | 0   | 0   | 0   | ... | 0   | 0   | 0   | 0   | 1   | 0   | 0   | 1   |  0  | 1   | \n",
       "| 4 |  9  | 0   | 0   | 1   | 0   | 0   | 0   | 0   | 0   | 0   | ... | 0   | 1   | 0   | 0   | 1   | 0   | 0   | 0   |  0  | 0   | \n",
       "| 5 | 10  | 0   | 0   | 1   | 0   | 0   | 0   | 0   | 0   | 0   | ... | 0   | 1   | 0   | 0   | 1   | 0   | 0   | 0   |  0  | 0   | \n",
       "\n",
       "\n"
      ],
      "text/plain": [
       "  age class.worker.Localgovernment class.worker.Neverworked\n",
       "1 73  0                            0                       \n",
       "2 58  0                            0                       \n",
       "3 18  0                            0                       \n",
       "4  9  0                            0                       \n",
       "5 10  0                            0                       \n",
       "  class.worker.Notinuniverse class.worker.Private\n",
       "1 1                          0                   \n",
       "2 0                          0                   \n",
       "3 1                          0                   \n",
       "4 1                          0                   \n",
       "5 1                          0                   \n",
       "  class.worker.Self-employed-incorporated\n",
       "1 0                                      \n",
       "2 0                                      \n",
       "3 0                                      \n",
       "4 0                                      \n",
       "5 0                                      \n",
       "  class.worker.Self-employed-notincorporated class.worker.Stategovernment\n",
       "1 0                                          0                           \n",
       "2 1                                          0                           \n",
       "3 0                                          0                           \n",
       "4 0                                          0                           \n",
       "5 0                                          0                           \n",
       "  class.worker.Withoutpay industry.1 ...\n",
       "1 0                       0          ...\n",
       "2 0                       0          ...\n",
       "3 0                       0          ...\n",
       "4 0                       0          ...\n",
       "5 0                       0          ...\n",
       "  citizen.Native-BorninPuertoRicoorUSOutlying\n",
       "1 0                                          \n",
       "2 0                                          \n",
       "3 0                                          \n",
       "4 0                                          \n",
       "5 0                                          \n",
       "  citizen.Native-BornintheUnitedStates self.employed.1 self.employed.2\n",
       "1 1                                    0               0              \n",
       "2 1                                    0               0              \n",
       "3 0                                    0               0              \n",
       "4 1                                    0               0              \n",
       "5 1                                    0               0              \n",
       "  va.quest.Notinuniverse va.quest.Yes vet.benefit.1 vet.benefit.2 wk.worked\n",
       "1 1                      0            0             1              0       \n",
       "2 1                      0            0             1             52       \n",
       "3 1                      0            0             1              0       \n",
       "4 1                      0            0             0              0       \n",
       "5 1                      0            0             0              0       \n",
       "  year.95\n",
       "1 1      \n",
       "2 0      \n",
       "3 1      \n",
       "4 0      \n",
       "5 0      "
      ]
     },
     "metadata": {},
     "output_type": "display_data"
    }
   ],
   "source": [
    "dummy <- dummyVars(income~.,df,fullRank=TRUE)\n",
    "X <- predict(dummy,df)\n",
    "dimnames(X)[[2]] <- gsub(' ','',dimnames(X)[[2]])\n",
    "head(X,5)"
   ]
  },
  {
   "cell_type": "code",
   "execution_count": 44,
   "metadata": {},
   "outputs": [],
   "source": [
    "write.csv(X,'C:/Datasets/censusincomeXFull.csv')"
   ]
  }
 ],
 "metadata": {
  "kernelspec": {
   "display_name": "R",
   "language": "R",
   "name": "ir"
  },
  "language_info": {
   "codemirror_mode": "r",
   "file_extension": ".r",
   "mimetype": "text/x-r-source",
   "name": "R",
   "pygments_lexer": "r",
   "version": "3.5.1"
  }
 },
 "nbformat": 4,
 "nbformat_minor": 2
}
