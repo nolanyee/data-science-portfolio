{
 "cells": [
  {
   "cell_type": "markdown",
   "metadata": {},
   "source": [
    "# Predicting Survivors of the Titanic\n",
    "\n",
    "The purpose of this project is to create a model that predicts whether a passenger survived the sinking of the Titanic based on passenger information.\n",
    "\n",
    "##### Importing libraries:"
   ]
  },
  {
   "cell_type": "code",
   "execution_count": 8,
   "metadata": {
    "collapsed": true
   },
   "outputs": [
    {
     "name": "stdout",
     "output_type": "stream",
     "text": [
      "Collecting ethnicolr==0.2.0\n",
      "  Using cached https://files.pythonhosted.org/packages/97/ec/ed4d5930059c77c0bab4d101580691d137b5b891020ae5a2931c89983a19/ethnicolr-0.2.0.tar.gz\n",
      "Requirement already satisfied: pandas>=0.19.2 in c:\\users\\nolan\\anaconda3\\lib\\site-packages (from ethnicolr==0.2.0) (0.24.2)\n",
      "Requirement already satisfied: h5py>=2.7.0 in c:\\users\\nolan\\anaconda3\\lib\\site-packages (from ethnicolr==0.2.0) (2.9.0)\n",
      "Collecting Keras>=2.0.6 (from ethnicolr==0.2.0)\n",
      "  Using cached https://files.pythonhosted.org/packages/5e/10/aa32dad071ce52b5502266b5c659451cfd6ffcbf14e6c8c4f16c0ff5aaab/Keras-2.2.4-py2.py3-none-any.whl\n",
      "Requirement already satisfied: numpy>=1.12.1 in c:\\users\\nolan\\anaconda3\\lib\\site-packages (from ethnicolr==0.2.0) (1.16.2)\n",
      "Requirement already satisfied: tensorflow>=1.1.0 in c:\\users\\nolan\\anaconda3\\lib\\site-packages (from ethnicolr==0.2.0) (1.14.0)\n",
      "Requirement already satisfied: pytz>=2011k in c:\\users\\nolan\\anaconda3\\lib\\site-packages (from pandas>=0.19.2->ethnicolr==0.2.0) (2018.9)\n",
      "Requirement already satisfied: python-dateutil>=2.5.0 in c:\\users\\nolan\\anaconda3\\lib\\site-packages (from pandas>=0.19.2->ethnicolr==0.2.0) (2.8.0)\n",
      "Requirement already satisfied: six in c:\\users\\nolan\\anaconda3\\lib\\site-packages (from h5py>=2.7.0->ethnicolr==0.2.0) (1.12.0)\n",
      "Requirement already satisfied: scipy>=0.14 in c:\\users\\nolan\\anaconda3\\lib\\site-packages (from Keras>=2.0.6->ethnicolr==0.2.0) (1.2.1)\n",
      "Requirement already satisfied: keras-applications>=1.0.6 in c:\\users\\nolan\\anaconda3\\lib\\site-packages (from Keras>=2.0.6->ethnicolr==0.2.0) (1.0.8)\n",
      "Requirement already satisfied: pyyaml in c:\\users\\nolan\\anaconda3\\lib\\site-packages (from Keras>=2.0.6->ethnicolr==0.2.0) (5.1)\n",
      "Requirement already satisfied: keras-preprocessing>=1.0.5 in c:\\users\\nolan\\anaconda3\\lib\\site-packages (from Keras>=2.0.6->ethnicolr==0.2.0) (1.1.0)\n",
      "Requirement already satisfied: gast>=0.2.0 in c:\\users\\nolan\\anaconda3\\lib\\site-packages (from tensorflow>=1.1.0->ethnicolr==0.2.0) (0.2.2)\n",
      "Requirement already satisfied: google-pasta>=0.1.6 in c:\\users\\nolan\\anaconda3\\lib\\site-packages (from tensorflow>=1.1.0->ethnicolr==0.2.0) (0.1.7)\n",
      "Requirement already satisfied: wheel>=0.26 in c:\\users\\nolan\\anaconda3\\lib\\site-packages (from tensorflow>=1.1.0->ethnicolr==0.2.0) (0.33.1)\n",
      "Requirement already satisfied: wrapt>=1.11.1 in c:\\users\\nolan\\anaconda3\\lib\\site-packages (from tensorflow>=1.1.0->ethnicolr==0.2.0) (1.11.1)\n",
      "Requirement already satisfied: termcolor>=1.1.0 in c:\\users\\nolan\\anaconda3\\lib\\site-packages (from tensorflow>=1.1.0->ethnicolr==0.2.0) (1.1.0)\n",
      "Requirement already satisfied: astor>=0.6.0 in c:\\users\\nolan\\anaconda3\\lib\\site-packages (from tensorflow>=1.1.0->ethnicolr==0.2.0) (0.8.0)\n",
      "Requirement already satisfied: grpcio>=1.8.6 in c:\\users\\nolan\\anaconda3\\lib\\site-packages (from tensorflow>=1.1.0->ethnicolr==0.2.0) (1.22.0)\n",
      "Requirement already satisfied: protobuf>=3.6.1 in c:\\users\\nolan\\anaconda3\\lib\\site-packages (from tensorflow>=1.1.0->ethnicolr==0.2.0) (3.9.0)\n",
      "Requirement already satisfied: absl-py>=0.7.0 in c:\\users\\nolan\\anaconda3\\lib\\site-packages (from tensorflow>=1.1.0->ethnicolr==0.2.0) (0.7.1)\n",
      "Requirement already satisfied: tensorflow-estimator<1.15.0rc0,>=1.14.0rc0 in c:\\users\\nolan\\anaconda3\\lib\\site-packages (from tensorflow>=1.1.0->ethnicolr==0.2.0) (1.14.0)\n",
      "Requirement already satisfied: tensorboard<1.15.0,>=1.14.0 in c:\\users\\nolan\\anaconda3\\lib\\site-packages (from tensorflow>=1.1.0->ethnicolr==0.2.0) (1.14.0)\n",
      "Requirement already satisfied: setuptools in c:\\users\\nolan\\anaconda3\\lib\\site-packages (from protobuf>=3.6.1->tensorflow>=1.1.0->ethnicolr==0.2.0) (40.8.0)\n",
      "Requirement already satisfied: werkzeug>=0.11.15 in c:\\users\\nolan\\anaconda3\\lib\\site-packages (from tensorboard<1.15.0,>=1.14.0->tensorflow>=1.1.0->ethnicolr==0.2.0) (0.14.1)\n",
      "Requirement already satisfied: markdown>=2.6.8 in c:\\users\\nolan\\anaconda3\\lib\\site-packages (from tensorboard<1.15.0,>=1.14.0->tensorflow>=1.1.0->ethnicolr==0.2.0) (3.1.1)\n",
      "Building wheels for collected packages: ethnicolr\n",
      "  Building wheel for ethnicolr (setup.py): started\n",
      "  Building wheel for ethnicolr (setup.py): finished with status 'done'\n",
      "  Stored in directory: C:\\Users\\Nolan\\AppData\\Local\\pip\\Cache\\wheels\\3f\\66\\03\\d8f060c6c41c32918f2c26936d73717c8d653047914499a397\n",
      "Successfully built ethnicolr\n",
      "Installing collected packages: Keras, ethnicolr\n",
      "Successfully installed Keras-2.2.4 ethnicolr-0.2.0\n"
     ]
    },
    {
     "name": "stderr",
     "output_type": "stream",
     "text": [
      "Using TensorFlow backend.\n"
     ]
    }
   ],
   "source": [
    "import pandas as pd\n",
    "from pandas.api.types import CategoricalDtype\n",
    "import numpy as np\n",
    "from matplotlib import pyplot as plt\n",
    "import sys\n",
    "!{sys.executable} -m pip install \"ethnicolr == 0.2.0\"\n",
    "from ethnicolr import *\n",
    "from sklearn.ensemble import GradientBoostingClassifier, RandomForestClassifier\n",
    "from sklearn.linear_model import LogisticRegression\n",
    "import sklearn.metrics\n",
    "from sklearn.model_selection import GridSearchCV, cross_val_score\n",
    "from sklearn.utils import shuffle\n",
    "import statsmodels.api as sm\n",
    "import sklearn.discriminant_analysis\n",
    "from sklearn.naive_bayes import GaussianNB\n",
    "from sklearn import svm\n",
    "from sklearn.neighbors import KNeighborsClassifier"
   ]
  },
  {
   "cell_type": "markdown",
   "metadata": {},
   "source": [
    "### Initial Data Exploration\n",
    "\n",
    "Loading Data:"
   ]
  },
  {
   "cell_type": "code",
   "execution_count": 10,
   "metadata": {},
   "outputs": [],
   "source": [
    "df = pd.read_csv('C:/Datasets/TitanicTrain.csv')\n",
    "test = pd.read_csv('C:/Datasets/TitanicTest.csv')\n",
    "test.insert(1,'Survived',np.NaN)"
   ]
  },
  {
   "cell_type": "markdown",
   "metadata": {},
   "source": [
    "The training dataset is about twice as large as the test data set."
   ]
  },
  {
   "cell_type": "code",
   "execution_count": 50,
   "metadata": {},
   "outputs": [
    {
     "data": {
      "text/plain": [
       "891"
      ]
     },
     "execution_count": 50,
     "metadata": {},
     "output_type": "execute_result"
    }
   ],
   "source": [
    "df.shape[0]"
   ]
  },
  {
   "cell_type": "code",
   "execution_count": 51,
   "metadata": {},
   "outputs": [
    {
     "data": {
      "text/plain": [
       "418"
      ]
     },
     "execution_count": 51,
     "metadata": {},
     "output_type": "execute_result"
    }
   ],
   "source": [
    "test.shape[0]"
   ]
  },
  {
   "cell_type": "markdown",
   "metadata": {},
   "source": [
    "Below the list of features and the dataframe are displayed."
   ]
  },
  {
   "cell_type": "code",
   "execution_count": 11,
   "metadata": {},
   "outputs": [
    {
     "name": "stdout",
     "output_type": "stream",
     "text": [
      "['PassengerId', 'Survived', 'Pclass', 'Name', 'Sex', 'Age', 'SibSp', 'Parch', 'Ticket', 'Fare', 'Cabin', 'Embarked']\n"
     ]
    }
   ],
   "source": [
    "variables = list(df)\n",
    "print(variables)"
   ]
  },
  {
   "cell_type": "code",
   "execution_count": 16,
   "metadata": {},
   "outputs": [
    {
     "data": {
      "text/html": [
       "<div>\n",
       "<style scoped>\n",
       "    .dataframe tbody tr th:only-of-type {\n",
       "        vertical-align: middle;\n",
       "    }\n",
       "\n",
       "    .dataframe tbody tr th {\n",
       "        vertical-align: top;\n",
       "    }\n",
       "\n",
       "    .dataframe thead th {\n",
       "        text-align: right;\n",
       "    }\n",
       "</style>\n",
       "<table border=\"1\" class=\"dataframe\">\n",
       "  <thead>\n",
       "    <tr style=\"text-align: right;\">\n",
       "      <th></th>\n",
       "      <th>PassengerId</th>\n",
       "      <th>Survived</th>\n",
       "      <th>Pclass</th>\n",
       "      <th>Name</th>\n",
       "      <th>Sex</th>\n",
       "      <th>Age</th>\n",
       "      <th>SibSp</th>\n",
       "      <th>Parch</th>\n",
       "      <th>Ticket</th>\n",
       "      <th>Fare</th>\n",
       "      <th>Cabin</th>\n",
       "      <th>Embarked</th>\n",
       "    </tr>\n",
       "  </thead>\n",
       "  <tbody>\n",
       "    <tr>\n",
       "      <th>0</th>\n",
       "      <td>1</td>\n",
       "      <td>0</td>\n",
       "      <td>3</td>\n",
       "      <td>Braund, Mr. Owen Harris</td>\n",
       "      <td>male</td>\n",
       "      <td>22.0</td>\n",
       "      <td>1</td>\n",
       "      <td>0</td>\n",
       "      <td>A/5 21171</td>\n",
       "      <td>7.2500</td>\n",
       "      <td>NaN</td>\n",
       "      <td>S</td>\n",
       "    </tr>\n",
       "    <tr>\n",
       "      <th>1</th>\n",
       "      <td>2</td>\n",
       "      <td>1</td>\n",
       "      <td>1</td>\n",
       "      <td>Cumings, Mrs. John Bradley (Florence Briggs Th...</td>\n",
       "      <td>female</td>\n",
       "      <td>38.0</td>\n",
       "      <td>1</td>\n",
       "      <td>0</td>\n",
       "      <td>PC 17599</td>\n",
       "      <td>71.2833</td>\n",
       "      <td>C85</td>\n",
       "      <td>C</td>\n",
       "    </tr>\n",
       "    <tr>\n",
       "      <th>2</th>\n",
       "      <td>3</td>\n",
       "      <td>1</td>\n",
       "      <td>3</td>\n",
       "      <td>Heikkinen, Miss. Laina</td>\n",
       "      <td>female</td>\n",
       "      <td>26.0</td>\n",
       "      <td>0</td>\n",
       "      <td>0</td>\n",
       "      <td>STON/O2. 3101282</td>\n",
       "      <td>7.9250</td>\n",
       "      <td>NaN</td>\n",
       "      <td>S</td>\n",
       "    </tr>\n",
       "    <tr>\n",
       "      <th>3</th>\n",
       "      <td>4</td>\n",
       "      <td>1</td>\n",
       "      <td>1</td>\n",
       "      <td>Futrelle, Mrs. Jacques Heath (Lily May Peel)</td>\n",
       "      <td>female</td>\n",
       "      <td>35.0</td>\n",
       "      <td>1</td>\n",
       "      <td>0</td>\n",
       "      <td>113803</td>\n",
       "      <td>53.1000</td>\n",
       "      <td>C123</td>\n",
       "      <td>S</td>\n",
       "    </tr>\n",
       "    <tr>\n",
       "      <th>4</th>\n",
       "      <td>5</td>\n",
       "      <td>0</td>\n",
       "      <td>3</td>\n",
       "      <td>Allen, Mr. William Henry</td>\n",
       "      <td>male</td>\n",
       "      <td>35.0</td>\n",
       "      <td>0</td>\n",
       "      <td>0</td>\n",
       "      <td>373450</td>\n",
       "      <td>8.0500</td>\n",
       "      <td>NaN</td>\n",
       "      <td>S</td>\n",
       "    </tr>\n",
       "    <tr>\n",
       "      <th>5</th>\n",
       "      <td>6</td>\n",
       "      <td>0</td>\n",
       "      <td>3</td>\n",
       "      <td>Moran, Mr. James</td>\n",
       "      <td>male</td>\n",
       "      <td>NaN</td>\n",
       "      <td>0</td>\n",
       "      <td>0</td>\n",
       "      <td>330877</td>\n",
       "      <td>8.4583</td>\n",
       "      <td>NaN</td>\n",
       "      <td>Q</td>\n",
       "    </tr>\n",
       "    <tr>\n",
       "      <th>6</th>\n",
       "      <td>7</td>\n",
       "      <td>0</td>\n",
       "      <td>1</td>\n",
       "      <td>McCarthy, Mr. Timothy J</td>\n",
       "      <td>male</td>\n",
       "      <td>54.0</td>\n",
       "      <td>0</td>\n",
       "      <td>0</td>\n",
       "      <td>17463</td>\n",
       "      <td>51.8625</td>\n",
       "      <td>E46</td>\n",
       "      <td>S</td>\n",
       "    </tr>\n",
       "    <tr>\n",
       "      <th>7</th>\n",
       "      <td>8</td>\n",
       "      <td>0</td>\n",
       "      <td>3</td>\n",
       "      <td>Palsson, Master. Gosta Leonard</td>\n",
       "      <td>male</td>\n",
       "      <td>2.0</td>\n",
       "      <td>3</td>\n",
       "      <td>1</td>\n",
       "      <td>349909</td>\n",
       "      <td>21.0750</td>\n",
       "      <td>NaN</td>\n",
       "      <td>S</td>\n",
       "    </tr>\n",
       "    <tr>\n",
       "      <th>8</th>\n",
       "      <td>9</td>\n",
       "      <td>1</td>\n",
       "      <td>3</td>\n",
       "      <td>Johnson, Mrs. Oscar W (Elisabeth Vilhelmina Berg)</td>\n",
       "      <td>female</td>\n",
       "      <td>27.0</td>\n",
       "      <td>0</td>\n",
       "      <td>2</td>\n",
       "      <td>347742</td>\n",
       "      <td>11.1333</td>\n",
       "      <td>NaN</td>\n",
       "      <td>S</td>\n",
       "    </tr>\n",
       "    <tr>\n",
       "      <th>9</th>\n",
       "      <td>10</td>\n",
       "      <td>1</td>\n",
       "      <td>2</td>\n",
       "      <td>Nasser, Mrs. Nicholas (Adele Achem)</td>\n",
       "      <td>female</td>\n",
       "      <td>14.0</td>\n",
       "      <td>1</td>\n",
       "      <td>0</td>\n",
       "      <td>237736</td>\n",
       "      <td>30.0708</td>\n",
       "      <td>NaN</td>\n",
       "      <td>C</td>\n",
       "    </tr>\n",
       "    <tr>\n",
       "      <th>10</th>\n",
       "      <td>11</td>\n",
       "      <td>1</td>\n",
       "      <td>3</td>\n",
       "      <td>Sandstrom, Miss. Marguerite Rut</td>\n",
       "      <td>female</td>\n",
       "      <td>4.0</td>\n",
       "      <td>1</td>\n",
       "      <td>1</td>\n",
       "      <td>PP 9549</td>\n",
       "      <td>16.7000</td>\n",
       "      <td>G6</td>\n",
       "      <td>S</td>\n",
       "    </tr>\n",
       "    <tr>\n",
       "      <th>11</th>\n",
       "      <td>12</td>\n",
       "      <td>1</td>\n",
       "      <td>1</td>\n",
       "      <td>Bonnell, Miss. Elizabeth</td>\n",
       "      <td>female</td>\n",
       "      <td>58.0</td>\n",
       "      <td>0</td>\n",
       "      <td>0</td>\n",
       "      <td>113783</td>\n",
       "      <td>26.5500</td>\n",
       "      <td>C103</td>\n",
       "      <td>S</td>\n",
       "    </tr>\n",
       "    <tr>\n",
       "      <th>12</th>\n",
       "      <td>13</td>\n",
       "      <td>0</td>\n",
       "      <td>3</td>\n",
       "      <td>Saundercock, Mr. William Henry</td>\n",
       "      <td>male</td>\n",
       "      <td>20.0</td>\n",
       "      <td>0</td>\n",
       "      <td>0</td>\n",
       "      <td>A/5. 2151</td>\n",
       "      <td>8.0500</td>\n",
       "      <td>NaN</td>\n",
       "      <td>S</td>\n",
       "    </tr>\n",
       "    <tr>\n",
       "      <th>13</th>\n",
       "      <td>14</td>\n",
       "      <td>0</td>\n",
       "      <td>3</td>\n",
       "      <td>Andersson, Mr. Anders Johan</td>\n",
       "      <td>male</td>\n",
       "      <td>39.0</td>\n",
       "      <td>1</td>\n",
       "      <td>5</td>\n",
       "      <td>347082</td>\n",
       "      <td>31.2750</td>\n",
       "      <td>NaN</td>\n",
       "      <td>S</td>\n",
       "    </tr>\n",
       "    <tr>\n",
       "      <th>14</th>\n",
       "      <td>15</td>\n",
       "      <td>0</td>\n",
       "      <td>3</td>\n",
       "      <td>Vestrom, Miss. Hulda Amanda Adolfina</td>\n",
       "      <td>female</td>\n",
       "      <td>14.0</td>\n",
       "      <td>0</td>\n",
       "      <td>0</td>\n",
       "      <td>350406</td>\n",
       "      <td>7.8542</td>\n",
       "      <td>NaN</td>\n",
       "      <td>S</td>\n",
       "    </tr>\n",
       "    <tr>\n",
       "      <th>15</th>\n",
       "      <td>16</td>\n",
       "      <td>1</td>\n",
       "      <td>2</td>\n",
       "      <td>Hewlett, Mrs. (Mary D Kingcome)</td>\n",
       "      <td>female</td>\n",
       "      <td>55.0</td>\n",
       "      <td>0</td>\n",
       "      <td>0</td>\n",
       "      <td>248706</td>\n",
       "      <td>16.0000</td>\n",
       "      <td>NaN</td>\n",
       "      <td>S</td>\n",
       "    </tr>\n",
       "    <tr>\n",
       "      <th>16</th>\n",
       "      <td>17</td>\n",
       "      <td>0</td>\n",
       "      <td>3</td>\n",
       "      <td>Rice, Master. Eugene</td>\n",
       "      <td>male</td>\n",
       "      <td>2.0</td>\n",
       "      <td>4</td>\n",
       "      <td>1</td>\n",
       "      <td>382652</td>\n",
       "      <td>29.1250</td>\n",
       "      <td>NaN</td>\n",
       "      <td>Q</td>\n",
       "    </tr>\n",
       "    <tr>\n",
       "      <th>17</th>\n",
       "      <td>18</td>\n",
       "      <td>1</td>\n",
       "      <td>2</td>\n",
       "      <td>Williams, Mr. Charles Eugene</td>\n",
       "      <td>male</td>\n",
       "      <td>NaN</td>\n",
       "      <td>0</td>\n",
       "      <td>0</td>\n",
       "      <td>244373</td>\n",
       "      <td>13.0000</td>\n",
       "      <td>NaN</td>\n",
       "      <td>S</td>\n",
       "    </tr>\n",
       "    <tr>\n",
       "      <th>18</th>\n",
       "      <td>19</td>\n",
       "      <td>0</td>\n",
       "      <td>3</td>\n",
       "      <td>Vander Planke, Mrs. Julius (Emelia Maria Vande...</td>\n",
       "      <td>female</td>\n",
       "      <td>31.0</td>\n",
       "      <td>1</td>\n",
       "      <td>0</td>\n",
       "      <td>345763</td>\n",
       "      <td>18.0000</td>\n",
       "      <td>NaN</td>\n",
       "      <td>S</td>\n",
       "    </tr>\n",
       "    <tr>\n",
       "      <th>19</th>\n",
       "      <td>20</td>\n",
       "      <td>1</td>\n",
       "      <td>3</td>\n",
       "      <td>Masselmani, Mrs. Fatima</td>\n",
       "      <td>female</td>\n",
       "      <td>NaN</td>\n",
       "      <td>0</td>\n",
       "      <td>0</td>\n",
       "      <td>2649</td>\n",
       "      <td>7.2250</td>\n",
       "      <td>NaN</td>\n",
       "      <td>C</td>\n",
       "    </tr>\n",
       "  </tbody>\n",
       "</table>\n",
       "</div>"
      ],
      "text/plain": [
       "    PassengerId  Survived  Pclass  \\\n",
       "0             1         0       3   \n",
       "1             2         1       1   \n",
       "2             3         1       3   \n",
       "3             4         1       1   \n",
       "4             5         0       3   \n",
       "5             6         0       3   \n",
       "6             7         0       1   \n",
       "7             8         0       3   \n",
       "8             9         1       3   \n",
       "9            10         1       2   \n",
       "10           11         1       3   \n",
       "11           12         1       1   \n",
       "12           13         0       3   \n",
       "13           14         0       3   \n",
       "14           15         0       3   \n",
       "15           16         1       2   \n",
       "16           17         0       3   \n",
       "17           18         1       2   \n",
       "18           19         0       3   \n",
       "19           20         1       3   \n",
       "\n",
       "                                                 Name     Sex   Age  SibSp  \\\n",
       "0                             Braund, Mr. Owen Harris    male  22.0      1   \n",
       "1   Cumings, Mrs. John Bradley (Florence Briggs Th...  female  38.0      1   \n",
       "2                              Heikkinen, Miss. Laina  female  26.0      0   \n",
       "3        Futrelle, Mrs. Jacques Heath (Lily May Peel)  female  35.0      1   \n",
       "4                            Allen, Mr. William Henry    male  35.0      0   \n",
       "5                                    Moran, Mr. James    male   NaN      0   \n",
       "6                             McCarthy, Mr. Timothy J    male  54.0      0   \n",
       "7                      Palsson, Master. Gosta Leonard    male   2.0      3   \n",
       "8   Johnson, Mrs. Oscar W (Elisabeth Vilhelmina Berg)  female  27.0      0   \n",
       "9                 Nasser, Mrs. Nicholas (Adele Achem)  female  14.0      1   \n",
       "10                    Sandstrom, Miss. Marguerite Rut  female   4.0      1   \n",
       "11                           Bonnell, Miss. Elizabeth  female  58.0      0   \n",
       "12                     Saundercock, Mr. William Henry    male  20.0      0   \n",
       "13                        Andersson, Mr. Anders Johan    male  39.0      1   \n",
       "14               Vestrom, Miss. Hulda Amanda Adolfina  female  14.0      0   \n",
       "15                   Hewlett, Mrs. (Mary D Kingcome)   female  55.0      0   \n",
       "16                               Rice, Master. Eugene    male   2.0      4   \n",
       "17                       Williams, Mr. Charles Eugene    male   NaN      0   \n",
       "18  Vander Planke, Mrs. Julius (Emelia Maria Vande...  female  31.0      1   \n",
       "19                            Masselmani, Mrs. Fatima  female   NaN      0   \n",
       "\n",
       "    Parch            Ticket     Fare Cabin Embarked  \n",
       "0       0         A/5 21171   7.2500   NaN        S  \n",
       "1       0          PC 17599  71.2833   C85        C  \n",
       "2       0  STON/O2. 3101282   7.9250   NaN        S  \n",
       "3       0            113803  53.1000  C123        S  \n",
       "4       0            373450   8.0500   NaN        S  \n",
       "5       0            330877   8.4583   NaN        Q  \n",
       "6       0             17463  51.8625   E46        S  \n",
       "7       1            349909  21.0750   NaN        S  \n",
       "8       2            347742  11.1333   NaN        S  \n",
       "9       0            237736  30.0708   NaN        C  \n",
       "10      1           PP 9549  16.7000    G6        S  \n",
       "11      0            113783  26.5500  C103        S  \n",
       "12      0         A/5. 2151   8.0500   NaN        S  \n",
       "13      5            347082  31.2750   NaN        S  \n",
       "14      0            350406   7.8542   NaN        S  \n",
       "15      0            248706  16.0000   NaN        S  \n",
       "16      1            382652  29.1250   NaN        Q  \n",
       "17      0            244373  13.0000   NaN        S  \n",
       "18      0            345763  18.0000   NaN        S  \n",
       "19      0              2649   7.2250   NaN        C  "
      ]
     },
     "execution_count": 16,
     "metadata": {},
     "output_type": "execute_result"
    }
   ],
   "source": [
    "df.head(20)"
   ]
  },
  {
   "cell_type": "markdown",
   "metadata": {},
   "source": [
    "## Feature Extraction\n",
    "\n",
    "#### Functions for Feature Extraction from Passenger Name\n",
    "\n",
    "The passenger names contain much information that can be extracted into new features. First the titles, which always end in a period, can be extracted with the following function."
   ]
  },
  {
   "cell_type": "code",
   "execution_count": 13,
   "metadata": {},
   "outputs": [],
   "source": [
    "def title(dataframe):\n",
    "    dataframe['Title'] = dataframe['Name'].str.extract(r'((?<=, ).{1,12}?\\.)', expand=False)\n",
    "    dataframe['Name'] = dataframe['Name'].str.replace(r'(, .{1,12}?\\. )', ', ').str.strip()"
   ]
  },
  {
   "cell_type": "markdown",
   "metadata": {},
   "source": [
    "The maiden name, which is in parentheses, is extracted with this function."
   ]
  },
  {
   "cell_type": "code",
   "execution_count": 14,
   "metadata": {},
   "outputs": [],
   "source": [
    "def maidenname(dataframe):\n",
    "    maiden = dataframe['Name'].str.extract(r'((?<=\\().+(?=\\)))',expand=False)\n",
    "    dataframe['Maiden Name']=np.where(pd.isnull(maiden),dataframe['Name'],maiden)\n",
    "    dataframe['Name'] = dataframe['Name'].str.replace(r'( \\(.+\\))', '').str.strip()"
   ]
  },
  {
   "cell_type": "markdown",
   "metadata": {},
   "source": [
    "The nicknames, which are in quotes, are extracted as follows."
   ]
  },
  {
   "cell_type": "code",
   "execution_count": 15,
   "metadata": {},
   "outputs": [],
   "source": [
    "def nickname(dataframe):\n",
    "    name = dataframe['Name']\n",
    "    maiden = dataframe['Maiden Name']\n",
    "    dataframe['Nickname'] = np.where(np.logical_or(name.str.contains('\"'),maiden.str.contains('\"')),1,0)\n",
    "    dataframe['Name'] = name.str.replace(r'( )?\".+\"','').str.strip()\n",
    "    dataframe['Maiden Name'] = maiden.str.replace(r'( )?\".+\"','').str.strip()\n",
    "    dataframe['Maiden Name'] = np.where(maiden=='',name,maiden)"
   ]
  },
  {
   "cell_type": "markdown",
   "metadata": {},
   "source": [
    "The first, middle, and last name can then be split, for both the name and maiden name. This function is more complex because sometimes there is no middle name, and some names have a suffix."
   ]
  },
  {
   "cell_type": "code",
   "execution_count": 17,
   "metadata": {},
   "outputs": [],
   "source": [
    "def splitnames(dataframe):\n",
    "    def parsenames(string):\n",
    "        if ',' in string:\n",
    "            comma = string.index(',')\n",
    "            lastname = string[:comma]\n",
    "            firstname = None\n",
    "            middlename = None\n",
    "            if string[comma+2:]:\n",
    "                firstmiddle = string[comma+2:].split(' ')\n",
    "                firstname = firstmiddle[0]\n",
    "                if len(firstmiddle) > 2:\n",
    "                    if firstmiddle[-1] not in ['Sr', 'Jr', 'II', 'III', 'IV']:\n",
    "                        middlename = ' '.join(firstmiddle[1:])\n",
    "                    else:\n",
    "                        middlename = ' '.join(firstmiddle[1:-1])\n",
    "                elif len(firstmiddle) == 2:\n",
    "                    if firstmiddle[1] not in ['Sr', 'Jr', 'II', 'III', 'IV']:\n",
    "                        middlename = firstmiddle[1]\n",
    "        else:\n",
    "            names = string.split(' ')\n",
    "            firstname = names[0]\n",
    "            lastname = None\n",
    "            middlename = None\n",
    "            if len(names)>1:\n",
    "                lastname = names[-1]\n",
    "            if len(names)>2:\n",
    "                middlename = ' '.join(names[1:-1])\n",
    "        return (firstname,middlename,lastname)\n",
    "    def fillnames(name,maidenname):\n",
    "        names = parsenames(name)\n",
    "        maidennames = parsenames(maidenname)\n",
    "        first = ''\n",
    "        middle = ''\n",
    "        maidenmiddle = ''\n",
    "        maidenlast = ''\n",
    "        if names[0]:\n",
    "            first = names[0]\n",
    "        if names[1] and len(names[1]) > 1:\n",
    "            middle = names[1]\n",
    "        last = names[2]\n",
    "        maidenfirst = maidennames[0]\n",
    "        if maidennames[1] and len(maidennames[1]) > 1:\n",
    "            maidenmiddle = maidennames[1]\n",
    "        if maidennames[2]:\n",
    "            maidenlast = maidennames[2]\n",
    "        return pd.Series([first, middle, last, maidenfirst, maidenmiddle, maidenlast])\n",
    "    dataframe[['First Name','Middle Name','Last Name','Maiden First Name','Maiden Middle Name','Maiden Last Name']]=\\\n",
    "        dataframe.apply(lambda row:fillnames(row['Name'],row['Maiden Name']),axis=1)"
   ]
  },
  {
   "cell_type": "markdown",
   "metadata": {},
   "source": [
    "The name can be used to predict the ethnicity, using the ethnicolr package. In addition, this crude function is used to further subdivide the British ethnicity into British and Irish, based on syllables common in Irish last names."
   ]
  },
  {
   "cell_type": "code",
   "execution_count": 18,
   "metadata": {},
   "outputs": [],
   "source": [
    "irishsyllables=[['Mac','Mc',\"O'\",'Fitz'],\n",
    "                ['fitz','mac','don','ees','een','eer','oon','oy','gh','dh','enn','ay','oe'],\n",
    "                ['ne','uire','be','len','han','nan','lan','gan','non','hon','yan','ien','van','nn',\n",
    "                 'thy','ery','dy','ley','ney','lly','hy','fy','erty','oy','ay','mack','ell','oll',\n",
    "                 'wyer','yng','nna','ara','ea'],\n",
    "                ['clark','thorn','well','hoyt','vell','stan','for','worth','green','mann','van ','nott','ton','town',\n",
    "                 'ville','uck','ight','long','gask','shell','lane','bery','berry','thorp','throp','naught','hay','pay',\n",
    "                 'ham','sell','bon','gray','grey']]\n",
    "\n",
    "def checkirish(string):\n",
    "    count = 0\n",
    "    for x in irishsyllables[0]:\n",
    "        if string[:len(x)]==x:\n",
    "            count+=1\n",
    "    for x in irishsyllables[1]:\n",
    "        if x in string:\n",
    "            count +=1\n",
    "    for x in irishsyllables[2]:\n",
    "        if string[-1*len(x):]==x:\n",
    "            count+=1\n",
    "    for x in irishsyllables[3]:\n",
    "        if x in string.lower():\n",
    "            count -=1\n",
    "    if count > 0:\n",
    "        return True\n",
    "    else:\n",
    "        return False"
   ]
  },
  {
   "cell_type": "markdown",
   "metadata": {},
   "source": [
    "The ethnicities are relabeled for simplicity."
   ]
  },
  {
   "cell_type": "code",
   "execution_count": 19,
   "metadata": {},
   "outputs": [],
   "source": [
    "def relabelethnicity(dataframe,racecolumn,namecolumn):\n",
    "    def newlabel(race,lastname):\n",
    "        if 'British' in race:\n",
    "            if checkirish(lastname):\n",
    "                return 'Irish'\n",
    "            else:\n",
    "                return 'British'\n",
    "        elif 'Japanese' in race:\n",
    "            return 'EastAsian'\n",
    "        elif 'Africans' in race:\n",
    "            return 'African'\n",
    "        elif 'Indian' in race:\n",
    "            return 'Indian'\n",
    "        else:\n",
    "            return race.split(',')[-1]\n",
    "    dataframe[racecolumn]=dataframe.apply(lambda row: newlabel(row[racecolumn],row[namecolumn]),axis=1)"
   ]
  },
  {
   "cell_type": "markdown",
   "metadata": {},
   "source": [
    "Functions are defined to create features for family ethnicity (based on name) and birth ethnicity (based on maiden name if available)."
   ]
  },
  {
   "cell_type": "code",
   "execution_count": 20,
   "metadata": {},
   "outputs": [],
   "source": [
    "def familyethnicity(dataframe):\n",
    "    pred_wiki_name(dataframe,'Last Name','First Name')\n",
    "    dataframe.rename(columns={'race':'Family Race'},inplace=True)\n",
    "    relabelethnicity(dataframe, 'Family Race','Last Name')\n",
    "\n",
    "def birthethnicity(dataframe):\n",
    "    pred_wiki_name(dataframe, 'Maiden Last Name', 'Maiden First Name')\n",
    "    dataframe.rename(columns={'race': 'Birth Race'}, inplace=True)\n",
    "    relabelethnicity(dataframe, 'Birth Race','Maiden Last Name')"
   ]
  },
  {
   "cell_type": "markdown",
   "metadata": {},
   "source": [
    "The title (prefix) for females indicates marital status sometimes. This can be extracted as follows."
   ]
  },
  {
   "cell_type": "code",
   "execution_count": 21,
   "metadata": {},
   "outputs": [],
   "source": [
    "def femalemarital(dataframe):\n",
    "    married = ['Mrs.','Mme.','Lady.','the Countess.']\n",
    "    unmarried = ['Miss.','Mlle.']\n",
    "    dataframe['Female Marital'] = np.where(dataframe['Title'].isin(married),0.5,\n",
    "                                           np.where(dataframe['Title'].isin(unmarried),-0.5,0))"
   ]
  },
  {
   "cell_type": "markdown",
   "metadata": {},
   "source": [
    "Titles can also indicate profession. The professions will be grouped into: Unknown, Nobility, Clergy, Doctor, and Military."
   ]
  },
  {
   "cell_type": "code",
   "execution_count": 22,
   "metadata": {},
   "outputs": [],
   "source": [
    "def profession(dataframe):\n",
    "    dataframe['Profession']='Unknown'\n",
    "    dataframe.loc[dataframe['Title'].isin(['Sir.', 'Lady.', 'Lord.', 'Don.',\n",
    "                                           'Dona.', 'the Countess.', 'Jonkheer']),'Profession']='Nobility'\n",
    "    dataframe.loc[dataframe['Title'].isin(['Rev.', 'Minister.', 'Fr.', 'Pr.']),'Profession'] = 'Clergy'\n",
    "    dataframe.loc[dataframe['Title'] == 'Dr.','Profession'] = 'Doctor'\n",
    "    dataframe.loc[dataframe['Title'].isin(['Capt.', 'Major.', 'Col.']),'Profession'] = 'Military'"
   ]
  },
  {
   "cell_type": "markdown",
   "metadata": {},
   "source": [
    "The title \"Master\" is used for male children. This may be useful in age imputation."
   ]
  },
  {
   "cell_type": "code",
   "execution_count": 23,
   "metadata": {},
   "outputs": [],
   "source": [
    "def master(dataframe):\n",
    "    dataframe['Master']=np.where(dataframe['Title']=='Master.',1,0)"
   ]
  },
  {
   "cell_type": "markdown",
   "metadata": {},
   "source": [
    "#### Functions for Feature Extraction from Ticket Number\n",
    "\n",
    "First the ticket number is split into prefix and number."
   ]
  },
  {
   "cell_type": "code",
   "execution_count": 24,
   "metadata": {},
   "outputs": [],
   "source": [
    "def splitticket(dataframe):\n",
    "    dataframe['Ticket']=dataframe['Ticket'].str.strip()\n",
    "    dataframe['Ticket Number']=dataframe['Ticket'].str.split().str[-1]\n",
    "    dataframe['Ticket Prefix']=np.where(dataframe['Ticket'].str.contains(' '),\n",
    "        dataframe['Ticket'].str.split().str[:-1].str.join('').str.upper().str.replace('\\.',\n",
    "                                                    '').str.replace('/','').str.replace('STON','SOTON'),'No Prefix')\n",
    "    dataframe['Ticket Prefix']=np.where(dataframe['Ticket'].str.contains('LINE'),'LINE',dataframe['Ticket Prefix'])\n",
    "    dataframe['Ticket Number'] = np.where(dataframe['Ticket'].str.contains('LINE'), 0, dataframe['Ticket Number'])\n",
    "    dataframe['Ticket Number'] = dataframe['Ticket Number'].astype('int')"
   ]
  },
  {
   "cell_type": "markdown",
   "metadata": {},
   "source": [
    "A list of unique ticket prefixes is generated. A sorted version of the list is defined below for later use."
   ]
  },
  {
   "cell_type": "code",
   "execution_count": 36,
   "metadata": {},
   "outputs": [
    {
     "data": {
      "text/plain": [
       "array(['A5', 'PC', 'SOTONO2', 'No Prefix', 'PP', 'CA', 'SCPARIS', 'SCA4',\n",
       "       'A4', 'SP', 'SOC', 'WC', 'SOTONOQ', 'WEP', 'C', 'SOP', 'FA',\n",
       "       'LINE', 'FCC', 'SWPP', 'SCOW', 'PPP', 'SC', 'SCAH', 'AS',\n",
       "       'SCAHBASLE', 'SOPP', 'FC', 'CASOTON'], dtype=object)"
      ]
     },
     "execution_count": 36,
     "metadata": {},
     "output_type": "execute_result"
    }
   ],
   "source": [
    "dfcopy = df[:]\n",
    "splitticket(dfcopy)\n",
    "dfcopy['Ticket Prefix'].unique()"
   ]
  },
  {
   "cell_type": "code",
   "execution_count": 37,
   "metadata": {},
   "outputs": [],
   "source": [
    "ticketprefixes = ['A2','A4','A5','AQ3','AQ4','AS','C','CA','CASOTON','FA','FC','FCC','LINE','LP','PC','PP','PPP',\n",
    "                  'SC','SCA3','SCA4','SCAH','SCAHBASLE','SCOW','SCPARIS','SOC','SOP','SOPP','SOTONO2','SOTONOQ',\n",
    "                  'SP','SWPP','WC','WEP','No Prefix']"
   ]
  },
  {
   "cell_type": "markdown",
   "metadata": {},
   "source": [
    "The ticket number is turned into a categorical feature by binning. Bins are defined based on the histogram below."
   ]
  },
  {
   "cell_type": "code",
   "execution_count": 34,
   "metadata": {},
   "outputs": [
    {
     "data": {
      "text/plain": [
       "<matplotlib.axes._subplots.AxesSubplot at 0x1b971630e10>"
      ]
     },
     "execution_count": 34,
     "metadata": {},
     "output_type": "execute_result"
    },
    {
     "data": {
      "image/png": "[encoded data removed]",
      "text/plain": [
       "<Figure size 1080x360 with 1 Axes>"
      ]
     },
     "metadata": {
      "needs_background": "light"
     },
     "output_type": "display_data"
    }
   ],
   "source": [
    "dfcopy['Ticket Number'].hist(bins=300, figsize=(15,5))"
   ]
  },
  {
   "cell_type": "code",
   "execution_count": 25,
   "metadata": {},
   "outputs": [],
   "source": [
    "def bintickets(dataframe):\n",
    "    bins = pd.IntervalIndex.from_tuples([(-1,100000),(100001,200000),(200001,260000),(260001,400000),(400001,4000000)])\n",
    "    dataframe['Ticket Bin']=pd.cut(dataframe['Ticket Number'],bins)"
   ]
  },
  {
   "cell_type": "markdown",
   "metadata": {},
   "source": [
    "#### Other Features\n",
    "\n",
    "Fare is converted to a categorical feature by binning."
   ]
  },
  {
   "cell_type": "code",
   "execution_count": 35,
   "metadata": {},
   "outputs": [
    {
     "data": {
      "text/plain": [
       "<matplotlib.axes._subplots.AxesSubplot at 0x1b971849f98>"
      ]
     },
     "execution_count": 35,
     "metadata": {},
     "output_type": "execute_result"
    },
    {
     "data": {
      "image/png": "[encoded data removed]",
      "text/plain": [
       "<Figure size 1080x360 with 1 Axes>"
      ]
     },
     "metadata": {
      "needs_background": "light"
     },
     "output_type": "display_data"
    }
   ],
   "source": [
    "df['Fare'].hist(bins=300,figsize=(15,5))"
   ]
  },
  {
   "cell_type": "code",
   "execution_count": 38,
   "metadata": {},
   "outputs": [],
   "source": [
    "def binfare(dataframe):\n",
    "    bins =[-1,6,12,19,44,68,100,200,300,600]\n",
    "    dataframe['Fare']=dataframe['Fare'].astype('float')\n",
    "    dataframe['Fare Bin']=pd.cut(dataframe['Fare'],bins)"
   ]
  },
  {
   "cell_type": "markdown",
   "metadata": {},
   "source": [
    "The deck can be extracted from the cabin number."
   ]
  },
  {
   "cell_type": "code",
   "execution_count": 39,
   "metadata": {},
   "outputs": [],
   "source": [
    "def deck(dataframe):\n",
    "    dataframe['Deck']=np.where(pd.notnull(dataframe['Cabin']),dataframe['Cabin'].str[0],np.NaN)"
   ]
  },
  {
   "cell_type": "markdown",
   "metadata": {},
   "source": [
    "### Defining Categorical Variables"
   ]
  },
  {
   "cell_type": "code",
   "execution_count": 40,
   "metadata": {},
   "outputs": [],
   "source": [
    "def categorize(dataframe):\n",
    "    dataframe['Sex'] = dataframe['Sex'].astype(CategoricalDtype(categories=['male', 'female'], ordered=False))\n",
    "    racetype = CategoricalDtype(categories=['African', 'British', 'EastAsian', 'EastEuropean', 'French', 'Germanic',\n",
    "                            'Hispanic', 'Indian', 'Irish', 'Italian', 'Jewish', 'Muslim', 'Nordic'],ordered=False)\n",
    "    dataframe['Family Race'] = dataframe['Family Race'].astype(racetype)\n",
    "    dataframe['Birth Race'] = dataframe['Birth Race'].astype(racetype)\n",
    "    dataframe['Embarked'] = dataframe['Embarked'].astype(CategoricalDtype(categories=['S', 'C', 'Q'], ordered=False))\n",
    "    dataframe['Profession'] = dataframe['Profession'].astype(CategoricalDtype(categories=['Clergy', 'Doctor',\n",
    "                                                                    'Military','Nobility', 'Unknown'], ordered=False))\n",
    "    dataframe['Ticket Prefix'] = dataframe['Ticket Prefix'].astype(CategoricalDtype(categories=ticketprefixes,\n",
    "                                                                                    ordered=False))\n",
    "    dataframe['Deck'] = dataframe['Deck'].astype(CategoricalDtype(categories=['A', 'B', 'C', 'D', 'E', 'F', 'G',\n",
    "                                                                              'T', 'Unknown'],ordered=False))"
   ]
  },
  {
   "cell_type": "markdown",
   "metadata": {},
   "source": [
    "### Dummy Coding"
   ]
  },
  {
   "cell_type": "code",
   "execution_count": 41,
   "metadata": {},
   "outputs": [],
   "source": [
    "def dummies(dataframe):\n",
    "    dataframe['Female'] = pd.get_dummies(dataframe['Sex'])['female']\n",
    "    familyraces = pd.get_dummies(dataframe['Family Race'])\n",
    "    familyraces = familyraces.rename(columns={x: x + ' Family' for x in list(familyraces)})\n",
    "    newdataframe = pd.concat([dataframe, familyraces, pd.get_dummies(dataframe['Birth Race']),\n",
    "                              pd.get_dummies(dataframe['Profession']),pd.get_dummies(dataframe['Embarked'])], axis=1)\n",
    "    newdataframe=newdataframe.rename(columns={'S':'Southhampton','Q':'Queenstown','C':'Cherbourg'})\n",
    "    newdataframe = pd.concat([newdataframe, pd.get_dummies(dataframe['Deck']),\n",
    "                              pd.get_dummies(dataframe['Pclass'])], axis=1)\n",
    "    newdataframe = newdataframe.rename(columns={1: '1', 2: '2', 3: '3'})\n",
    "    return newdataframe"
   ]
  },
  {
   "cell_type": "markdown",
   "metadata": {},
   "source": [
    "### Initial Pre-Processing\n",
    "\n",
    "Now that all the feature extraction functions have been created, they can be applied to the test and training datasets. (Dummy coding is done after imputation)."
   ]
  },
  {
   "cell_type": "code",
   "execution_count": 42,
   "metadata": {},
   "outputs": [],
   "source": [
    "def nameprocess(dataframe):\n",
    "    title(dataframe)\n",
    "    maidenname(dataframe)\n",
    "    nickname(dataframe)\n",
    "    splitnames(dataframe)\n",
    "    familyethnicity(dataframe)\n",
    "    birthethnicity(dataframe)\n",
    "    femalemarital(dataframe)\n",
    "    profession(dataframe)\n",
    "    master(dataframe)\n",
    "    deck(dataframe)\n",
    "    splitticket(dataframe)\n",
    "    bintickets(dataframe)\n",
    "    categorize(dataframe)"
   ]
  },
  {
   "cell_type": "code",
   "execution_count": 43,
   "metadata": {
    "collapsed": true
   },
   "outputs": [
    {
     "name": "stderr",
     "output_type": "stream",
     "text": [
      "WARNING: Logging before flag parsing goes to stderr.\n",
      "W0809 16:15:51.077059 22524 deprecation_wrapper.py:119] From C:\\Users\\Nolan\\Anaconda3\\lib\\site-packages\\keras\\backend\\tensorflow_backend.py:74: The name tf.get_default_graph is deprecated. Please use tf.compat.v1.get_default_graph instead.\n",
      "\n",
      "W0809 16:15:51.123640 22524 deprecation_wrapper.py:119] From C:\\Users\\Nolan\\Anaconda3\\lib\\site-packages\\keras\\backend\\tensorflow_backend.py:517: The name tf.placeholder is deprecated. Please use tf.compat.v1.placeholder instead.\n",
      "\n",
      "W0809 16:15:51.123640 22524 deprecation_wrapper.py:119] From C:\\Users\\Nolan\\Anaconda3\\lib\\site-packages\\keras\\backend\\tensorflow_backend.py:4138: The name tf.random_uniform is deprecated. Please use tf.random.uniform instead.\n",
      "\n",
      "W0809 16:15:51.228458 22524 deprecation_wrapper.py:119] From C:\\Users\\Nolan\\Anaconda3\\lib\\site-packages\\keras\\backend\\tensorflow_backend.py:133: The name tf.placeholder_with_default is deprecated. Please use tf.compat.v1.placeholder_with_default instead.\n",
      "\n",
      "W0809 16:15:51.246877 22524 deprecation.py:506] From C:\\Users\\Nolan\\Anaconda3\\lib\\site-packages\\keras\\backend\\tensorflow_backend.py:3445: calling dropout (from tensorflow.python.ops.nn_ops) with keep_prob is deprecated and will be removed in a future version.\n",
      "Instructions for updating:\n",
      "Please use `rate` instead of `keep_prob`. Rate should be set to `rate = 1 - keep_prob`.\n",
      "W0809 16:15:51.481001 22524 deprecation_wrapper.py:119] From C:\\Users\\Nolan\\Anaconda3\\lib\\site-packages\\keras\\backend\\tensorflow_backend.py:174: The name tf.get_default_session is deprecated. Please use tf.compat.v1.get_default_session instead.\n",
      "\n",
      "W0809 16:15:51.569761 22524 deprecation_wrapper.py:119] From C:\\Users\\Nolan\\Anaconda3\\lib\\site-packages\\keras\\optimizers.py:790: The name tf.train.Optimizer is deprecated. Please use tf.compat.v1.train.Optimizer instead.\n",
      "\n",
      "W0809 16:15:51.662046 22524 deprecation.py:323] From C:\\Users\\Nolan\\Anaconda3\\lib\\site-packages\\tensorflow\\python\\ops\\math_grad.py:1250: add_dispatch_support.<locals>.wrapper (from tensorflow.python.ops.array_ops) is deprecated and will be removed in a future version.\n",
      "Instructions for updating:\n",
      "Use tf.where in 2.0, which has the same broadcast rule as np.where\n"
     ]
    }
   ],
   "source": [
    "nameprocess(df)\n",
    "nameprocess(test)"
   ]
  },
  {
   "cell_type": "code",
   "execution_count": 44,
   "metadata": {},
   "outputs": [
    {
     "data": {
      "text/html": [
       "<div>\n",
       "<style scoped>\n",
       "    .dataframe tbody tr th:only-of-type {\n",
       "        vertical-align: middle;\n",
       "    }\n",
       "\n",
       "    .dataframe tbody tr th {\n",
       "        vertical-align: top;\n",
       "    }\n",
       "\n",
       "    .dataframe thead th {\n",
       "        text-align: right;\n",
       "    }\n",
       "</style>\n",
       "<table border=\"1\" class=\"dataframe\">\n",
       "  <thead>\n",
       "    <tr style=\"text-align: right;\">\n",
       "      <th></th>\n",
       "      <th>PassengerId</th>\n",
       "      <th>Survived</th>\n",
       "      <th>Pclass</th>\n",
       "      <th>Name</th>\n",
       "      <th>Sex</th>\n",
       "      <th>Age</th>\n",
       "      <th>SibSp</th>\n",
       "      <th>Parch</th>\n",
       "      <th>Ticket</th>\n",
       "      <th>Fare</th>\n",
       "      <th>...</th>\n",
       "      <th>Maiden Last Name</th>\n",
       "      <th>Family Race</th>\n",
       "      <th>Birth Race</th>\n",
       "      <th>Female Marital</th>\n",
       "      <th>Profession</th>\n",
       "      <th>Master</th>\n",
       "      <th>Deck</th>\n",
       "      <th>Ticket Number</th>\n",
       "      <th>Ticket Prefix</th>\n",
       "      <th>Ticket Bin</th>\n",
       "    </tr>\n",
       "  </thead>\n",
       "  <tbody>\n",
       "    <tr>\n",
       "      <th>0</th>\n",
       "      <td>1</td>\n",
       "      <td>0</td>\n",
       "      <td>3</td>\n",
       "      <td>Braund, Owen Harris</td>\n",
       "      <td>male</td>\n",
       "      <td>22.0</td>\n",
       "      <td>1</td>\n",
       "      <td>0</td>\n",
       "      <td>A/5 21171</td>\n",
       "      <td>7.2500</td>\n",
       "      <td>...</td>\n",
       "      <td>Braund</td>\n",
       "      <td>British</td>\n",
       "      <td>British</td>\n",
       "      <td>0.0</td>\n",
       "      <td>Unknown</td>\n",
       "      <td>0</td>\n",
       "      <td>NaN</td>\n",
       "      <td>21171</td>\n",
       "      <td>A5</td>\n",
       "      <td>(-1, 100000]</td>\n",
       "    </tr>\n",
       "    <tr>\n",
       "      <th>1</th>\n",
       "      <td>2</td>\n",
       "      <td>1</td>\n",
       "      <td>1</td>\n",
       "      <td>Cumings, John Bradley</td>\n",
       "      <td>female</td>\n",
       "      <td>38.0</td>\n",
       "      <td>1</td>\n",
       "      <td>0</td>\n",
       "      <td>PC 17599</td>\n",
       "      <td>71.2833</td>\n",
       "      <td>...</td>\n",
       "      <td>Thayer</td>\n",
       "      <td>British</td>\n",
       "      <td>British</td>\n",
       "      <td>0.5</td>\n",
       "      <td>Unknown</td>\n",
       "      <td>0</td>\n",
       "      <td>C</td>\n",
       "      <td>17599</td>\n",
       "      <td>PC</td>\n",
       "      <td>(-1, 100000]</td>\n",
       "    </tr>\n",
       "    <tr>\n",
       "      <th>2</th>\n",
       "      <td>3</td>\n",
       "      <td>1</td>\n",
       "      <td>3</td>\n",
       "      <td>Heikkinen, Laina</td>\n",
       "      <td>female</td>\n",
       "      <td>26.0</td>\n",
       "      <td>0</td>\n",
       "      <td>0</td>\n",
       "      <td>STON/O2. 3101282</td>\n",
       "      <td>7.9250</td>\n",
       "      <td>...</td>\n",
       "      <td>Heikkinen</td>\n",
       "      <td>Jewish</td>\n",
       "      <td>Jewish</td>\n",
       "      <td>-0.5</td>\n",
       "      <td>Unknown</td>\n",
       "      <td>0</td>\n",
       "      <td>NaN</td>\n",
       "      <td>3101282</td>\n",
       "      <td>SOTONO2</td>\n",
       "      <td>(400001, 4000000]</td>\n",
       "    </tr>\n",
       "    <tr>\n",
       "      <th>3</th>\n",
       "      <td>4</td>\n",
       "      <td>1</td>\n",
       "      <td>1</td>\n",
       "      <td>Futrelle, Jacques Heath</td>\n",
       "      <td>female</td>\n",
       "      <td>35.0</td>\n",
       "      <td>1</td>\n",
       "      <td>0</td>\n",
       "      <td>113803</td>\n",
       "      <td>53.1000</td>\n",
       "      <td>...</td>\n",
       "      <td>Peel</td>\n",
       "      <td>French</td>\n",
       "      <td>British</td>\n",
       "      <td>0.5</td>\n",
       "      <td>Unknown</td>\n",
       "      <td>0</td>\n",
       "      <td>C</td>\n",
       "      <td>113803</td>\n",
       "      <td>No Prefix</td>\n",
       "      <td>(100001, 200000]</td>\n",
       "    </tr>\n",
       "    <tr>\n",
       "      <th>4</th>\n",
       "      <td>5</td>\n",
       "      <td>0</td>\n",
       "      <td>3</td>\n",
       "      <td>Allen, William Henry</td>\n",
       "      <td>male</td>\n",
       "      <td>35.0</td>\n",
       "      <td>0</td>\n",
       "      <td>0</td>\n",
       "      <td>373450</td>\n",
       "      <td>8.0500</td>\n",
       "      <td>...</td>\n",
       "      <td>Allen</td>\n",
       "      <td>Irish</td>\n",
       "      <td>Irish</td>\n",
       "      <td>0.0</td>\n",
       "      <td>Unknown</td>\n",
       "      <td>0</td>\n",
       "      <td>NaN</td>\n",
       "      <td>373450</td>\n",
       "      <td>No Prefix</td>\n",
       "      <td>(260001, 400000]</td>\n",
       "    </tr>\n",
       "    <tr>\n",
       "      <th>5</th>\n",
       "      <td>6</td>\n",
       "      <td>0</td>\n",
       "      <td>3</td>\n",
       "      <td>Moran, James</td>\n",
       "      <td>male</td>\n",
       "      <td>NaN</td>\n",
       "      <td>0</td>\n",
       "      <td>0</td>\n",
       "      <td>330877</td>\n",
       "      <td>8.4583</td>\n",
       "      <td>...</td>\n",
       "      <td>Moran</td>\n",
       "      <td>British</td>\n",
       "      <td>British</td>\n",
       "      <td>0.0</td>\n",
       "      <td>Unknown</td>\n",
       "      <td>0</td>\n",
       "      <td>NaN</td>\n",
       "      <td>330877</td>\n",
       "      <td>No Prefix</td>\n",
       "      <td>(260001, 400000]</td>\n",
       "    </tr>\n",
       "    <tr>\n",
       "      <th>6</th>\n",
       "      <td>7</td>\n",
       "      <td>0</td>\n",
       "      <td>1</td>\n",
       "      <td>McCarthy, Timothy J</td>\n",
       "      <td>male</td>\n",
       "      <td>54.0</td>\n",
       "      <td>0</td>\n",
       "      <td>0</td>\n",
       "      <td>17463</td>\n",
       "      <td>51.8625</td>\n",
       "      <td>...</td>\n",
       "      <td>McCarthy</td>\n",
       "      <td>Irish</td>\n",
       "      <td>Irish</td>\n",
       "      <td>0.0</td>\n",
       "      <td>Unknown</td>\n",
       "      <td>0</td>\n",
       "      <td>E</td>\n",
       "      <td>17463</td>\n",
       "      <td>No Prefix</td>\n",
       "      <td>(-1, 100000]</td>\n",
       "    </tr>\n",
       "    <tr>\n",
       "      <th>7</th>\n",
       "      <td>8</td>\n",
       "      <td>0</td>\n",
       "      <td>3</td>\n",
       "      <td>Palsson, Gosta Leonard</td>\n",
       "      <td>male</td>\n",
       "      <td>2.0</td>\n",
       "      <td>3</td>\n",
       "      <td>1</td>\n",
       "      <td>349909</td>\n",
       "      <td>21.0750</td>\n",
       "      <td>...</td>\n",
       "      <td>Palsson</td>\n",
       "      <td>British</td>\n",
       "      <td>British</td>\n",
       "      <td>0.0</td>\n",
       "      <td>Unknown</td>\n",
       "      <td>1</td>\n",
       "      <td>NaN</td>\n",
       "      <td>349909</td>\n",
       "      <td>No Prefix</td>\n",
       "      <td>(260001, 400000]</td>\n",
       "    </tr>\n",
       "    <tr>\n",
       "      <th>8</th>\n",
       "      <td>9</td>\n",
       "      <td>1</td>\n",
       "      <td>3</td>\n",
       "      <td>Johnson, Oscar W</td>\n",
       "      <td>female</td>\n",
       "      <td>27.0</td>\n",
       "      <td>0</td>\n",
       "      <td>2</td>\n",
       "      <td>347742</td>\n",
       "      <td>11.1333</td>\n",
       "      <td>...</td>\n",
       "      <td>Berg</td>\n",
       "      <td>British</td>\n",
       "      <td>British</td>\n",
       "      <td>0.5</td>\n",
       "      <td>Unknown</td>\n",
       "      <td>0</td>\n",
       "      <td>NaN</td>\n",
       "      <td>347742</td>\n",
       "      <td>No Prefix</td>\n",
       "      <td>(260001, 400000]</td>\n",
       "    </tr>\n",
       "    <tr>\n",
       "      <th>9</th>\n",
       "      <td>10</td>\n",
       "      <td>1</td>\n",
       "      <td>2</td>\n",
       "      <td>Nasser, Nicholas</td>\n",
       "      <td>female</td>\n",
       "      <td>14.0</td>\n",
       "      <td>1</td>\n",
       "      <td>0</td>\n",
       "      <td>237736</td>\n",
       "      <td>30.0708</td>\n",
       "      <td>...</td>\n",
       "      <td>Achem</td>\n",
       "      <td>British</td>\n",
       "      <td>African</td>\n",
       "      <td>0.5</td>\n",
       "      <td>Unknown</td>\n",
       "      <td>0</td>\n",
       "      <td>NaN</td>\n",
       "      <td>237736</td>\n",
       "      <td>No Prefix</td>\n",
       "      <td>(200001, 260000]</td>\n",
       "    </tr>\n",
       "  </tbody>\n",
       "</table>\n",
       "<p>10 rows × 30 columns</p>\n",
       "</div>"
      ],
      "text/plain": [
       "   PassengerId  Survived  Pclass                     Name     Sex   Age  \\\n",
       "0            1         0       3      Braund, Owen Harris    male  22.0   \n",
       "1            2         1       1    Cumings, John Bradley  female  38.0   \n",
       "2            3         1       3         Heikkinen, Laina  female  26.0   \n",
       "3            4         1       1  Futrelle, Jacques Heath  female  35.0   \n",
       "4            5         0       3     Allen, William Henry    male  35.0   \n",
       "5            6         0       3             Moran, James    male   NaN   \n",
       "6            7         0       1      McCarthy, Timothy J    male  54.0   \n",
       "7            8         0       3   Palsson, Gosta Leonard    male   2.0   \n",
       "8            9         1       3         Johnson, Oscar W  female  27.0   \n",
       "9           10         1       2         Nasser, Nicholas  female  14.0   \n",
       "\n",
       "   SibSp  Parch            Ticket     Fare  ... Maiden Last Name Family Race  \\\n",
       "0      1      0         A/5 21171   7.2500  ...           Braund     British   \n",
       "1      1      0          PC 17599  71.2833  ...           Thayer     British   \n",
       "2      0      0  STON/O2. 3101282   7.9250  ...        Heikkinen      Jewish   \n",
       "3      1      0            113803  53.1000  ...             Peel      French   \n",
       "4      0      0            373450   8.0500  ...            Allen       Irish   \n",
       "5      0      0            330877   8.4583  ...            Moran     British   \n",
       "6      0      0             17463  51.8625  ...         McCarthy       Irish   \n",
       "7      3      1            349909  21.0750  ...          Palsson     British   \n",
       "8      0      2            347742  11.1333  ...             Berg     British   \n",
       "9      1      0            237736  30.0708  ...            Achem     British   \n",
       "\n",
       "  Birth Race Female Marital  Profession Master Deck Ticket Number  \\\n",
       "0    British            0.0     Unknown      0  NaN         21171   \n",
       "1    British            0.5     Unknown      0    C         17599   \n",
       "2     Jewish           -0.5     Unknown      0  NaN       3101282   \n",
       "3    British            0.5     Unknown      0    C        113803   \n",
       "4      Irish            0.0     Unknown      0  NaN        373450   \n",
       "5    British            0.0     Unknown      0  NaN        330877   \n",
       "6      Irish            0.0     Unknown      0    E         17463   \n",
       "7    British            0.0     Unknown      1  NaN        349909   \n",
       "8    British            0.5     Unknown      0  NaN        347742   \n",
       "9    African            0.5     Unknown      0  NaN        237736   \n",
       "\n",
       "  Ticket Prefix         Ticket Bin  \n",
       "0            A5       (-1, 100000]  \n",
       "1            PC       (-1, 100000]  \n",
       "2       SOTONO2  (400001, 4000000]  \n",
       "3     No Prefix   (100001, 200000]  \n",
       "4     No Prefix   (260001, 400000]  \n",
       "5     No Prefix   (260001, 400000]  \n",
       "6     No Prefix       (-1, 100000]  \n",
       "7     No Prefix   (260001, 400000]  \n",
       "8     No Prefix   (260001, 400000]  \n",
       "9     No Prefix   (200001, 260000]  \n",
       "\n",
       "[10 rows x 30 columns]"
      ]
     },
     "execution_count": 44,
     "metadata": {},
     "output_type": "execute_result"
    }
   ],
   "source": [
    "df.head(10)"
   ]
  },
  {
   "cell_type": "markdown",
   "metadata": {},
   "source": [
    "## Imputation\n",
    "\n",
    "It is evident that some features require imputation."
   ]
  },
  {
   "cell_type": "code",
   "execution_count": 53,
   "metadata": {},
   "outputs": [
    {
     "data": {
      "text/plain": [
       "PassengerId              0\n",
       "Survived               418\n",
       "Pclass                   0\n",
       "Name                     0\n",
       "Sex                      0\n",
       "Age                    263\n",
       "SibSp                    0\n",
       "Parch                    0\n",
       "Ticket                   0\n",
       "Fare                     1\n",
       "Cabin                 1014\n",
       "Embarked                 2\n",
       "Title                    0\n",
       "Maiden Name              0\n",
       "Nickname                 0\n",
       "First Name               0\n",
       "Middle Name              0\n",
       "Last Name                0\n",
       "Maiden First Name        0\n",
       "Maiden Middle Name       0\n",
       "Maiden Last Name         0\n",
       "Family Race              0\n",
       "Birth Race               0\n",
       "Female Marital           0\n",
       "Profession               0\n",
       "Master                   0\n",
       "Deck                  1014\n",
       "Ticket Number            0\n",
       "Ticket Prefix            0\n",
       "Ticket Bin               0\n",
       "dtype: int64"
      ]
     },
     "execution_count": 53,
     "metadata": {},
     "output_type": "execute_result"
    }
   ],
   "source": [
    "np.sum(pd.isnull(df), axis=0)+np.sum(pd.isnull(test), axis=0)"
   ]
  },
  {
   "cell_type": "markdown",
   "metadata": {},
   "source": [
    "For imputation purposes, we will combine the test and training sets."
   ]
  },
  {
   "cell_type": "code",
   "execution_count": 52,
   "metadata": {},
   "outputs": [],
   "source": [
    "combined = pd.concat([df,test],ignore_index=True)"
   ]
  },
  {
   "cell_type": "markdown",
   "metadata": {},
   "source": [
    "First, impute the 3rd class fare for the one passenger with the missing value. Imputation is performed by taking the mean of fares from the same passenger class. Then the binned fares are repopulated."
   ]
  },
  {
   "cell_type": "code",
   "execution_count": 54,
   "metadata": {},
   "outputs": [],
   "source": [
    "thirdclassfare = combined.groupby(['Pclass']).mean()['Fare'].iloc[-1]\n",
    "def imputefare(dataframe):\n",
    "    dataframe['Fare']=np.where(pd.isnull(dataframe['Fare']),thirdclassfare,dataframe['Fare'])\n",
    "imputefare(combined)\n",
    "binfare(combined)"
   ]
  },
  {
   "cell_type": "markdown",
   "metadata": {},
   "source": [
    "Next is a function to calculate missing embarkation using the mode for passengers with the same fare bin and passenger class."
   ]
  },
  {
   "cell_type": "code",
   "execution_count": 55,
   "metadata": {},
   "outputs": [],
   "source": [
    "FareGroup = combined.groupby(['Pclass','Fare Bin'])['Embarked'].agg(lambda x:x.value_counts().index[0])\n",
    "def imputeembark(dataframe):\n",
    "    def fillembark(classcolumn,farecolumn,embarkcolumn):\n",
    "        if not isinstance(embarkcolumn,str):\n",
    "            return FareGroup[(classcolumn,farecolumn)]\n",
    "        else:\n",
    "            return embarkcolumn\n",
    "    dataframe['Embarked']=dataframe.apply(lambda row:fillembark(row['Pclass'],\n",
    "                                                                row['Fare Bin'],row['Embarked']),axis=1)"
   ]
  },
  {
   "cell_type": "markdown",
   "metadata": {},
   "source": [
    "The following function imputes the deck from passenger class, embarkation, ticket prefix, and ticket number. The mode for passengers with the same level for the above factors is used as the imputed value."
   ]
  },
  {
   "cell_type": "code",
   "execution_count": 56,
   "metadata": {},
   "outputs": [],
   "source": [
    "DeckFareGroup = combined.groupby(['Pclass','Embarked',\n",
    "                              'Ticket Prefix','Ticket Bin','Fare Bin'])['Deck'].agg(lambda x:x.value_counts().index[0])\n",
    "DeckGroup = combined.groupby(['Pclass','Embarked',\n",
    "                              'Ticket Prefix','Ticket Bin'])['Deck'].agg(lambda x:x.value_counts().index[0])\n",
    "DeckLargeGroup =combined.groupby(['Pclass','Embarked'])['Deck'].agg(lambda x:x.value_counts().index[0])\n",
    "\n",
    "def imputedeck(dataframe):\n",
    "    def filldeck(classcol,embarkcol,prefixcol,bincol,deckcol,farecol):\n",
    "        if not isinstance(deckcol,str):\n",
    "            if DeckFareGroup[(classcol,embarkcol,prefixcol,bincol,farecol)]=='Unknown':\n",
    "                if DeckGroup[(classcol,embarkcol,prefixcol,bincol)]=='Unknown':\n",
    "                    return DeckLargeGroup[(classcol,embarkcol)]\n",
    "                else:\n",
    "                    return DeckGroup[(classcol,embarkcol,prefixcol,bincol)]\n",
    "            else:\n",
    "                return DeckFareGroup[(classcol,embarkcol,prefixcol,bincol,farecol)]\n",
    "        else:\n",
    "            return deckcol\n",
    "    dataframe['Deck']=dataframe.apply(lambda row:filldeck(row['Pclass'],row['Embarked'],\n",
    "                                    row['Ticket Prefix'],row['Ticket Bin'],row['Deck'],row['Fare Bin']),axis=1)"
   ]
  },
  {
   "cell_type": "markdown",
   "metadata": {},
   "source": [
    "Next relations between passengers are inferred by ticket numbers. If the ticket numbers are the same for two passengers, they are considered to have some kind of relationship. If the ticket numbers are within 2 of each other, and the last names are also the same between passengers, they are assumed to be relatives."
   ]
  },
  {
   "cell_type": "code",
   "execution_count": 58,
   "metadata": {},
   "outputs": [],
   "source": [
    "ticketsorted = combined[['PassengerId','Ticket Number','Last Name','Maiden Last Name']].sort_values(by=['Ticket Number'])\n",
    "ticketsorted['Relations','Relatives']=0\n",
    "ticketsorted=ticketsorted.reset_index(drop=True)\n",
    "\n",
    "def relations():\n",
    "    global ticketsorted\n",
    "    group = [0]\n",
    "    familygroup = [0]\n",
    "    for i in range(1,len(ticketsorted)):\n",
    "        if ticketsorted.loc[i,'Ticket Number']-ticketsorted.loc[i-1,'Ticket Number'] == 0 and i<len(ticketsorted)-1:\n",
    "            group.append(i)\n",
    "        else:\n",
    "            if ticketsorted.loc[i,'Ticket Number']-ticketsorted.loc[i-1,'Ticket Number'] ==0 and i==len(ticketsorted)-1:\n",
    "                group.append(i)\n",
    "            else:\n",
    "                ticketsorted.loc[i, 'Relations'] = 0\n",
    "            for j in group:\n",
    "                ticketsorted.loc[j,'Relations']=len(group)-1\n",
    "            group = [i]\n",
    "        if ticketsorted.loc[i,'Ticket Number']-ticketsorted.loc[i-1,'Ticket Number'] <= 2 and i<len(ticketsorted)-1:\n",
    "            familygroup.append(i)\n",
    "        else:\n",
    "            if ticketsorted.loc[i,'Ticket Number']-ticketsorted.loc[i-1,'Ticket Number'] <=2 and i==len(ticketsorted)-1:\n",
    "                familygroup.append(i)\n",
    "            for j in familygroup:\n",
    "                relatives = -1\n",
    "                for k in familygroup:\n",
    "                    if ticketsorted.loc[j, 'Last Name']==ticketsorted.loc[k, 'Last Name'] or\\\n",
    "                        ticketsorted.loc[j, 'Maiden Last Name']==ticketsorted.loc[k, 'Maiden Last Name'] or \\\n",
    "                            ticketsorted.loc[j, 'Last Name'] == ticketsorted.loc[k, 'Maiden Last Name'] or \\\n",
    "                            ticketsorted.loc[j, 'Maiden Last Name'] == ticketsorted.loc[k, 'Last Name']:\n",
    "                        relatives+=1\n",
    "                ticketsorted.loc[j, 'Relatives']=relatives\n",
    "            familygroup = [i]\n",
    "    ticketsorted = ticketsorted.sort_values(by=['PassengerId']).reset_index(drop=True)\n",
    "    df[['Relations','Relatives']]=ticketsorted.loc[:891,['Relations','Relatives']]\n",
    "    combined[['Relations', 'Relatives']] = ticketsorted.loc[:, ['Relations', 'Relatives']]\n",
    "    test[['Relations', 'Relatives']] = ticketsorted.loc[891:, ['Relations', 'Relatives']].reset_index(drop=True)"
   ]
  },
  {
   "cell_type": "markdown",
   "metadata": {},
   "source": [
    "The number of distant relatives are defined as the number of relatives (determined with the function above) minus the number of parents/children and spouse/siblings. The number of distant relations is defined by the number of relations (see above) minus the number of family members."
   ]
  },
  {
   "cell_type": "code",
   "execution_count": 59,
   "metadata": {},
   "outputs": [],
   "source": [
    "def distrelations(dataframe):\n",
    "    distantrelatives = dataframe['Relatives']-dataframe['Parch']-dataframe['SibSp']\n",
    "    dataframe['Distant Relatives']=np.where(distantrelatives<0,0,distantrelatives)\n",
    "    distantrelations = dataframe['Relations'] - dataframe['Parch'] - dataframe['SibSp']-dataframe['Distant Relatives']\n",
    "    dataframe['Distant Relations'] = np.where(distantrelations < 0, 0, distantrelations)\n",
    "    dataframe['Family Size']= dataframe['Distant Relatives']+dataframe['Parch']+dataframe['SibSp']"
   ]
  },
  {
   "cell_type": "markdown",
   "metadata": {},
   "source": [
    "To impute age, a new feature can be created that indicates if a passenger is traveling alone. In addition a feature will be created that indicates whether someone is known to have a job or not (based on the profession feature)."
   ]
  },
  {
   "cell_type": "code",
   "execution_count": 60,
   "metadata": {},
   "outputs": [],
   "source": [
    "def alone(dataframe):\n",
    "    dataframe['Alone']=np.where(dataframe['SibSp']*dataframe['Parch']*dataframe['Relations']*dataframe['Relatives']==0,1,0)"
   ]
  },
  {
   "cell_type": "code",
   "execution_count": 61,
   "metadata": {},
   "outputs": [],
   "source": [
    "def professional(dataframe):\n",
    "    dataframe['Professional'] = np.where(dataframe['Profession'] !='Unknown', 1, 0)"
   ]
  },
  {
   "cell_type": "markdown",
   "metadata": {},
   "source": [
    "Finally, age can be imputed based on marital status, 'Master' title, whether the individual is a professional, traveling alone, and the passenger class."
   ]
  },
  {
   "cell_type": "code",
   "execution_count": 62,
   "metadata": {
    "collapsed": true
   },
   "outputs": [
    {
     "name": "stdout",
     "output_type": "stream",
     "text": [
      "      PassengerId  Ticket Number     Last Name Maiden Last Name  \\\n",
      "0             598              0       Johnson          Johnson   \n",
      "1             180              0       Leonard          Leonard   \n",
      "2             303              0       Johnson          Johnson   \n",
      "3             272              0     Tornquist        Tornquist   \n",
      "4            1078              2      Phillips         Phillips   \n",
      "5            1194              2      Phillips         Phillips   \n",
      "6             842              3          Mudd             Mudd   \n",
      "7             773              3          Mack                    \n",
      "8            1062            251       Lithman          Lithman   \n",
      "9             474            541        Jerwan        Thuillard   \n",
      "10           1270            680       Hipkins          Hipkins   \n",
      "11            546            693     Nicholson        Nicholson   \n",
      "12            903            694         Jones            Jones   \n",
      "13            873            695      Carlsson         Carlsson   \n",
      "14            649            751        Willey           Willey   \n",
      "15            227            751       Mellors          Mellors   \n",
      "16           1047            752      Duquemin         Duquemin   \n",
      "17            571            752        Harris           Harris   \n",
      "18            154            851  van Billiard     van Billiard   \n",
      "19           1084            851  van Billiard     van Billiard   \n",
      "20           1236            851  van Billiard     van Billiard   \n",
      "21            151           1166       Bateman          Bateman   \n",
      "22           1249           1222       Lockyer          Lockyer   \n",
      "23           1181           1478          Ford             Ford   \n",
      "24            240           1585          Hunt             Hunt   \n",
      "25           1204           1588      Sadowitz         Sadowitz   \n",
      "26            827           1601           Lam              Lam   \n",
      "27             75           1601          Bing             Bing   \n",
      "28            839           1601          Chip             Chip   \n",
      "29            510           1601          Lang             Lang   \n",
      "...           ...            ...           ...              ...   \n",
      "1279          817        3101290      Heininen         Heininen   \n",
      "1280          937        3101291     Peltomaki        Peltomaki   \n",
      "1281          637        3101292      Leinonen         Leinonen   \n",
      "1282          383        3101293      Tikkanen         Tikkanen   \n",
      "1283          116        3101294     Pekoniemi        Pekoniemi   \n",
      "1284          267        3101295        Panula           Panula   \n",
      "1285          165        3101295        Panula           Panula   \n",
      "1286          639        3101295        Panula            Ojala   \n",
      "1287          687        3101295        Panula           Panula   \n",
      "1288         1259        3101295    Riihivouri       Riihivouri   \n",
      "1289          825        3101295        Panula           Panula   \n",
      "1290           51        3101295        Panula           Panula   \n",
      "1291          529        3101296       Salonen          Salonen   \n",
      "1292          964        3101297      Nieminen         Nieminen   \n",
      "1293          896        3101298      Hirvonen        Lindqvist   \n",
      "1294          480        3101298      Hirvonen         Hirvonen   \n",
      "1295          612        3101305        Jardin           Jardin   \n",
      "1296          466        3101306     Goncalves        Goncalves   \n",
      "1297          132        3101307        Coelho           Coelho   \n",
      "1298         1103        3101308        Finoli           Finoli   \n",
      "1299         1217        3101309         Assam            Assam   \n",
      "1300          364        3101310          Asim             Asim   \n",
      "1301          211        3101311           Ali              Ali   \n",
      "1302          785        3101312           Ali              Ali   \n",
      "1303         1178        3101314      Franklin           Fardon   \n",
      "1304         1173        3101315       Peacock          Peacock   \n",
      "1305         1051        3101315       Peacock             Nile   \n",
      "1306         1301        3101315       Peacock          Peacock   \n",
      "1307          512        3101316        Webber           Webber   \n",
      "1308          492        3101317      Windelov         Windelov   \n",
      "\n",
      "      (Relations, Relatives)  Relations  Relatives  \n",
      "0                          0        3.0        1.0  \n",
      "1                          0        3.0        0.0  \n",
      "2                          0        3.0        1.0  \n",
      "3                          0        3.0        0.0  \n",
      "4                          0        1.0        1.0  \n",
      "5                          0        1.0        1.0  \n",
      "6                          0        1.0        0.0  \n",
      "7                          0        1.0        0.0  \n",
      "8                          0        0.0        0.0  \n",
      "9                          0        0.0        0.0  \n",
      "10                         0        0.0        0.0  \n",
      "11                         0        0.0        0.0  \n",
      "12                         0        0.0        0.0  \n",
      "13                         0        0.0        0.0  \n",
      "14                         0        1.0        0.0  \n",
      "15                         0        1.0        0.0  \n",
      "16                         0        1.0        0.0  \n",
      "17                         0        1.0        0.0  \n",
      "18                         0        2.0        2.0  \n",
      "19                         0        2.0        2.0  \n",
      "20                         0        2.0        2.0  \n",
      "21                         0        0.0        0.0  \n",
      "22                         0        0.0        0.0  \n",
      "23                         0        0.0        0.0  \n",
      "24                         0        0.0        0.0  \n",
      "25                         0        0.0        0.0  \n",
      "26                         0        7.0        1.0  \n",
      "27                         0        7.0        0.0  \n",
      "28                         0        7.0        0.0  \n",
      "29                         0        7.0        0.0  \n",
      "...                      ...        ...        ...  \n",
      "1279                       0        0.0        0.0  \n",
      "1280                       0        0.0        0.0  \n",
      "1281                       0        0.0        0.0  \n",
      "1282                       0        0.0        0.0  \n",
      "1283                       0        0.0        0.0  \n",
      "1284                       0        6.0        5.0  \n",
      "1285                       0        6.0        5.0  \n",
      "1286                       0        6.0        5.0  \n",
      "1287                       0        6.0        5.0  \n",
      "1288                       0        6.0        0.0  \n",
      "1289                       0        6.0        5.0  \n",
      "1290                       0        6.0        5.0  \n",
      "1291                       0        0.0        0.0  \n",
      "1292                       0        0.0        0.0  \n",
      "1293                       0        1.0        2.0  \n",
      "1294                       0        1.0        1.0  \n",
      "1295                       0        0.0        0.0  \n",
      "1296                       0        0.0        0.0  \n",
      "1297                       0        0.0        0.0  \n",
      "1298                       0        0.0        0.0  \n",
      "1299                       0        0.0        0.0  \n",
      "1300                       0        0.0        0.0  \n",
      "1301                       0        0.0        1.0  \n",
      "1302                       0        0.0        1.0  \n",
      "1303                       0        0.0        0.0  \n",
      "1304                       0        2.0        2.0  \n",
      "1305                       0        2.0        2.0  \n",
      "1306                       0        2.0        2.0  \n",
      "1307                       0        0.0        0.0  \n",
      "1308                       0        0.0        0.0  \n",
      "\n",
      "[1309 rows x 7 columns]\n",
      "      PassengerId  Ticket Number         Last Name  Maiden Last Name  \\\n",
      "0               1          21171            Braund            Braund   \n",
      "1               2          17599           Cumings            Thayer   \n",
      "2               3        3101282         Heikkinen         Heikkinen   \n",
      "3               4         113803          Futrelle              Peel   \n",
      "4               5         373450             Allen             Allen   \n",
      "5               6         330877             Moran             Moran   \n",
      "6               7          17463          McCarthy          McCarthy   \n",
      "7               8         349909           Palsson           Palsson   \n",
      "8               9         347742           Johnson              Berg   \n",
      "9              10         237736            Nasser             Achem   \n",
      "10             11           9549         Sandstrom         Sandstrom   \n",
      "11             12         113783           Bonnell           Bonnell   \n",
      "12             13           2151       Saundercock       Saundercock   \n",
      "13             14         347082         Andersson         Andersson   \n",
      "14             15         350406           Vestrom           Vestrom   \n",
      "15             16         248706           Hewlett          Kingcome   \n",
      "16             17         382652              Rice              Rice   \n",
      "17             18         244373          Williams          Williams   \n",
      "18             19         345763     Vander Planke     Vandemoortele   \n",
      "19             20           2649        Masselmani        Masselmani   \n",
      "20             21         239865            Fynney            Fynney   \n",
      "21             22         248698           Beesley           Beesley   \n",
      "22             23         330923           McGowan           McGowan   \n",
      "23             24         113788            Sloper            Sloper   \n",
      "24             25         349909           Palsson           Palsson   \n",
      "25             26         347077           Asplund         Johansson   \n",
      "26             27           2631              Emir              Emir   \n",
      "27             28          19950           Fortune           Fortune   \n",
      "28             29         330959           O'Dwyer           O'Dwyer   \n",
      "29             30         349216          Todoroff          Todoroff   \n",
      "...           ...            ...               ...               ...   \n",
      "1279         1280         364858           Canavan           Canavan   \n",
      "1280         1281         349909           Palsson           Palsson   \n",
      "1281         1282          12749             Payne             Payne   \n",
      "1282         1283          17592             Lines             James   \n",
      "1283         1284           2673            Abbott            Abbott   \n",
      "1284         1285          30769           Gilbert           Gilbert   \n",
      "1285         1286         315153     Kink-Heilmann     Kink-Heilmann   \n",
      "1286         1287          13695             Smith            Hughes   \n",
      "1287         1288         371109           Colbert           Colbert   \n",
      "1288         1289          13567  Frolicher-Stehli            Stehli   \n",
      "1289         1290         347065  Larsson-Rondberg  Larsson-Rondberg   \n",
      "1290         1291          21332            Conlon            Conlon   \n",
      "1291         1292          36928           Bonnell           Bonnell   \n",
      "1292         1293          28664              Gale              Gale   \n",
      "1293         1294         112378            Gibson            Gibson   \n",
      "1294         1295         113059            Carrau            Carrau   \n",
      "1295         1296          17765        Frauenthal        Frauenthal   \n",
      "1296         1297           2166           Nourney           Nourney   \n",
      "1297         1298          28666              Ware              Ware   \n",
      "1298         1299         113503           Widener           Widener   \n",
      "1299         1300         334915           Riordan           Riordan   \n",
      "1300         1301        3101315           Peacock           Peacock   \n",
      "1301         1302         365237          Naughton          Naughton   \n",
      "1302         1303          19928           Minahan            Thorpe   \n",
      "1303         1304         347086        Henriksson        Henriksson   \n",
      "1304         1305           3236           Spector           Spector   \n",
      "1305         1306          17758     Oliva y Ocana     Oliva y Ocana   \n",
      "1306         1307        3101262           Saether           Saether   \n",
      "1307         1308         359309              Ware              Ware   \n",
      "1308         1309           2668             Peter             Peter   \n",
      "\n",
      "      (Relations, Relatives)  Relations  Relatives  \n",
      "0                          0        0.0        0.0  \n",
      "1                          0        1.0        1.0  \n",
      "2                          0        0.0        0.0  \n",
      "3                          0        1.0        1.0  \n",
      "4                          0        0.0        0.0  \n",
      "5                          0        0.0        0.0  \n",
      "6                          0        1.0        0.0  \n",
      "7                          0        4.0        4.0  \n",
      "8                          0        2.0        2.0  \n",
      "9                          0        1.0        1.0  \n",
      "10                         0        2.0        2.0  \n",
      "11                         0        0.0        0.0  \n",
      "12                         0        0.0        0.0  \n",
      "13                         0        6.0        9.0  \n",
      "14                         0        0.0        0.0  \n",
      "15                         0        0.0        0.0  \n",
      "16                         0        5.0        5.0  \n",
      "17                         0        0.0        0.0  \n",
      "18                         0        1.0        3.0  \n",
      "19                         0        0.0        0.0  \n",
      "20                         0        1.0        0.0  \n",
      "21                         0        0.0        0.0  \n",
      "22                         0        0.0        0.0  \n",
      "23                         0        0.0        0.0  \n",
      "24                         0        4.0        4.0  \n",
      "25                         0        6.0        7.0  \n",
      "26                         0        0.0        0.0  \n",
      "27                         0        5.0        5.0  \n",
      "28                         0        0.0        0.0  \n",
      "29                         0        0.0        0.0  \n",
      "...                      ...        ...        ...  \n",
      "1279                       0        0.0        0.0  \n",
      "1280                       0        4.0        4.0  \n",
      "1281                       0        3.0        0.0  \n",
      "1282                       0        1.0        1.0  \n",
      "1283                       0        3.0        2.0  \n",
      "1284                       0        0.0        0.0  \n",
      "1285                       0        2.0        2.0  \n",
      "1286                       0        1.0        1.0  \n",
      "1287                       0        0.0        0.0  \n",
      "1288                       0        1.0        1.0  \n",
      "1289                       0        0.0        0.0  \n",
      "1290                       0        0.0        0.0  \n",
      "1291                       0        3.0        0.0  \n",
      "1292                       0        1.0        1.0  \n",
      "1293                       0        1.0        1.0  \n",
      "1294                       0        1.0        1.0  \n",
      "1295                       0        0.0        0.0  \n",
      "1296                       0        0.0        0.0  \n",
      "1297                       0        0.0        0.0  \n",
      "1298                       0        4.0        2.0  \n",
      "1299                       0        0.0        0.0  \n",
      "1300                       0        2.0        2.0  \n",
      "1301                       0        0.0        0.0  \n",
      "1302                       0        2.0        2.0  \n",
      "1303                       0        0.0        0.0  \n",
      "1304                       0        0.0        0.0  \n",
      "1305                       0        2.0        0.0  \n",
      "1306                       0        0.0        0.0  \n",
      "1307                       0        0.0        0.0  \n",
      "1308                       0        2.0        2.0  \n",
      "\n",
      "[1309 rows x 7 columns]\n",
      "0      0.0\n",
      "1      0.0\n",
      "2      0.0\n",
      "3      0.0\n",
      "4      2.0\n",
      "5      0.0\n",
      "6      0.0\n",
      "7      2.0\n",
      "8      0.0\n",
      "9      2.0\n",
      "10     0.0\n",
      "11     0.0\n",
      "12     1.0\n",
      "13     1.0\n",
      "14     1.0\n",
      "15     1.0\n",
      "16     0.0\n",
      "17     0.0\n",
      "18     1.0\n",
      "19     0.0\n",
      "20     1.0\n",
      "21     0.0\n",
      "22     0.0\n",
      "23     1.0\n",
      "24     4.0\n",
      "25     1.0\n",
      "26     1.0\n",
      "27     0.0\n",
      "28     0.0\n",
      "29     2.0\n",
      "      ... \n",
      "388    0.0\n",
      "389    4.0\n",
      "390    0.0\n",
      "391    1.0\n",
      "392    2.0\n",
      "393    0.0\n",
      "394    2.0\n",
      "395    1.0\n",
      "396    0.0\n",
      "397    1.0\n",
      "398    0.0\n",
      "399    0.0\n",
      "400    0.0\n",
      "401    1.0\n",
      "402    1.0\n",
      "403    1.0\n",
      "404    0.0\n",
      "405    0.0\n",
      "406    0.0\n",
      "407    2.0\n",
      "408    0.0\n",
      "409    2.0\n",
      "410    0.0\n",
      "411    2.0\n",
      "412    0.0\n",
      "413    0.0\n",
      "414    0.0\n",
      "415    0.0\n",
      "416    0.0\n",
      "417    2.0\n",
      "Name: Relatives, Length: 418, dtype: float64\n"
     ]
    }
   ],
   "source": [
    "relations()\n",
    "distrelations(df)\n",
    "distrelations(test)\n",
    "distrelations(combined)\n",
    "alone(combined)\n",
    "professional(combined)\n",
    "AgeGroup = combined.groupby(['Female Marital','Master','Professional','Alone','Pclass'])['Age'].mean()\n",
    "def imputeage(dataframe):\n",
    "    def fillage(maritalcol,mastercol,profcol,alonecol,classcol,agecol):\n",
    "        if np.isnan([agecol])[0]:\n",
    "            return AgeGroup[(maritalcol,mastercol,profcol,alonecol,classcol)]\n",
    "        else:\n",
    "            return agecol\n",
    "    dataframe['Age']=dataframe.apply(lambda row:fillage(row['Female Marital'],row['Master'],\n",
    "                                    row['Professional'],row['Alone'],row['Pclass'],row['Age']),axis=1)"
   ]
  },
  {
   "cell_type": "markdown",
   "metadata": {},
   "source": [
    "Now imputation can be performed, along with dummy coding."
   ]
  },
  {
   "cell_type": "code",
   "execution_count": 63,
   "metadata": {
    "collapsed": true
   },
   "outputs": [
    {
     "name": "stdout",
     "output_type": "stream",
     "text": [
      "C\n",
      "C\n"
     ]
    }
   ],
   "source": [
    "def imputation(dataframe):\n",
    "    binfare(dataframe)\n",
    "    imputeembark(dataframe)\n",
    "    imputedeck(dataframe)\n",
    "    alone(dataframe)\n",
    "    professional(dataframe)\n",
    "    imputeage(dataframe)\n",
    "\n",
    "imputefare(test)\n",
    "imputation(df)\n",
    "imputation(test)\n",
    "df=dummies(df)\n",
    "test=dummies(test)\n",
    "combined = dummies(combined)"
   ]
  },
  {
   "cell_type": "markdown",
   "metadata": {},
   "source": [
    "## Exploratory Data Analysis\n",
    "\n",
    "### Visualization\n",
    "\n",
    "First, functions are defined to create the plots."
   ]
  },
  {
   "cell_type": "code",
   "execution_count": 68,
   "metadata": {},
   "outputs": [],
   "source": [
    "def survivalgroup(column,ax):\n",
    "    percent=df.groupby(column)['Survived'].agg(lambda x:x.sum()/x.count()*100)\n",
    "    if len(column)==1:\n",
    "        percent.plot(kind='bar',ax=ax,legend=False)\n",
    "    elif len(column)>1:\n",
    "        percent.unstack().plot(kind='bar',ax=ax,legend=False)\n",
    "    ax.set_ylabel('% Survived')\n",
    "\n",
    "def survivalhist(column,secondcolumn=None,bins=None,ax=None):\n",
    "    df['Histbins'] = pd.cut(column, bins)\n",
    "    if not secondcolumn:\n",
    "        percent=df.groupby(['Histbins'])['Survived'].agg(lambda x:x.sum()/x.count()*100)\n",
    "        percent.plot(kind='bar',ax=ax,legend=False)\n",
    "    else:\n",
    "        percent = df.groupby(['Histbins']+secondcolumn)['Survived'].agg(lambda x: x.sum() / x.count() * 100)\n",
    "        percent.unstack().plot(kind='bar',ax=ax,legend=False)\n",
    "    ax.set_ylabel('% Survived')"
   ]
  },
  {
   "cell_type": "markdown",
   "metadata": {},
   "source": [
    "Lists are created for the labels."
   ]
  },
  {
   "cell_type": "code",
   "execution_count": 65,
   "metadata": {},
   "outputs": [],
   "source": [
    "categoricalx = ['Pclass','Deck','Embarked','Family Race','Birth Race',\n",
    "                'Sex','Female Marital','Family Size','Distant Relations','Profession','Nickname']\n",
    "continuousx=['Age','Fare']\n",
    "races = ['African', 'British', 'EastAsian', 'EastEuropean', 'French', 'Germanic','Hispanic', 'Indian', 'Irish',\n",
    "         'Italian', 'Jewish', 'Muslim', 'Nordic']\n",
    "professions = ['Clergy', 'Doctor', 'Military','Nobility', 'Unknown']\n",
    "decks = ['A', 'B', 'C', 'D', 'E', 'F', 'G', 'T']"
   ]
  },
  {
   "cell_type": "markdown",
   "metadata": {},
   "source": [
    "The first set of plots are bar charts showing the frequency of survival by feature."
   ]
  },
  {
   "cell_type": "code",
   "execution_count": 70,
   "metadata": {},
   "outputs": [
    {
     "data": {
      "image/png": "[encoded data removed]",
      "text/plain": [
       "<Figure size 1080x648 with 13 Axes>"
      ]
     },
     "metadata": {
      "needs_background": "light"
     },
     "output_type": "display_data"
    }
   ],
   "source": [
    "fig0, ax0 = plt.subplots(3,5)\n",
    "fig0.delaxes(ax0[2][3])\n",
    "fig0.delaxes(ax0[2][4])\n",
    "for i in range(len(categoricalx)):\n",
    "    survivalgroup([categoricalx[i]],ax0[i//5,i%5])\n",
    "survivalhist(df['Age'],bins=np.linspace(0,80,21),ax=ax0[2,1])\n",
    "survivalhist(df['Fare'],bins=np.logspace(0.5,3,21),ax=ax0[2,2])\n",
    "ax0[2,1].set_xlabel('Age')\n",
    "ax0[2,2].set_xlabel('Fare')\n",
    "fig0.set_size_inches(15,9)\n",
    "fig0.tight_layout(pad=0.4,w_pad=0.5,h_pad=0.5)"
   ]
  },
  {
   "cell_type": "markdown",
   "metadata": {},
   "source": [
    "Almost all features show some effect of the feature level on survival. Sex has the clearest effect (females are much more likely to survive). For embarkation, Cherbourg passengers seem to survive more. Passenger class, deck, and fare all show trends with survival. The surprising effect is that of having a nickname. This may be just coincidental, or perhaps having a nickname recorded indicates something about one's personality that makes the person more likely to survive.\n",
    "\n",
    "Next, the distribution of levels of different features are shown in pie charts."
   ]
  },
  {
   "cell_type": "code",
   "execution_count": 71,
   "metadata": {},
   "outputs": [
    {
     "data": {
      "image/png": "[encoded data removed]",
      "text/plain": [
       "<Figure size 864x576 with 6 Axes>"
      ]
     },
     "metadata": {},
     "output_type": "display_data"
    }
   ],
   "source": [
    "fig1, ax1 = plt.subplots(2,3)\n",
    "ax1[0,0].set_title('Birth Race')\n",
    "ax1[0,1].set_title('Family Race')\n",
    "ax1[0,2].set_title('Profession')\n",
    "ax1[1,0].set_title('Marital Status')\n",
    "ax1[1,1].set_title('Sex')\n",
    "ax1[1,2].set_title('Nickname')\n",
    "ax1[0,0].pie(df.groupby(['Birth Race'])['Survived'].count(),labels=races)\n",
    "ax1[0,1].pie(df.groupby(['Family Race'])['Survived'].count(),labels=races)\n",
    "ax1[0,2].pie(df.groupby(['Profession'])['Survived'].count(),labels=professions)\n",
    "ax1[1,0].pie(df.groupby(['Female Marital'])['Survived'].count(),labels=['Unmarried','Unknown','Married'])\n",
    "ax1[1,1].pie(df.groupby(['Sex'])['Survived'].count(),labels=['Male','Female'])\n",
    "ax1[1,2].pie(df.groupby(['Nickname'])['Survived'].count(),labels=['No','Yes'])\n",
    "fig1.set_size_inches(12,8)\n",
    "fig1.tight_layout(pad=0.4,w_pad=0.5,h_pad=0.5)"
   ]
  },
  {
   "cell_type": "markdown",
   "metadata": {},
   "source": [
    "The feature levels are not uniformly distributed. However, there is some variation in most features except profession. Nickname also is quite imbalanced, which may have resulted in the apparent effect of nickname on survival.\n",
    "\n",
    "The first set of % Survival plots may be skewed by groups with small numbers of passengers (the error will be higher for these groups). Therefore another set of plots showing the absolute number of passengers who survived and died is shown below to clarify some of the features with ambiguous effects."
   ]
  },
  {
   "cell_type": "code",
   "execution_count": 72,
   "metadata": {},
   "outputs": [
    {
     "data": {
      "image/png": "[encoded data removed]",
      "text/plain": [
       "<Figure size 1008x504 with 6 Axes>"
      ]
     },
     "metadata": {
      "needs_background": "light"
     },
     "output_type": "display_data"
    }
   ],
   "source": [
    "fig3, ax3 = plt.subplots(2,3)\n",
    "ax3[0,0].hist([df.loc[df['Survived']==1,'Age'],df.loc[df['Survived']==0,'Age']],\n",
    "              bins=np.linspace(0,80,40),stacked=True)\n",
    "ax3[0,0].set_xlabel('Age')\n",
    "ax3[0,1].hist([df.loc[df['Survived']==1,'Fare'],df.loc[df['Survived']==0,'Fare']],\n",
    "              bins=np.linspace(0,600,120),stacked=True)\n",
    "ax3[0,1].set_xlabel('Fare')\n",
    "deckplot = pd.concat([df.groupby(['Deck'])['Survived'].apply(lambda x:(x==1).sum()),\n",
    "                     df.groupby(['Deck'])['Survived'].apply(lambda x:(x==0).sum())],axis=1)\n",
    "deckplot.plot.bar(ax=ax3[0,2],stacked=True,legend=False)\n",
    "classplot = pd.concat([df.groupby(['Pclass'])['Survived'].apply(lambda x:(x==1).sum()),\n",
    "                     df.groupby(['Pclass'])['Survived'].apply(lambda x:(x==0).sum())],axis=1)\n",
    "classplot.plot.bar(ax=ax3[1,0],stacked=True, legend=False)\n",
    "ax3[1,1].hist([df.loc[df['Survived']==1,'Family Size'],df.loc[df['Survived']==0,'Family Size']],\n",
    "              bins=np.linspace(0,10,11),stacked=True)\n",
    "ax3[1,1].set_xlabel('Family Size')\n",
    "ax3[1,2].hist([df.loc[df['Survived']==1,'Distant Relations'],df.loc[df['Survived']==0,'Distant Relations']],\n",
    "              bins=np.linspace(0,10,11),stacked=True)\n",
    "ax3[1,2].set_xlabel('Distant Relations')\n",
    "ax3[1,2].legend(['Survived','Died'])\n",
    "for i in range(2):\n",
    "    for j in range(3):\n",
    "        ax3[i,j].set_ylabel('Count')\n",
    "fig3.set_size_inches(14,7)\n",
    "fig3.tight_layout(pad=0.4,w_pad=0.5,h_pad=0.5)"
   ]
  },
  {
   "cell_type": "markdown",
   "metadata": {},
   "source": [
    "Here the effect of family size and distant relations becomes more evident. Many more survive if they have fewer family members or relations on board. Also, it is evident that a higher fraction of children under ~10-14 survive than older passengers.\n",
    "\n",
    "Next, since gender had a large effect, interactions between gender and other features are explored with the following plots."
   ]
  },
  {
   "cell_type": "code",
   "execution_count": 73,
   "metadata": {},
   "outputs": [
    {
     "data": {
      "image/png": "[encoded data removed]",
      "text/plain": [
       "<Figure size 1008x576 with 12 Axes>"
      ]
     },
     "metadata": {
      "needs_background": "light"
     },
     "output_type": "display_data"
    }
   ],
   "source": [
    "fig4, ax4 = plt.subplots(3,4)\n",
    "categoricalx.remove('Sex')\n",
    "for i in range(len(categoricalx)):\n",
    "    survivalgroup([categoricalx[i],'Sex'],ax4[i//4,i%4])\n",
    "survivalhist(df['Age'],['Sex'],bins=np.linspace(0,80,21),ax=ax4[2,2])\n",
    "survivalhist(df['Fare'],['Sex'],bins=np.logspace(0.5,3,21),ax=ax4[2,3])\n",
    "ax4[2,3].legend()\n",
    "ax4[2,2].set_xlabel('Age')\n",
    "ax4[2,3].set_xlabel('Fare')\n",
    "fig4.set_size_inches(14,8)\n",
    "fig4.tight_layout(pad=0.4,w_pad=0.5,h_pad=0.5)\n",
    "categoricalx.insert(5,'Sex')"
   ]
  },
  {
   "cell_type": "markdown",
   "metadata": {},
   "source": [
    "The effect of class seems to be higher for males than females. The effect of age and fare is larger for males than females. Effects of family size, profession, and race vary without an obvious pattern. Interestingly the effect of nickname is higher for males than females.\n",
    "\n",
    "Next, interactions between class and other features are explored."
   ]
  },
  {
   "cell_type": "code",
   "execution_count": 74,
   "metadata": {},
   "outputs": [
    {
     "data": {
      "image/png": "[encoded data removed]",
      "text/plain": [
       "<Figure size 1008x576 with 12 Axes>"
      ]
     },
     "metadata": {
      "needs_background": "light"
     },
     "output_type": "display_data"
    }
   ],
   "source": [
    "fig5, ax5 = plt.subplots(3,4)\n",
    "categoricalx.remove('Pclass')\n",
    "for i in range(len(categoricalx)):\n",
    "    survivalgroup([categoricalx[i],'Pclass'],ax5[i//4,i%4])\n",
    "survivalhist(df['Age'],['Pclass'],bins=np.linspace(0,80,21),ax=ax5[2,2])\n",
    "survivalhist(df['Fare'],['Pclass'],bins=np.logspace(0.5,3,21),ax=ax5[2,3])\n",
    "ax5[2,3].legend()\n",
    "ax5[2,2].set_xlabel('Age')\n",
    "ax5[2,3].set_xlabel('Fare')\n",
    "fig5.set_size_inches(14,8)\n",
    "fig5.tight_layout(pad=0.4,w_pad=0.5,h_pad=0.5)\n",
    "categoricalx.insert(0,'Pclass')"
   ]
  },
  {
   "cell_type": "markdown",
   "metadata": {},
   "source": [
    "First class passengers are generally on higher decks and paid higher fares, so the two effects are likely to be related. The interactions are not as clear for other factors.\n",
    "\n",
    "#### Randomness of Dataset\n",
    "\n",
    "To check if the data needs to be shuffled, the correlation between the index and continuous variables is calculated."
   ]
  },
  {
   "cell_type": "code",
   "execution_count": 75,
   "metadata": {},
   "outputs": [
    {
     "name": "stdout",
     "output_type": "stream",
     "text": [
      "[['Survived', -0.005006660767066487], ['Pclass', -0.03514399403037977], ['Female', -0.04293888007878875], ['Age', 0.03855082908941326], ['SibSp', -0.05752683378444151], ['Parch', -0.0016520124027188355], ['Fare', 0.012658219287491225]]\n"
     ]
    }
   ],
   "source": [
    "correlationlist = []\n",
    "index = df.index.tolist()\n",
    "for i in ['Survived','Pclass','Female','Age','SibSp','Parch','Fare']:\n",
    "    variable = df.loc[:,i]\n",
    "    correlationlist.append([i,np.corrcoef(index,variable)[0,1]])\n",
    "print(correlationlist)"
   ]
  },
  {
   "cell_type": "markdown",
   "metadata": {},
   "source": [
    "There are no strong correlations, indicating that the data is not sorted by any of these factors and does not need to be randomized further.\n",
    "\n",
    "## Transformation\n",
    "\n",
    "The distribution of fares suggests a log transformation is appropriate, especially if a linear model is to be used. Also, since the effect of fare is mainly for males, the interaction between gender and fare will be created as a new feature. Also, since the distribution of age appears to be bimodal, age will be split into child age and adult age. A function for these transformations is defined below."
   ]
  },
  {
   "cell_type": "code",
   "execution_count": 76,
   "metadata": {},
   "outputs": [],
   "source": [
    "def transform(dataframe,agethreshold):\n",
    "    # Log scale the fare\n",
    "    dataframe['Log Fare'] = np.log(dataframe['Fare'] + 1)\n",
    "    # Split Age\n",
    "    dataframe['Child'] = np.where(dataframe['Age'] <= agethreshold, 1, 0)\n",
    "    dataframe['Child Age'] = dataframe['Child'] * dataframe['Age']\n",
    "    dataframe['Adult Age'] = -1 * (1 - dataframe['Child']) * dataframe['Age']\n",
    "    # Log Fare x Female\n",
    "    dataframe['Fare x Female']=dataframe['Female']*dataframe['Log Fare']"
   ]
  },
  {
   "cell_type": "markdown",
   "metadata": {},
   "source": [
    "Also, the features will be scaled so that algorithms involving distance calculations may be applied."
   ]
  },
  {
   "cell_type": "code",
   "execution_count": 77,
   "metadata": {},
   "outputs": [],
   "source": [
    "def rescale(dataframe):\n",
    "    for x in ['Log Fare','Fare','Fare x Female', 'Age', 'Child Age', 'Adult Age', 'Family Size', 'Distant Relations']:\n",
    "        dataframe[x] = 0.5 * dataframe[x]/combined[x].mean()"
   ]
  },
  {
   "cell_type": "markdown",
   "metadata": {},
   "source": [
    "The transformations are applied, along with adding a column for constant (column of 1s) which is required for statsmodels GLM. The age threshold for children is set to 12 based on the histograms."
   ]
  },
  {
   "cell_type": "code",
   "execution_count": 78,
   "metadata": {},
   "outputs": [],
   "source": [
    "df['Constant']=1\n",
    "test['Constant']=1\n",
    "\n",
    "transform(df,12)\n",
    "transform(test,12)\n",
    "transform(combined,12)\n",
    "rescale(df)\n",
    "rescale(test)"
   ]
  },
  {
   "cell_type": "markdown",
   "metadata": {},
   "source": [
    "## Feature and Model Selection\n",
    "\n",
    "A list of all the model features is defined below. GLM in statsmodels will require the constant feature."
   ]
  },
  {
   "cell_type": "code",
   "execution_count": 79,
   "metadata": {},
   "outputs": [],
   "source": [
    "features = ['Log Fare','1','2','Cherbourg','Queenstown','A','B','C','D','E','F','G','Nickname','African', 'EastAsian',\n",
    "            'EastEuropean', 'French', 'Germanic', 'Hispanic', 'Indian', 'Irish', 'Italian', 'Jewish', 'Muslim',\n",
    "            'Nordic','Female','Child','Child Age','Adult Age','Family Size','Distant Relations','Female Marital']\n",
    "\n",
    "featuresGLM = ['Constant']+features"
   ]
  },
  {
   "cell_type": "markdown",
   "metadata": {},
   "source": [
    "Some functions for evaluation of all models are defined below. The evaluations use 3 fold cross validation, based on the size of training and test data sets."
   ]
  },
  {
   "cell_type": "code",
   "execution_count": 80,
   "metadata": {},
   "outputs": [],
   "source": [
    "def testmodel(xlist, model,ROC=True):\n",
    "    X = df[xlist]\n",
    "    y = df['Survived']\n",
    "    matrix = pd.concat([X, y], axis=1)\n",
    "    model.fit(X, y)\n",
    "    if ROC:\n",
    "        yscores = model.predict(X)\n",
    "        fpr, tpr, thresholds = sklearn.metrics.roc_curve(y, yscores)\n",
    "    ypredict = model.predict(X)\n",
    "    print('Accuracy: ' + str(sklearn.metrics.accuracy_score(y, ypredict)))\n",
    "    print('Precision: ' + str(sklearn.metrics.precision_score(y, ypredict)))\n",
    "    print('Recall: ' + str(sklearn.metrics.recall_score(y, ypredict)))\n",
    "    if ROC:\n",
    "        print('ROC AUC: ' + str(sklearn.metrics.roc_auc_score(y, yscores)))\n",
    "    cvscore = sum(cross_val_score(model, X, y, cv=3)) / 3\n",
    "    for i in range(9):\n",
    "        shuffled = shuffle(matrix)\n",
    "        X = shuffled[xlist]\n",
    "        y = shuffled['Survived']\n",
    "        cvscore += sum(cross_val_score(model, X, y, cv=3)) / 3\n",
    "    cvscore = cvscore / 10\n",
    "    print('CV score: ' + str(cvscore))\n",
    "    if ROC:\n",
    "        return fpr,tpr\n",
    "\n",
    "def optimize(alg,xlist,griddict):\n",
    "    X = df[xlist]\n",
    "    y = df['Survived']\n",
    "    grid = [griddict]\n",
    "    model = alg\n",
    "    clf = GridSearchCV(model,grid,cv=3)\n",
    "    clf.fit(X,y)\n",
    "    print(clf.best_params_)\n",
    "    ypredict = clf.predict(X)\n",
    "    print(sklearn.metrics.accuracy_score(y, ypredict))\n",
    "    print(sklearn.metrics.recall_score(y, ypredict, average=None))\n",
    "    print(sklearn.metrics.precision_score(y, ypredict, average=None))"
   ]
  },
  {
   "cell_type": "markdown",
   "metadata": {},
   "source": [
    "### Generalized Linear Model (Logistic Regression)"
   ]
  },
  {
   "cell_type": "code",
   "execution_count": 89,
   "metadata": {},
   "outputs": [],
   "source": [
    "def logistic(xlist, featurereduction = False):\n",
    "    # First check for statistical significance of features using statsmodels (unregularized)\n",
    "    if featurereduction:\n",
    "        X = df[featuresGLM]\n",
    "        y = df['Survived']\n",
    "        logisticmodel = sm.GLM(y, X, family=sm.families.Binomial())\n",
    "        results = logisticmodel.fit()\n",
    "        print(results.summary())\n",
    "    # Use sklearn regularized Logistic regression on reduced feature set\n",
    "    else:\n",
    "        model = LogisticRegression(solver='liblinear')\n",
    "        fpr,tpr = testmodel(xlist,model)\n",
    "        fig6, ax6 = plt.subplots(1,2)\n",
    "        ax6[0].bar(xlist, model.coef_[0])\n",
    "        ax6[0].set_xticklabels(xlist, rotation=90)\n",
    "        ax6[0].set_title('Coefficients')\n",
    "        ax6[1].plot(fpr, tpr)\n",
    "        ax6[1].set_title('ROC Curve')\n",
    "        fig6.tight_layout(pad=0.4, w_pad=0.5, h_pad=0.5)"
   ]
  },
  {
   "cell_type": "code",
   "execution_count": 84,
   "metadata": {},
   "outputs": [
    {
     "name": "stdout",
     "output_type": "stream",
     "text": [
      "                 Generalized Linear Model Regression Results                  \n",
      "==============================================================================\n",
      "Dep. Variable:               Survived   No. Observations:                  891\n",
      "Model:                            GLM   Df Residuals:                      858\n",
      "Model Family:                Binomial   Df Model:                           32\n",
      "Link Function:                  logit   Scale:                          1.0000\n",
      "Method:                          IRLS   Log-Likelihood:                -348.90\n",
      "Date:                Fri, 09 Aug 2019   Deviance:                       697.80\n",
      "Time:                        18:12:05   Pearson chi2:                     986.\n",
      "No. Iterations:                    19   Covariance Type:             nonrobust\n",
      "=====================================================================================\n",
      "                        coef    std err          z      P>|z|      [0.025      0.975]\n",
      "-------------------------------------------------------------------------------------\n",
      "Constant            -22.4060   1.77e+04     -0.001      0.999   -3.48e+04    3.47e+04\n",
      "Log Fare              1.8078      1.162      1.556      0.120      -0.469       4.085\n",
      "1                     2.5077      0.653      3.843      0.000       1.229       3.787\n",
      "2                     0.9229      0.333      2.771      0.006       0.270       1.576\n",
      "Cherbourg             0.6222      0.312      1.997      0.046       0.012       1.233\n",
      "Queenstown            0.0784      0.454      0.173      0.863      -0.811       0.968\n",
      "A                    19.1576   1.77e+04      0.001      0.999   -3.47e+04    3.48e+04\n",
      "B                    20.0056   1.77e+04      0.001      0.999   -3.47e+04    3.48e+04\n",
      "C                    19.7004   1.77e+04      0.001      0.999   -3.47e+04    3.48e+04\n",
      "D                    20.4455   1.77e+04      0.001      0.999   -3.47e+04    3.48e+04\n",
      "E                    20.4493   1.77e+04      0.001      0.999   -3.47e+04    3.48e+04\n",
      "F                    20.3066   1.77e+04      0.001      0.999   -3.47e+04    3.48e+04\n",
      "G                    20.2950   1.77e+04      0.001      0.999   -3.47e+04    3.48e+04\n",
      "Nickname              1.3927      0.412      3.379      0.001       0.585       2.201\n",
      "African               0.0574      1.263      0.045      0.964      -2.417       2.532\n",
      "EastAsian             1.9697      0.832      2.368      0.018       0.339       3.600\n",
      "EastEuropean          0.2064      0.510      0.405      0.686      -0.793       1.206\n",
      "French               -0.2104      0.451     -0.466      0.641      -1.095       0.674\n",
      "Germanic             -0.2060      0.587     -0.351      0.726      -1.356       0.944\n",
      "Hispanic             -0.3525      0.597     -0.591      0.555      -1.522       0.817\n",
      "Indian               -0.7232      0.947     -0.764      0.445      -2.580       1.133\n",
      "Irish                 0.4974      0.385      1.292      0.196      -0.257       1.252\n",
      "Italian              -1.4658      0.644     -2.276      0.023      -2.728      -0.204\n",
      "Jewish                0.4404      0.401      1.098      0.272      -0.346       1.227\n",
      "Muslim                0.0762      0.589      0.129      0.897      -1.077       1.230\n",
      "Nordic                0.0060      0.400      0.015      0.988      -0.779       0.791\n",
      "Female                3.1962      0.245     13.030      0.000       2.715       3.677\n",
      "Child                 3.0728      0.728      4.220      0.000       1.646       4.500\n",
      "Child Age            -0.2573      0.089     -2.892      0.004      -0.432      -0.083\n",
      "Adult Age            -2.3018      0.640     -3.598      0.000      -3.556      -1.048\n",
      "Family Size          -1.1001      0.203     -5.418      0.000      -1.498      -0.702\n",
      "Distant Relations     0.0232      0.080      0.289      0.772      -0.134       0.181\n",
      "Female Marital        1.5866      0.386      4.116      0.000       0.831       2.342\n",
      "=====================================================================================\n"
     ]
    }
   ],
   "source": [
    "logistic(featuresGLM, featurereduction= True)"
   ]
  },
  {
   "cell_type": "markdown",
   "metadata": {},
   "source": [
    "From the above results, the features can be reduced to the following list, based on accepting only features with p < 0.05."
   ]
  },
  {
   "cell_type": "code",
   "execution_count": 85,
   "metadata": {},
   "outputs": [],
   "source": [
    "reducedLR=['Log Fare','1','2','Cherbourg','Nickname','EastAsian','Italian',\n",
    "            'Female','Child','Child Age','Adult Age','Family Size','Female Marital']"
   ]
  },
  {
   "cell_type": "code",
   "execution_count": 90,
   "metadata": {},
   "outputs": [
    {
     "name": "stdout",
     "output_type": "stream",
     "text": [
      "Accuracy: 0.8305274971941639\n",
      "Precision: 0.8031746031746032\n",
      "Recall: 0.7397660818713451\n",
      "ROC AUC: 0.8134167385677309\n",
      "CV score: 0.8234567901234568\n"
     ]
    },
    {
     "data": {
      "image/png": "[encoded data removed]",
      "text/plain": [
       "<Figure size 432x288 with 2 Axes>"
      ]
     },
     "metadata": {
      "needs_background": "light"
     },
     "output_type": "display_data"
    }
   ],
   "source": [
    "logistic(reducedLR, featurereduction= False)"
   ]
  },
  {
   "cell_type": "markdown",
   "metadata": {},
   "source": [
    "The CV score is similar to the overall accuracy, indicating that there is not much overfitting.\n",
    "\n",
    "### Gradient Boosted Tree\n",
    "\n",
    "Features will be selected based on the feature importances from the full model using default hyperparameters."
   ]
  },
  {
   "cell_type": "code",
   "execution_count": 108,
   "metadata": {},
   "outputs": [
    {
     "name": "stdout",
     "output_type": "stream",
     "text": [
      "Accuracy: 0.898989898989899\n",
      "Precision: 0.9064516129032258\n",
      "Recall: 0.8216374269005848\n",
      "ROC AUC: 0.8844070558910938\n",
      "CV score: 0.8195286195286196\n"
     ]
    },
    {
     "data": {
      "image/png": "[encoded data removed]",
      "text/plain": [
       "<Figure size 720x360 with 1 Axes>"
      ]
     },
     "metadata": {
      "needs_background": "light"
     },
     "output_type": "display_data"
    }
   ],
   "source": [
    "model = GradientBoostingClassifier()\n",
    "fpr,tpr = testmodel(features,model)\n",
    "fig6, ax6 = plt.subplots(1)\n",
    "ax6.bar(features, model.feature_importances_)\n",
    "ax6.set_xticklabels(features, rotation=90)\n",
    "ax6.set_title('Feature Importances')\n",
    "fig6.set_size_inches((10,5))\n",
    "fig6.tight_layout(pad=0.4, w_pad=0.5, h_pad=0.5)"
   ]
  },
  {
   "cell_type": "markdown",
   "metadata": {},
   "source": [
    "Based on the importances, the following features are selected."
   ]
  },
  {
   "cell_type": "code",
   "execution_count": 109,
   "metadata": {},
   "outputs": [],
   "source": [
    "reducedGB = ['Log Fare','1','2','G','Nickname','Female','Child','Child Age','Adult Age',\n",
    "             'Family Size','Distant Relations']"
   ]
  },
  {
   "cell_type": "markdown",
   "metadata": {},
   "source": [
    "This algorithm has a few hyperparameters that must be tuned."
   ]
  },
  {
   "cell_type": "code",
   "execution_count": 118,
   "metadata": {},
   "outputs": [
    {
     "name": "stdout",
     "output_type": "stream",
     "text": [
      "{'learning_rate': 0.1, 'n_estimators': 20}\n",
      "0.8507295173961841\n",
      "[0.91256831 0.75146199]\n",
      "[0.85494881 0.84262295]\n"
     ]
    }
   ],
   "source": [
    "model = GradientBoostingClassifier()\n",
    "optimize(model, reducedGB, {'learning_rate':[0.01, 0.02, 0.05, 0.1, 0.2, 0.5],\n",
    "                           'n_estimators':[10,20,50,100]})"
   ]
  },
  {
   "cell_type": "code",
   "execution_count": 124,
   "metadata": {},
   "outputs": [
    {
     "name": "stdout",
     "output_type": "stream",
     "text": [
      "{'max_depth': 5, 'max_features': 'sqrt', 'min_samples_leaf': 3}\n",
      "0.8731762065095399\n",
      "[0.94717668 0.75438596]\n",
      "[0.86092715 0.8989547 ]\n"
     ]
    }
   ],
   "source": [
    "model = GradientBoostingClassifier(learning_rate=0.1, n_estimators =20)\n",
    "optimize(model, reducedGB, {'max_features':['log2','sqrt'],\n",
    "                           'max_depth':[2, 3, 4, 5, 7, 10],\n",
    "                           'min_samples_leaf':[2, 3, 4, 5, 7, 10]})"
   ]
  },
  {
   "cell_type": "code",
   "execution_count": 125,
   "metadata": {},
   "outputs": [
    {
     "name": "stdout",
     "output_type": "stream",
     "text": [
      "{'subsample': 1}\n",
      "0.8720538720538721\n",
      "[0.93260474 0.7748538 ]\n",
      "[0.86926995 0.87748344]\n"
     ]
    }
   ],
   "source": [
    "model = GradientBoostingClassifier(learning_rate=0.1, n_estimators =20, max_features='sqrt',\n",
    "                                  max_depth = 5, min_samples_leaf = 3)\n",
    "optimize(model, reducedGB, {'subsample':[0.5, 0.6, 0.7, 0.8, 0.9, 1]})"
   ]
  },
  {
   "cell_type": "code",
   "execution_count": 127,
   "metadata": {},
   "outputs": [
    {
     "name": "stdout",
     "output_type": "stream",
     "text": [
      "{'learning_rate': 0.1, 'n_estimators': 100}\n",
      "0.9180695847362514\n",
      "[0.96357013 0.84502924]\n",
      "[0.90893471 0.93527508]\n"
     ]
    }
   ],
   "source": [
    "model = GradientBoostingClassifier(max_features='sqrt',max_depth = 5, min_samples_leaf = 3,\n",
    "                                   subsample=1)\n",
    "optimize(model, reducedGB, {'learning_rate':[0.01, 0.02, 0.05, 0.1, 0.2, 0.5],\n",
    "                           'n_estimators':[10,20,50,100]})"
   ]
  },
  {
   "cell_type": "code",
   "execution_count": 133,
   "metadata": {},
   "outputs": [
    {
     "name": "stdout",
     "output_type": "stream",
     "text": [
      "{'max_depth': 3, 'min_samples_leaf': 4}\n",
      "0.8742985409652076\n",
      "[0.92531876 0.79239766]\n",
      "[0.87737478 0.86858974]\n"
     ]
    }
   ],
   "source": [
    "model = GradientBoostingClassifier(learning_rate=0.1, n_estimators =100,\n",
    "                                   max_features='sqrt',subsample=1)\n",
    "optimize(model, reducedGB, {'max_depth':[2, 3, 4, 5, 7, 10],\n",
    "                           'min_samples_leaf':[2, 3, 4, 5, 7, 10]})"
   ]
  },
  {
   "cell_type": "code",
   "execution_count": 100,
   "metadata": {},
   "outputs": [],
   "source": [
    "def treeboost(xlist):\n",
    "    model = GradientBoostingClassifier(learning_rate=0.1,n_estimators=100, max_depth=3,\n",
    "                                       min_samples_leaf=4, max_features='sqrt', subsample=1)\n",
    "    fpr,tpr = testmodel(xlist,model)\n",
    "    fig6, ax6 = plt.subplots(1,2)\n",
    "    ax6[0].bar(xlist, model.feature_importances_)\n",
    "    ax6[0].set_xticklabels(xlist, rotation=90)\n",
    "    ax6[0].set_title('Feature Importances')\n",
    "    ax6[1].plot(fpr,tpr)\n",
    "    ax6[1].set_title('ROC Curve')\n",
    "    fig6.set_size_inches((10,5))\n",
    "    fig6.tight_layout(pad=0.4, w_pad=0.5, h_pad=0.5)"
   ]
  },
  {
   "cell_type": "code",
   "execution_count": 134,
   "metadata": {},
   "outputs": [
    {
     "name": "stdout",
     "output_type": "stream",
     "text": [
      "Accuracy: 0.8473625140291807\n",
      "Precision: 0.8410596026490066\n",
      "Recall: 0.7426900584795322\n",
      "ROC AUC: 0.8276291822452306\n",
      "CV score: 0.8307519640852975\n"
     ]
    },
    {
     "data": {
      "image/png": "[encoded data removed]",
      "text/plain": [
       "<Figure size 720x360 with 2 Axes>"
      ]
     },
     "metadata": {
      "needs_background": "light"
     },
     "output_type": "display_data"
    }
   ],
   "source": [
    "treeboost(reducedGB)"
   ]
  },
  {
   "cell_type": "markdown",
   "metadata": {},
   "source": [
    "The CV result is similar to overall accuracy, so there is not much overfitting."
   ]
  },
  {
   "cell_type": "markdown",
   "metadata": {},
   "source": [
    "## Random Forest\n",
    "\n",
    "Feature selection:"
   ]
  },
  {
   "cell_type": "code",
   "execution_count": 139,
   "metadata": {
    "scrolled": false
   },
   "outputs": [
    {
     "name": "stderr",
     "output_type": "stream",
     "text": [
      "C:\\Users\\Nolan\\Anaconda3\\lib\\site-packages\\sklearn\\ensemble\\forest.py:246: FutureWarning: The default value of n_estimators will change from 10 in version 0.20 to 100 in 0.22.\n",
      "  \"10 in version 0.20 to 100 in 0.22.\", FutureWarning)\n"
     ]
    },
    {
     "name": "stdout",
     "output_type": "stream",
     "text": [
      "Accuracy: 0.9775533108866442\n",
      "Precision: 0.9908536585365854\n",
      "Recall: 0.9502923976608187\n",
      "CV score: 0.8023569023569023\n"
     ]
    },
    {
     "data": {
      "image/png": "[encoded data removed]",
      "text/plain": [
       "<Figure size 720x360 with 1 Axes>"
      ]
     },
     "metadata": {
      "needs_background": "light"
     },
     "output_type": "display_data"
    }
   ],
   "source": [
    "model = RandomForestClassifier()\n",
    "testmodel(features, model,ROC=False)\n",
    "fig6, ax6 = plt.subplots(1)\n",
    "ax6.bar(features, model.feature_importances_)\n",
    "ax6.set_xticklabels(features, rotation=90)\n",
    "ax6.set_title('Feature Importances')\n",
    "fig6.set_size_inches((10,5))\n",
    "fig6.tight_layout(pad=0.4, w_pad=0.5, h_pad=0.5)"
   ]
  },
  {
   "cell_type": "markdown",
   "metadata": {},
   "source": [
    "The reduced feature set is as follows."
   ]
  },
  {
   "cell_type": "code",
   "execution_count": 140,
   "metadata": {},
   "outputs": [],
   "source": [
    "reducedRF =['Log Fare','1','2','G','Cherbourg','Nickname','Female','Child','Child Age',\n",
    "             'Adult Age','Family Size','Distant Relations','Female Marital']"
   ]
  },
  {
   "cell_type": "markdown",
   "metadata": {},
   "source": [
    "Optimizing hyperparameters:"
   ]
  },
  {
   "cell_type": "code",
   "execution_count": 141,
   "metadata": {},
   "outputs": [
    {
     "name": "stdout",
     "output_type": "stream",
     "text": [
      "{'max_depth': 5, 'n_estimators': 50}\n",
      "0.8507295173961841\n",
      "[0.91256831 0.75146199]\n",
      "[0.85494881 0.84262295]\n"
     ]
    }
   ],
   "source": [
    "model = RandomForestClassifier()\n",
    "optimize(model, reducedRF, {'max_depth':[2,3,5,10],'n_estimators':[20,50,70,100]})"
   ]
  },
  {
   "cell_type": "code",
   "execution_count": 148,
   "metadata": {},
   "outputs": [
    {
     "name": "stdout",
     "output_type": "stream",
     "text": [
      "{'max_depth': 6, 'n_estimators': 60}\n",
      "0.8641975308641975\n",
      "[0.92531876 0.76608187]\n",
      "[0.86394558 0.86468647]\n"
     ]
    }
   ],
   "source": [
    "model = RandomForestClassifier()\n",
    "optimize(model, reducedRF, {'max_depth':[4,5,6,7],'n_estimators':[40, 40, 50, 60, 70]})"
   ]
  },
  {
   "cell_type": "code",
   "execution_count": 151,
   "metadata": {},
   "outputs": [
    {
     "name": "stdout",
     "output_type": "stream",
     "text": [
      "Accuracy: 0.8653198653198653\n",
      "Precision: 0.875\n",
      "Recall: 0.7573099415204678\n",
      "CV score: 0.831986531986532\n"
     ]
    },
    {
     "data": {
      "image/png": "[encoded data removed]",
      "text/plain": [
       "<Figure size 720x360 with 1 Axes>"
      ]
     },
     "metadata": {
      "needs_background": "light"
     },
     "output_type": "display_data"
    }
   ],
   "source": [
    "model = RandomForestClassifier(n_estimators=60,max_depth=6)\n",
    "testmodel(reducedRF, model,ROC=False)\n",
    "fig6, ax6 = plt.subplots(1)\n",
    "ax6.bar(reducedRF, model.feature_importances_)\n",
    "ax6.set_xticklabels(reducedRF, rotation=90)\n",
    "ax6.set_title('Feature Importances')\n",
    "fig6.set_size_inches((10,5))\n",
    "fig6.tight_layout(pad=0.4, w_pad=0.5, h_pad=0.5)"
   ]
  },
  {
   "cell_type": "markdown",
   "metadata": {},
   "source": [
    "The overall accuracy is a bit higher than the CV score, which indicates some overfitting. But the CV score is still the highest observed so far."
   ]
  },
  {
   "cell_type": "markdown",
   "metadata": {},
   "source": [
    "## Support Vector Machine\n",
    "\n",
    "For the rest of the models, the reduced feature lists from the logistic regression, boosted tree, and random forest will be combined."
   ]
  },
  {
   "cell_type": "code",
   "execution_count": 154,
   "metadata": {},
   "outputs": [
    {
     "name": "stdout",
     "output_type": "stream",
     "text": [
      "['1', 'Child Age', 'Nickname', 'EastAsian', 'Female Marital', 'Family Size', 'Female', 'Log Fare', 'G', 'Distant Relations', 'Italian', 'Adult Age', 'Cherbourg', 'Child', '2']\n"
     ]
    }
   ],
   "source": [
    "reducedgeneral = list(set(reducedRF+reducedLR+reducedRF))\n",
    "print(reducedgeneral)"
   ]
  },
  {
   "cell_type": "code",
   "execution_count": 159,
   "metadata": {},
   "outputs": [
    {
     "name": "stdout",
     "output_type": "stream",
     "text": [
      "{'C': 10, 'gamma': 0.1, 'kernel': 'rbf'}\n",
      "0.8619528619528619\n",
      "[0.92714026 0.75730994]\n",
      "[0.8597973  0.86622074]\n"
     ]
    }
   ],
   "source": [
    "model = sklearn.svm.SVC()\n",
    "optimize(model, reducedgeneral, {'gamma':[0.001, 0.01, 0.1, 1],'C':[1, 10, 100],'kernel':['rbf','linear']})"
   ]
  },
  {
   "cell_type": "code",
   "execution_count": 162,
   "metadata": {},
   "outputs": [
    {
     "name": "stdout",
     "output_type": "stream",
     "text": [
      "Accuracy: 0.8619528619528619\n",
      "Precision: 0.8662207357859532\n",
      "Recall: 0.7573099415204678\n",
      "ROC AUC: 0.8422250982647876\n",
      "CV score: 0.8252525252525252\n"
     ]
    },
    {
     "data": {
      "image/png": "[encoded data removed]",
      "text/plain": [
       "<Figure size 432x288 with 1 Axes>"
      ]
     },
     "metadata": {
      "needs_background": "light"
     },
     "output_type": "display_data"
    }
   ],
   "source": [
    "model = svm.SVC(kernel='rbf',gamma=0.1,C=10)\n",
    "fpr,tpr = testmodel(reducedgeneral,model)\n",
    "fig6, ax6 = plt.subplots(1)\n",
    "ax6.plot(fpr,tpr)\n",
    "ax6.set_title('ROC Curve')\n",
    "fig6.tight_layout(pad=0.4, w_pad=0.5, h_pad=0.5)"
   ]
  },
  {
   "cell_type": "markdown",
   "metadata": {},
   "source": [
    "Once again, a little overfitting is observed."
   ]
  },
  {
   "cell_type": "markdown",
   "metadata": {},
   "source": [
    "## k Nearest Neighbors"
   ]
  },
  {
   "cell_type": "code",
   "execution_count": 164,
   "metadata": {},
   "outputs": [
    {
     "name": "stdout",
     "output_type": "stream",
     "text": [
      "{'n_neighbors': 12}\n",
      "0.8237934904601572\n",
      "[0.9143898  0.67836257]\n",
      "[0.82026144 0.83154122]\n"
     ]
    }
   ],
   "source": [
    "model = KNeighborsClassifier()\n",
    "optimize(model, reducedgeneral, {'n_neighbors':[5,7,10,12,15]})"
   ]
  },
  {
   "cell_type": "code",
   "execution_count": 170,
   "metadata": {},
   "outputs": [
    {
     "name": "stdout",
     "output_type": "stream",
     "text": [
      "{'n_neighbors': 8}\n",
      "0.8428731762065096\n",
      "[0.93624772 0.69298246]\n",
      "[0.83037157 0.87132353]\n"
     ]
    }
   ],
   "source": [
    "optimize(model, reducedgeneral, {'n_neighbors':[6,7,8,9,10,11,12,13,14,15]})"
   ]
  },
  {
   "cell_type": "code",
   "execution_count": 180,
   "metadata": {},
   "outputs": [
    {
     "name": "stdout",
     "output_type": "stream",
     "text": [
      "Accuracy: 0.8428731762065096\n",
      "Precision: 0.8713235294117647\n",
      "Recall: 0.6929824561403509\n",
      "CV score: 0.8014590347923681\n"
     ]
    }
   ],
   "source": [
    "model = KNeighborsClassifier(n_neighbors=8)\n",
    "testmodel(reducedgeneral,model,ROC=False)"
   ]
  },
  {
   "cell_type": "markdown",
   "metadata": {},
   "source": [
    "Overfitting is observed again, which is expected for this algorithm, since it relies on local data rather than the entire set."
   ]
  },
  {
   "cell_type": "markdown",
   "metadata": {},
   "source": [
    "## Linear Discriminant Analysis"
   ]
  },
  {
   "cell_type": "code",
   "execution_count": 184,
   "metadata": {},
   "outputs": [
    {
     "name": "stdout",
     "output_type": "stream",
     "text": [
      "Accuracy: 0.8383838383838383\n",
      "Precision: 0.8132911392405063\n",
      "Recall: 0.7514619883040936\n",
      "ROC AUC: 0.8219969322212636\n",
      "CV score: 0.8228956228956228\n"
     ]
    },
    {
     "data": {
      "image/png": "[encoded data removed]",
      "text/plain": [
       "<Figure size 432x288 with 1 Axes>"
      ]
     },
     "metadata": {
      "needs_background": "light"
     },
     "output_type": "display_data"
    }
   ],
   "source": [
    "model = sklearn.discriminant_analysis.LinearDiscriminantAnalysis()\n",
    "fpr, tpr = testmodel(reducedgeneral, model)\n",
    "fig6, ax6 = plt.subplots(1)\n",
    "ax6.plot(fpr, tpr)\n",
    "ax6.set_title('ROC Curve')\n",
    "fig6.tight_layout(pad=0.4, w_pad=0.5, h_pad=0.5)"
   ]
  },
  {
   "cell_type": "markdown",
   "metadata": {},
   "source": [
    "There is not much overfitting with LDA, but accuracy is poor in general. The model may be too simple."
   ]
  },
  {
   "cell_type": "markdown",
   "metadata": {},
   "source": [
    "## Gaussian Naive Bayes"
   ]
  },
  {
   "cell_type": "code",
   "execution_count": 185,
   "metadata": {},
   "outputs": [
    {
     "name": "stdout",
     "output_type": "stream",
     "text": [
      "Accuracy: 0.8013468013468014\n",
      "Precision: 0.7350427350427351\n",
      "Recall: 0.7543859649122807\n",
      "CV score: 0.7891133557800225\n"
     ]
    }
   ],
   "source": [
    "model = GaussianNB()\n",
    "testmodel(reducedgeneral, model,ROC=False)"
   ]
  },
  {
   "cell_type": "markdown",
   "metadata": {},
   "source": [
    "The overfitting is minimal for Naive Bayes as well, but the accuracy is the worst of all the algorithms, possibly because the assumption of independence of features does not hold."
   ]
  },
  {
   "cell_type": "markdown",
   "metadata": {},
   "source": [
    "## Prediction\n",
    "\n",
    "Most of the models performed similarly except for kNN and Naive Bayes, which were a few percentage points lower in terms of cross validation. The best performing model in terms of overall accuracy and cross validation accuracy was the random forest model. Therefore this model is used to make the final predictions."
   ]
  },
  {
   "cell_type": "code",
   "execution_count": 187,
   "metadata": {},
   "outputs": [
    {
     "name": "stdout",
     "output_type": "stream",
     "text": [
      "Accuracy: 0.8641975308641975\n",
      "Precision: 0.867109634551495\n",
      "Recall: 0.7631578947368421\n",
      "ROC AUC: 0.8451490748729747\n",
      "CV score: 0.8301907968574636\n"
     ]
    },
    {
     "data": {
      "text/html": [
       "<div>\n",
       "<style scoped>\n",
       "    .dataframe tbody tr th:only-of-type {\n",
       "        vertical-align: middle;\n",
       "    }\n",
       "\n",
       "    .dataframe tbody tr th {\n",
       "        vertical-align: top;\n",
       "    }\n",
       "\n",
       "    .dataframe thead th {\n",
       "        text-align: right;\n",
       "    }\n",
       "</style>\n",
       "<table border=\"1\" class=\"dataframe\">\n",
       "  <thead>\n",
       "    <tr style=\"text-align: right;\">\n",
       "      <th></th>\n",
       "      <th>PassengerId</th>\n",
       "      <th>Survived</th>\n",
       "      <th>Pclass</th>\n",
       "      <th>Name</th>\n",
       "      <th>Sex</th>\n",
       "      <th>Age</th>\n",
       "      <th>SibSp</th>\n",
       "      <th>Parch</th>\n",
       "      <th>Ticket</th>\n",
       "      <th>Fare</th>\n",
       "      <th>...</th>\n",
       "      <th>G</th>\n",
       "      <th>1</th>\n",
       "      <th>2</th>\n",
       "      <th>3</th>\n",
       "      <th>Constant</th>\n",
       "      <th>Log Fare</th>\n",
       "      <th>Child</th>\n",
       "      <th>Child Age</th>\n",
       "      <th>Adult Age</th>\n",
       "      <th>Fare x Female</th>\n",
       "    </tr>\n",
       "  </thead>\n",
       "  <tbody>\n",
       "    <tr>\n",
       "      <th>0</th>\n",
       "      <td>892</td>\n",
       "      <td>0</td>\n",
       "      <td>3</td>\n",
       "      <td>Kelly, James</td>\n",
       "      <td>male</td>\n",
       "      <td>0.577287</td>\n",
       "      <td>0</td>\n",
       "      <td>0</td>\n",
       "      <td>330911</td>\n",
       "      <td>0.117625</td>\n",
       "      <td>...</td>\n",
       "      <td>0</td>\n",
       "      <td>0</td>\n",
       "      <td>0</td>\n",
       "      <td>1</td>\n",
       "      <td>1</td>\n",
       "      <td>0.365549</td>\n",
       "      <td>0</td>\n",
       "      <td>0.0</td>\n",
       "      <td>0.585942</td>\n",
       "      <td>0.000000</td>\n",
       "    </tr>\n",
       "    <tr>\n",
       "      <th>1</th>\n",
       "      <td>893</td>\n",
       "      <td>1</td>\n",
       "      <td>3</td>\n",
       "      <td>Wilkes, James</td>\n",
       "      <td>female</td>\n",
       "      <td>0.786449</td>\n",
       "      <td>1</td>\n",
       "      <td>0</td>\n",
       "      <td>363272</td>\n",
       "      <td>0.105168</td>\n",
       "      <td>...</td>\n",
       "      <td>0</td>\n",
       "      <td>0</td>\n",
       "      <td>0</td>\n",
       "      <td>1</td>\n",
       "      <td>1</td>\n",
       "      <td>0.348997</td>\n",
       "      <td>0</td>\n",
       "      <td>0.0</td>\n",
       "      <td>0.798240</td>\n",
       "      <td>0.883629</td>\n",
       "    </tr>\n",
       "    <tr>\n",
       "      <th>2</th>\n",
       "      <td>894</td>\n",
       "      <td>0</td>\n",
       "      <td>2</td>\n",
       "      <td>Myles, Thomas Francis</td>\n",
       "      <td>male</td>\n",
       "      <td>1.037444</td>\n",
       "      <td>0</td>\n",
       "      <td>0</td>\n",
       "      <td>240276</td>\n",
       "      <td>0.145544</td>\n",
       "      <td>...</td>\n",
       "      <td>0</td>\n",
       "      <td>0</td>\n",
       "      <td>1</td>\n",
       "      <td>0</td>\n",
       "      <td>1</td>\n",
       "      <td>0.397607</td>\n",
       "      <td>0</td>\n",
       "      <td>0.0</td>\n",
       "      <td>1.052997</td>\n",
       "      <td>0.000000</td>\n",
       "    </tr>\n",
       "    <tr>\n",
       "      <th>3</th>\n",
       "      <td>895</td>\n",
       "      <td>0</td>\n",
       "      <td>3</td>\n",
       "      <td>Wirz, Albert</td>\n",
       "      <td>male</td>\n",
       "      <td>0.451790</td>\n",
       "      <td>0</td>\n",
       "      <td>0</td>\n",
       "      <td>315154</td>\n",
       "      <td>0.130145</td>\n",
       "      <td>...</td>\n",
       "      <td>0</td>\n",
       "      <td>0</td>\n",
       "      <td>0</td>\n",
       "      <td>1</td>\n",
       "      <td>1</td>\n",
       "      <td>0.380686</td>\n",
       "      <td>0</td>\n",
       "      <td>0.0</td>\n",
       "      <td>0.458563</td>\n",
       "      <td>0.000000</td>\n",
       "    </tr>\n",
       "    <tr>\n",
       "      <th>4</th>\n",
       "      <td>896</td>\n",
       "      <td>1</td>\n",
       "      <td>3</td>\n",
       "      <td>Hirvonen, Alexander</td>\n",
       "      <td>female</td>\n",
       "      <td>0.368125</td>\n",
       "      <td>1</td>\n",
       "      <td>1</td>\n",
       "      <td>3101298</td>\n",
       "      <td>0.184607</td>\n",
       "      <td>...</td>\n",
       "      <td>1</td>\n",
       "      <td>0</td>\n",
       "      <td>0</td>\n",
       "      <td>1</td>\n",
       "      <td>1</td>\n",
       "      <td>0.434152</td>\n",
       "      <td>0</td>\n",
       "      <td>0.0</td>\n",
       "      <td>0.373644</td>\n",
       "      <td>1.099234</td>\n",
       "    </tr>\n",
       "    <tr>\n",
       "      <th>5</th>\n",
       "      <td>897</td>\n",
       "      <td>0</td>\n",
       "      <td>3</td>\n",
       "      <td>Svensson, Johan Cervin</td>\n",
       "      <td>male</td>\n",
       "      <td>0.234261</td>\n",
       "      <td>0</td>\n",
       "      <td>0</td>\n",
       "      <td>7538</td>\n",
       "      <td>0.138596</td>\n",
       "      <td>...</td>\n",
       "      <td>1</td>\n",
       "      <td>0</td>\n",
       "      <td>0</td>\n",
       "      <td>1</td>\n",
       "      <td>1</td>\n",
       "      <td>0.390182</td>\n",
       "      <td>0</td>\n",
       "      <td>0.0</td>\n",
       "      <td>0.237774</td>\n",
       "      <td>0.000000</td>\n",
       "    </tr>\n",
       "    <tr>\n",
       "      <th>6</th>\n",
       "      <td>898</td>\n",
       "      <td>1</td>\n",
       "      <td>3</td>\n",
       "      <td>Connolly, Kate</td>\n",
       "      <td>female</td>\n",
       "      <td>0.501989</td>\n",
       "      <td>0</td>\n",
       "      <td>0</td>\n",
       "      <td>330972</td>\n",
       "      <td>0.114621</td>\n",
       "      <td>...</td>\n",
       "      <td>0</td>\n",
       "      <td>0</td>\n",
       "      <td>0</td>\n",
       "      <td>1</td>\n",
       "      <td>1</td>\n",
       "      <td>0.361704</td>\n",
       "      <td>0</td>\n",
       "      <td>0.0</td>\n",
       "      <td>0.509515</td>\n",
       "      <td>0.915801</td>\n",
       "    </tr>\n",
       "    <tr>\n",
       "      <th>7</th>\n",
       "      <td>899</td>\n",
       "      <td>0</td>\n",
       "      <td>2</td>\n",
       "      <td>Caldwell, Albert Francis</td>\n",
       "      <td>male</td>\n",
       "      <td>0.435057</td>\n",
       "      <td>1</td>\n",
       "      <td>1</td>\n",
       "      <td>248738</td>\n",
       "      <td>0.435694</td>\n",
       "      <td>...</td>\n",
       "      <td>0</td>\n",
       "      <td>0</td>\n",
       "      <td>1</td>\n",
       "      <td>0</td>\n",
       "      <td>1</td>\n",
       "      <td>0.570830</td>\n",
       "      <td>0</td>\n",
       "      <td>0.0</td>\n",
       "      <td>0.441580</td>\n",
       "      <td>0.000000</td>\n",
       "    </tr>\n",
       "    <tr>\n",
       "      <th>8</th>\n",
       "      <td>900</td>\n",
       "      <td>1</td>\n",
       "      <td>3</td>\n",
       "      <td>Abrahim, Joseph</td>\n",
       "      <td>female</td>\n",
       "      <td>0.301193</td>\n",
       "      <td>0</td>\n",
       "      <td>0</td>\n",
       "      <td>2657</td>\n",
       "      <td>0.108611</td>\n",
       "      <td>...</td>\n",
       "      <td>0</td>\n",
       "      <td>0</td>\n",
       "      <td>0</td>\n",
       "      <td>1</td>\n",
       "      <td>1</td>\n",
       "      <td>0.353738</td>\n",
       "      <td>0</td>\n",
       "      <td>0.0</td>\n",
       "      <td>0.305709</td>\n",
       "      <td>0.895633</td>\n",
       "    </tr>\n",
       "    <tr>\n",
       "      <th>9</th>\n",
       "      <td>901</td>\n",
       "      <td>0</td>\n",
       "      <td>3</td>\n",
       "      <td>Davies, John Samuel</td>\n",
       "      <td>male</td>\n",
       "      <td>0.351392</td>\n",
       "      <td>2</td>\n",
       "      <td>0</td>\n",
       "      <td>A/4 48871</td>\n",
       "      <td>0.362828</td>\n",
       "      <td>...</td>\n",
       "      <td>1</td>\n",
       "      <td>0</td>\n",
       "      <td>0</td>\n",
       "      <td>1</td>\n",
       "      <td>1</td>\n",
       "      <td>0.541235</td>\n",
       "      <td>0</td>\n",
       "      <td>0.0</td>\n",
       "      <td>0.356660</td>\n",
       "      <td>0.000000</td>\n",
       "    </tr>\n",
       "    <tr>\n",
       "      <th>10</th>\n",
       "      <td>902</td>\n",
       "      <td>0</td>\n",
       "      <td>3</td>\n",
       "      <td>Ilieff, Ylio</td>\n",
       "      <td>male</td>\n",
       "      <td>0.475040</td>\n",
       "      <td>0</td>\n",
       "      <td>0</td>\n",
       "      <td>349220</td>\n",
       "      <td>0.118626</td>\n",
       "      <td>...</td>\n",
       "      <td>0</td>\n",
       "      <td>0</td>\n",
       "      <td>0</td>\n",
       "      <td>1</td>\n",
       "      <td>1</td>\n",
       "      <td>0.366810</td>\n",
       "      <td>0</td>\n",
       "      <td>0.0</td>\n",
       "      <td>0.482162</td>\n",
       "      <td>0.000000</td>\n",
       "    </tr>\n",
       "    <tr>\n",
       "      <th>11</th>\n",
       "      <td>903</td>\n",
       "      <td>0</td>\n",
       "      <td>1</td>\n",
       "      <td>Jones, Charles Cresson</td>\n",
       "      <td>male</td>\n",
       "      <td>0.769716</td>\n",
       "      <td>0</td>\n",
       "      <td>0</td>\n",
       "      <td>694</td>\n",
       "      <td>0.390623</td>\n",
       "      <td>...</td>\n",
       "      <td>0</td>\n",
       "      <td>1</td>\n",
       "      <td>0</td>\n",
       "      <td>0</td>\n",
       "      <td>1</td>\n",
       "      <td>0.553147</td>\n",
       "      <td>0</td>\n",
       "      <td>0.0</td>\n",
       "      <td>0.781256</td>\n",
       "      <td>0.000000</td>\n",
       "    </tr>\n",
       "    <tr>\n",
       "      <th>12</th>\n",
       "      <td>904</td>\n",
       "      <td>1</td>\n",
       "      <td>1</td>\n",
       "      <td>Snyder, John Pillsbury</td>\n",
       "      <td>female</td>\n",
       "      <td>0.384858</td>\n",
       "      <td>1</td>\n",
       "      <td>0</td>\n",
       "      <td>21228</td>\n",
       "      <td>1.235970</td>\n",
       "      <td>...</td>\n",
       "      <td>0</td>\n",
       "      <td>1</td>\n",
       "      <td>0</td>\n",
       "      <td>0</td>\n",
       "      <td>1</td>\n",
       "      <td>0.742162</td>\n",
       "      <td>0</td>\n",
       "      <td>0.0</td>\n",
       "      <td>0.390628</td>\n",
       "      <td>1.879087</td>\n",
       "    </tr>\n",
       "    <tr>\n",
       "      <th>13</th>\n",
       "      <td>905</td>\n",
       "      <td>0</td>\n",
       "      <td>2</td>\n",
       "      <td>Howard, Benjamin</td>\n",
       "      <td>male</td>\n",
       "      <td>1.054177</td>\n",
       "      <td>1</td>\n",
       "      <td>0</td>\n",
       "      <td>24065</td>\n",
       "      <td>0.390623</td>\n",
       "      <td>...</td>\n",
       "      <td>0</td>\n",
       "      <td>0</td>\n",
       "      <td>1</td>\n",
       "      <td>0</td>\n",
       "      <td>1</td>\n",
       "      <td>0.553147</td>\n",
       "      <td>0</td>\n",
       "      <td>0.0</td>\n",
       "      <td>1.069981</td>\n",
       "      <td>0.000000</td>\n",
       "    </tr>\n",
       "    <tr>\n",
       "      <th>14</th>\n",
       "      <td>906</td>\n",
       "      <td>1</td>\n",
       "      <td>1</td>\n",
       "      <td>Chaffee, Herbert Fuller</td>\n",
       "      <td>female</td>\n",
       "      <td>0.786449</td>\n",
       "      <td>1</td>\n",
       "      <td>0</td>\n",
       "      <td>W.E.P. 5734</td>\n",
       "      <td>0.919090</td>\n",
       "      <td>...</td>\n",
       "      <td>0</td>\n",
       "      <td>1</td>\n",
       "      <td>0</td>\n",
       "      <td>0</td>\n",
       "      <td>1</td>\n",
       "      <td>0.693139</td>\n",
       "      <td>0</td>\n",
       "      <td>0.0</td>\n",
       "      <td>0.798240</td>\n",
       "      <td>1.754965</td>\n",
       "    </tr>\n",
       "    <tr>\n",
       "      <th>15</th>\n",
       "      <td>907</td>\n",
       "      <td>1</td>\n",
       "      <td>2</td>\n",
       "      <td>del Carlo, Sebastiano</td>\n",
       "      <td>female</td>\n",
       "      <td>0.401591</td>\n",
       "      <td>1</td>\n",
       "      <td>0</td>\n",
       "      <td>SC/PARIS 2167</td>\n",
       "      <td>0.416476</td>\n",
       "      <td>...</td>\n",
       "      <td>0</td>\n",
       "      <td>0</td>\n",
       "      <td>1</td>\n",
       "      <td>0</td>\n",
       "      <td>1</td>\n",
       "      <td>0.563517</td>\n",
       "      <td>0</td>\n",
       "      <td>0.0</td>\n",
       "      <td>0.407612</td>\n",
       "      <td>1.426774</td>\n",
       "    </tr>\n",
       "    <tr>\n",
       "      <th>16</th>\n",
       "      <td>908</td>\n",
       "      <td>0</td>\n",
       "      <td>2</td>\n",
       "      <td>Keane, Daniel</td>\n",
       "      <td>male</td>\n",
       "      <td>0.585654</td>\n",
       "      <td>0</td>\n",
       "      <td>0</td>\n",
       "      <td>233734</td>\n",
       "      <td>0.185546</td>\n",
       "      <td>...</td>\n",
       "      <td>0</td>\n",
       "      <td>0</td>\n",
       "      <td>1</td>\n",
       "      <td>0</td>\n",
       "      <td>1</td>\n",
       "      <td>0.434940</td>\n",
       "      <td>0</td>\n",
       "      <td>0.0</td>\n",
       "      <td>0.594434</td>\n",
       "      <td>0.000000</td>\n",
       "    </tr>\n",
       "    <tr>\n",
       "      <th>17</th>\n",
       "      <td>909</td>\n",
       "      <td>0</td>\n",
       "      <td>3</td>\n",
       "      <td>Assaf, Gerios</td>\n",
       "      <td>male</td>\n",
       "      <td>0.351392</td>\n",
       "      <td>0</td>\n",
       "      <td>0</td>\n",
       "      <td>2692</td>\n",
       "      <td>0.108548</td>\n",
       "      <td>...</td>\n",
       "      <td>0</td>\n",
       "      <td>0</td>\n",
       "      <td>0</td>\n",
       "      <td>1</td>\n",
       "      <td>1</td>\n",
       "      <td>0.353652</td>\n",
       "      <td>0</td>\n",
       "      <td>0.0</td>\n",
       "      <td>0.356660</td>\n",
       "      <td>0.000000</td>\n",
       "    </tr>\n",
       "    <tr>\n",
       "      <th>18</th>\n",
       "      <td>910</td>\n",
       "      <td>1</td>\n",
       "      <td>3</td>\n",
       "      <td>Ilmakangas, Ida Livija</td>\n",
       "      <td>female</td>\n",
       "      <td>0.451790</td>\n",
       "      <td>1</td>\n",
       "      <td>0</td>\n",
       "      <td>STON/O2. 3101270</td>\n",
       "      <td>0.119065</td>\n",
       "      <td>...</td>\n",
       "      <td>1</td>\n",
       "      <td>0</td>\n",
       "      <td>0</td>\n",
       "      <td>1</td>\n",
       "      <td>1</td>\n",
       "      <td>0.367360</td>\n",
       "      <td>0</td>\n",
       "      <td>0.0</td>\n",
       "      <td>0.458563</td>\n",
       "      <td>0.930124</td>\n",
       "    </tr>\n",
       "    <tr>\n",
       "      <th>19</th>\n",
       "      <td>911</td>\n",
       "      <td>1</td>\n",
       "      <td>3</td>\n",
       "      <td>Assaf Khalil, Mariana</td>\n",
       "      <td>female</td>\n",
       "      <td>0.752983</td>\n",
       "      <td>0</td>\n",
       "      <td>0</td>\n",
       "      <td>2696</td>\n",
       "      <td>0.108548</td>\n",
       "      <td>...</td>\n",
       "      <td>0</td>\n",
       "      <td>0</td>\n",
       "      <td>0</td>\n",
       "      <td>1</td>\n",
       "      <td>1</td>\n",
       "      <td>0.353652</td>\n",
       "      <td>0</td>\n",
       "      <td>0.0</td>\n",
       "      <td>0.764272</td>\n",
       "      <td>0.895416</td>\n",
       "    </tr>\n",
       "  </tbody>\n",
       "</table>\n",
       "<p>20 rows × 89 columns</p>\n",
       "</div>"
      ],
      "text/plain": [
       "    PassengerId  Survived  Pclass                      Name     Sex       Age  \\\n",
       "0           892         0       3              Kelly, James    male  0.577287   \n",
       "1           893         1       3             Wilkes, James  female  0.786449   \n",
       "2           894         0       2     Myles, Thomas Francis    male  1.037444   \n",
       "3           895         0       3              Wirz, Albert    male  0.451790   \n",
       "4           896         1       3       Hirvonen, Alexander  female  0.368125   \n",
       "5           897         0       3    Svensson, Johan Cervin    male  0.234261   \n",
       "6           898         1       3            Connolly, Kate  female  0.501989   \n",
       "7           899         0       2  Caldwell, Albert Francis    male  0.435057   \n",
       "8           900         1       3           Abrahim, Joseph  female  0.301193   \n",
       "9           901         0       3       Davies, John Samuel    male  0.351392   \n",
       "10          902         0       3              Ilieff, Ylio    male  0.475040   \n",
       "11          903         0       1    Jones, Charles Cresson    male  0.769716   \n",
       "12          904         1       1    Snyder, John Pillsbury  female  0.384858   \n",
       "13          905         0       2          Howard, Benjamin    male  1.054177   \n",
       "14          906         1       1   Chaffee, Herbert Fuller  female  0.786449   \n",
       "15          907         1       2     del Carlo, Sebastiano  female  0.401591   \n",
       "16          908         0       2             Keane, Daniel    male  0.585654   \n",
       "17          909         0       3             Assaf, Gerios    male  0.351392   \n",
       "18          910         1       3    Ilmakangas, Ida Livija  female  0.451790   \n",
       "19          911         1       3     Assaf Khalil, Mariana  female  0.752983   \n",
       "\n",
       "    SibSp  Parch            Ticket      Fare  ...  G  1  2  3  Constant  \\\n",
       "0       0      0            330911  0.117625  ...  0  0  0  1         1   \n",
       "1       1      0            363272  0.105168  ...  0  0  0  1         1   \n",
       "2       0      0            240276  0.145544  ...  0  0  1  0         1   \n",
       "3       0      0            315154  0.130145  ...  0  0  0  1         1   \n",
       "4       1      1           3101298  0.184607  ...  1  0  0  1         1   \n",
       "5       0      0              7538  0.138596  ...  1  0  0  1         1   \n",
       "6       0      0            330972  0.114621  ...  0  0  0  1         1   \n",
       "7       1      1            248738  0.435694  ...  0  0  1  0         1   \n",
       "8       0      0              2657  0.108611  ...  0  0  0  1         1   \n",
       "9       2      0         A/4 48871  0.362828  ...  1  0  0  1         1   \n",
       "10      0      0            349220  0.118626  ...  0  0  0  1         1   \n",
       "11      0      0               694  0.390623  ...  0  1  0  0         1   \n",
       "12      1      0             21228  1.235970  ...  0  1  0  0         1   \n",
       "13      1      0             24065  0.390623  ...  0  0  1  0         1   \n",
       "14      1      0       W.E.P. 5734  0.919090  ...  0  1  0  0         1   \n",
       "15      1      0     SC/PARIS 2167  0.416476  ...  0  0  1  0         1   \n",
       "16      0      0            233734  0.185546  ...  0  0  1  0         1   \n",
       "17      0      0              2692  0.108548  ...  0  0  0  1         1   \n",
       "18      1      0  STON/O2. 3101270  0.119065  ...  1  0  0  1         1   \n",
       "19      0      0              2696  0.108548  ...  0  0  0  1         1   \n",
       "\n",
       "    Log Fare Child Child Age Adult Age Fare x Female  \n",
       "0   0.365549     0       0.0  0.585942      0.000000  \n",
       "1   0.348997     0       0.0  0.798240      0.883629  \n",
       "2   0.397607     0       0.0  1.052997      0.000000  \n",
       "3   0.380686     0       0.0  0.458563      0.000000  \n",
       "4   0.434152     0       0.0  0.373644      1.099234  \n",
       "5   0.390182     0       0.0  0.237774      0.000000  \n",
       "6   0.361704     0       0.0  0.509515      0.915801  \n",
       "7   0.570830     0       0.0  0.441580      0.000000  \n",
       "8   0.353738     0       0.0  0.305709      0.895633  \n",
       "9   0.541235     0       0.0  0.356660      0.000000  \n",
       "10  0.366810     0       0.0  0.482162      0.000000  \n",
       "11  0.553147     0       0.0  0.781256      0.000000  \n",
       "12  0.742162     0       0.0  0.390628      1.879087  \n",
       "13  0.553147     0       0.0  1.069981      0.000000  \n",
       "14  0.693139     0       0.0  0.798240      1.754965  \n",
       "15  0.563517     0       0.0  0.407612      1.426774  \n",
       "16  0.434940     0       0.0  0.594434      0.000000  \n",
       "17  0.353652     0       0.0  0.356660      0.000000  \n",
       "18  0.367360     0       0.0  0.458563      0.930124  \n",
       "19  0.353652     0       0.0  0.764272      0.895416  \n",
       "\n",
       "[20 rows x 89 columns]"
      ]
     },
     "execution_count": 187,
     "metadata": {},
     "output_type": "execute_result"
    }
   ],
   "source": [
    "model = RandomForestClassifier(n_estimators=60,max_depth=6)\n",
    "testmodel(reducedRF,model)\n",
    "test['Survived']=model.predict(test[reducedRF])\n",
    "test.head(20)"
   ]
  }
 ],
 "metadata": {
  "kernelspec": {
   "display_name": "Python 3",
   "language": "python",
   "name": "python3"
  },
  "language_info": {
   "codemirror_mode": {
    "name": "ipython",
    "version": 3
   },
   "file_extension": ".py",
   "mimetype": "text/x-python",
   "name": "python",
   "nbconvert_exporter": "python",
   "pygments_lexer": "ipython3",
   "version": "3.7.3"
  }
 },
 "nbformat": 4,
 "nbformat_minor": 2
}
